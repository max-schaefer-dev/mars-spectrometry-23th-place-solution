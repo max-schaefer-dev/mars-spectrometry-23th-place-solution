{
  "cells": [
    {
      "cell_type": "markdown",
      "metadata": {
        "id": "pxUpv5xxLM26"
      },
      "source": [
        "# 1. Imports"
      ]
    },
    {
      "cell_type": "code",
      "execution_count": null,
      "metadata": {
        "id": "p_LBeGJJ_3M8"
      },
      "outputs": [],
      "source": [
        "!pip install pandas-path, catboost, xgboost\n",
        "!pip install --upgrade matplotlib\n",
        "\n",
        "!git clone --recursive https://github.com/Microsoft/LightGBM\n",
        "!cd LightGBM && rm -rf build && mkdir build && cd build && cmake -DUSE_GPU=1 ../../LightGBM && make -j4 && cd ../python-package && python3 setup.py install --precompile --gpu;"
      ]
    },
    {
      "cell_type": "code",
      "execution_count": 44,
      "metadata": {
        "id": "G8OIWKKF4f5i"
      },
      "outputs": [],
      "source": [
        "import itertools\n",
        "from pathlib import Path\n",
        "from pandas_path import path\n",
        "from pprint import pprint\n",
        "import numpy as np\n",
        "import pandas as pd\n",
        "\n",
        "# visualization\n",
        "from matplotlib import pyplot as plt, cm\n",
        "import seaborn as sns\n",
        "from tqdm.notebook import tqdm\n",
        "\n",
        "# modeling\n",
        "from sklearn.dummy import DummyClassifier\n",
        "from sklearn.preprocessing import minmax_scale\n",
        "from sklearn.linear_model import LogisticRegression\n",
        "from sklearn.metrics import make_scorer, log_loss\n",
        "from sklearn.model_selection import StratifiedKFold, cross_val_score\n",
        "\n",
        "# models\n",
        "from xgboost import XGBClassifier\n",
        "from catboost import CatBoostClassifier\n",
        "from lightgbm import LGBMClassifier\n",
        "\n",
        "pd.set_option(\"max_colwidth\", 80)\n",
        "RANDOM_SEED = 42  # For reproducibility"
      ]
    },
    {
      "cell_type": "markdown",
      "metadata": {
        "id": "y4NhhHisLP_L"
      },
      "source": [
        "# 2. Data"
      ]
    },
    {
      "cell_type": "markdown",
      "metadata": {},
      "source": [
        "Competition data isn´t publicly available. Following data structure is expected:\n",
        "\n",
        "```\n",
        "../mars_spectrometry/\n",
        "├── train_features\n",
        "│   ├── sample_id_1.csv\n",
        "│   ├── sample_id_2.csv\n",
        "│   ├── sample_id_3.csv\n",
        "│   └── ...\n",
        "├── val_features\n",
        "│   ├── ...\n",
        "│   ...\n",
        "├── test_features\n",
        "│   ├── ...\n",
        "│   ...\n",
        "├── metadata.csv\n",
        "├── train_labels.csv\n",
        "├── val_labels.csv\n",
        "└── submission_format.csv\n",
        "```"
      ]
    },
    {
      "cell_type": "markdown",
      "metadata": {
        "id": "02KAwxWdSNUW"
      },
      "source": [
        "# 3. EDA"
      ]
    },
    {
      "cell_type": "code",
      "execution_count": 4,
      "metadata": {
        "colab": {
          "base_uri": "https://localhost:8080/",
          "height": 238
        },
        "id": "2zy84_AVANcG",
        "outputId": "56efeb8c-1afd-45d9-baf3-edeea5bc0327"
      },
      "outputs": [
        {
          "data": {
            "text/html": [
              "\n",
              "  <div id=\"df-1ce3de15-4a9c-40ba-9612-4a91e42ec390\">\n",
              "    <div class=\"colab-df-container\">\n",
              "      <div>\n",
              "<style scoped>\n",
              "    .dataframe tbody tr th:only-of-type {\n",
              "        vertical-align: middle;\n",
              "    }\n",
              "\n",
              "    .dataframe tbody tr th {\n",
              "        vertical-align: top;\n",
              "    }\n",
              "\n",
              "    .dataframe thead th {\n",
              "        text-align: right;\n",
              "    }\n",
              "</style>\n",
              "<table border=\"1\" class=\"dataframe\">\n",
              "  <thead>\n",
              "    <tr style=\"text-align: right;\">\n",
              "      <th></th>\n",
              "      <th>split</th>\n",
              "      <th>instrument_type</th>\n",
              "      <th>features_path</th>\n",
              "      <th>features_md5_hash</th>\n",
              "    </tr>\n",
              "    <tr>\n",
              "      <th>sample_id</th>\n",
              "      <th></th>\n",
              "      <th></th>\n",
              "      <th></th>\n",
              "      <th></th>\n",
              "    </tr>\n",
              "  </thead>\n",
              "  <tbody>\n",
              "    <tr>\n",
              "      <th>S0000</th>\n",
              "      <td>train</td>\n",
              "      <td>commercial</td>\n",
              "      <td>train_features/S0000.csv</td>\n",
              "      <td>017b9a71a702e81a828e6242aa15f049</td>\n",
              "    </tr>\n",
              "    <tr>\n",
              "      <th>S0001</th>\n",
              "      <td>train</td>\n",
              "      <td>commercial</td>\n",
              "      <td>train_features/S0001.csv</td>\n",
              "      <td>0d09840214054d254bd49436c6a6f315</td>\n",
              "    </tr>\n",
              "    <tr>\n",
              "      <th>S0002</th>\n",
              "      <td>train</td>\n",
              "      <td>commercial</td>\n",
              "      <td>train_features/S0002.csv</td>\n",
              "      <td>3f58b3c9b001bfed6ed4e4f757083e09</td>\n",
              "    </tr>\n",
              "    <tr>\n",
              "      <th>S0003</th>\n",
              "      <td>train</td>\n",
              "      <td>commercial</td>\n",
              "      <td>train_features/S0003.csv</td>\n",
              "      <td>e9a12f96114a2fda60b36f4c0f513fb1</td>\n",
              "    </tr>\n",
              "    <tr>\n",
              "      <th>S0004</th>\n",
              "      <td>train</td>\n",
              "      <td>commercial</td>\n",
              "      <td>train_features/S0004.csv</td>\n",
              "      <td>b67603d3931897bfa796ac42cc16de78</td>\n",
              "    </tr>\n",
              "  </tbody>\n",
              "</table>\n",
              "</div>\n",
              "      <button class=\"colab-df-convert\" onclick=\"convertToInteractive('df-1ce3de15-4a9c-40ba-9612-4a91e42ec390')\"\n",
              "              title=\"Convert this dataframe to an interactive table.\"\n",
              "              style=\"display:none;\">\n",
              "        \n",
              "  <svg xmlns=\"http://www.w3.org/2000/svg\" height=\"24px\"viewBox=\"0 0 24 24\"\n",
              "       width=\"24px\">\n",
              "    <path d=\"M0 0h24v24H0V0z\" fill=\"none\"/>\n",
              "    <path d=\"M18.56 5.44l.94 2.06.94-2.06 2.06-.94-2.06-.94-.94-2.06-.94 2.06-2.06.94zm-11 1L8.5 8.5l.94-2.06 2.06-.94-2.06-.94L8.5 2.5l-.94 2.06-2.06.94zm10 10l.94 2.06.94-2.06 2.06-.94-2.06-.94-.94-2.06-.94 2.06-2.06.94z\"/><path d=\"M17.41 7.96l-1.37-1.37c-.4-.4-.92-.59-1.43-.59-.52 0-1.04.2-1.43.59L10.3 9.45l-7.72 7.72c-.78.78-.78 2.05 0 2.83L4 21.41c.39.39.9.59 1.41.59.51 0 1.02-.2 1.41-.59l7.78-7.78 2.81-2.81c.8-.78.8-2.07 0-2.86zM5.41 20L4 18.59l7.72-7.72 1.47 1.35L5.41 20z\"/>\n",
              "  </svg>\n",
              "      </button>\n",
              "      \n",
              "  <style>\n",
              "    .colab-df-container {\n",
              "      display:flex;\n",
              "      flex-wrap:wrap;\n",
              "      gap: 12px;\n",
              "    }\n",
              "\n",
              "    .colab-df-convert {\n",
              "      background-color: #E8F0FE;\n",
              "      border: none;\n",
              "      border-radius: 50%;\n",
              "      cursor: pointer;\n",
              "      display: none;\n",
              "      fill: #1967D2;\n",
              "      height: 32px;\n",
              "      padding: 0 0 0 0;\n",
              "      width: 32px;\n",
              "    }\n",
              "\n",
              "    .colab-df-convert:hover {\n",
              "      background-color: #E2EBFA;\n",
              "      box-shadow: 0px 1px 2px rgba(60, 64, 67, 0.3), 0px 1px 3px 1px rgba(60, 64, 67, 0.15);\n",
              "      fill: #174EA6;\n",
              "    }\n",
              "\n",
              "    [theme=dark] .colab-df-convert {\n",
              "      background-color: #3B4455;\n",
              "      fill: #D2E3FC;\n",
              "    }\n",
              "\n",
              "    [theme=dark] .colab-df-convert:hover {\n",
              "      background-color: #434B5C;\n",
              "      box-shadow: 0px 1px 3px 1px rgba(0, 0, 0, 0.15);\n",
              "      filter: drop-shadow(0px 1px 2px rgba(0, 0, 0, 0.3));\n",
              "      fill: #FFFFFF;\n",
              "    }\n",
              "  </style>\n",
              "\n",
              "      <script>\n",
              "        const buttonEl =\n",
              "          document.querySelector('#df-1ce3de15-4a9c-40ba-9612-4a91e42ec390 button.colab-df-convert');\n",
              "        buttonEl.style.display =\n",
              "          google.colab.kernel.accessAllowed ? 'block' : 'none';\n",
              "\n",
              "        async function convertToInteractive(key) {\n",
              "          const element = document.querySelector('#df-1ce3de15-4a9c-40ba-9612-4a91e42ec390');\n",
              "          const dataTable =\n",
              "            await google.colab.kernel.invokeFunction('convertToInteractive',\n",
              "                                                     [key], {});\n",
              "          if (!dataTable) return;\n",
              "\n",
              "          const docLinkHtml = 'Like what you see? Visit the ' +\n",
              "            '<a target=\"_blank\" href=https://colab.research.google.com/notebooks/data_table.ipynb>data table notebook</a>'\n",
              "            + ' to learn more about interactive tables.';\n",
              "          element.innerHTML = '';\n",
              "          dataTable['output_type'] = 'display_data';\n",
              "          await google.colab.output.renderOutput(dataTable, element);\n",
              "          const docLink = document.createElement('div');\n",
              "          docLink.innerHTML = docLinkHtml;\n",
              "          element.appendChild(docLink);\n",
              "        }\n",
              "      </script>\n",
              "    </div>\n",
              "  </div>\n",
              "  "
            ],
            "text/plain": [
              "           split instrument_type             features_path  \\\n",
              "sample_id                                                    \n",
              "S0000      train      commercial  train_features/S0000.csv   \n",
              "S0001      train      commercial  train_features/S0001.csv   \n",
              "S0002      train      commercial  train_features/S0002.csv   \n",
              "S0003      train      commercial  train_features/S0003.csv   \n",
              "S0004      train      commercial  train_features/S0004.csv   \n",
              "\n",
              "                          features_md5_hash  \n",
              "sample_id                                    \n",
              "S0000      017b9a71a702e81a828e6242aa15f049  \n",
              "S0001      0d09840214054d254bd49436c6a6f315  \n",
              "S0002      3f58b3c9b001bfed6ed4e4f757083e09  \n",
              "S0003      e9a12f96114a2fda60b36f4c0f513fb1  \n",
              "S0004      b67603d3931897bfa796ac42cc16de78  "
            ]
          },
          "execution_count": 4,
          "metadata": {},
          "output_type": "execute_result"
        }
      ],
      "source": [
        "DATA_PATH = Path.cwd().parent / \"/content/mars_spectrometry/\"\n",
        "metadata = pd.read_csv(DATA_PATH / \"metadata.csv\", index_col=\"sample_id\")\n",
        "metadata.head()"
      ]
    },
    {
      "cell_type": "code",
      "execution_count": 5,
      "metadata": {
        "colab": {
          "base_uri": "https://localhost:8080/"
        },
        "id": "bpH5jkALANuY",
        "outputId": "2250ebe8-a8fa-4d6d-e3ce-a7b400d6c88d"
      },
      "outputs": [
        {
          "name": "stdout",
          "output_type": "stream",
          "text": [
            "Number of training samples:  766\n",
            "Number of validation samples:  293\n",
            "Number of testing samples:  511\n"
          ]
        }
      ],
      "source": [
        "train_files = metadata[metadata[\"split\"] == \"train\"][\"features_path\"].to_dict()\n",
        "val_files = metadata[metadata[\"split\"] == \"val\"][\"features_path\"].to_dict()\n",
        "test_files = metadata[metadata[\"split\"] == \"test\"][\"features_path\"].to_dict()\n",
        "\n",
        "print(\"Number of training samples: \", len(train_files))\n",
        "print(\"Number of validation samples: \", len(val_files))\n",
        "print(\"Number of testing samples: \", len(test_files))"
      ]
    },
    {
      "cell_type": "code",
      "execution_count": 6,
      "metadata": {
        "colab": {
          "base_uri": "https://localhost:8080/",
          "height": 298
        },
        "id": "MRoeI77hSO78",
        "outputId": "512d2493-0c65-4679-af73-929d31750448"
      },
      "outputs": [
        {
          "data": {
            "text/plain": [
              "[Text(0, 0, '64'), Text(0, 0, '12'), Text(0, 0, '0')]"
            ]
          },
          "execution_count": 6,
          "metadata": {},
          "output_type": "execute_result"
        },
        {
          "data": {
            "image/png": "[encoded data removed]",
            "text/plain": [
              "<Figure size 432x288 with 1 Axes>"
            ]
          },
          "metadata": {
            "needs_background": "light"
          },
          "output_type": "display_data"
        }
      ],
      "source": [
        "# Share of samples from commercial instruments vs. SAM testbed\n",
        "meta_instrument = (\n",
        "    metadata.reset_index()\n",
        "    .groupby([\"split\", \"instrument_type\"])[\"sample_id\"]\n",
        "    .aggregate(\"count\")\n",
        "    .reset_index()\n",
        ")\n",
        "meta_instrument = meta_instrument.pivot(\n",
        "    index=\"split\", columns=\"instrument_type\", values=\"sample_id\"\n",
        ").reset_index()\n",
        "meta_instrument.head()\n",
        "\n",
        "ax = meta_instrument.plot(\n",
        "    x=\"split\",\n",
        "    kind=\"barh\",\n",
        "    stacked=True,\n",
        "    title=\"Instrument type by dataset split\",\n",
        "    mark_right=True,\n",
        ")\n",
        "ax.bar_label(ax.containers[0], label_type=\"center\")\n",
        "ax.bar_label(ax.containers[1], label_type=\"center\")"
      ]
    },
    {
      "cell_type": "code",
      "execution_count": 7,
      "metadata": {
        "colab": {
          "base_uri": "https://localhost:8080/",
          "height": 238
        },
        "id": "jJGZUJoXSUig",
        "outputId": "a13113ba-6d97-4d3e-f1ce-bf976a20a142"
      },
      "outputs": [
        {
          "data": {
            "text/html": [
              "\n",
              "  <div id=\"df-58c5c567-bbf3-4bb8-b601-617f1cb38b26\">\n",
              "    <div class=\"colab-df-container\">\n",
              "      <div>\n",
              "<style scoped>\n",
              "    .dataframe tbody tr th:only-of-type {\n",
              "        vertical-align: middle;\n",
              "    }\n",
              "\n",
              "    .dataframe tbody tr th {\n",
              "        vertical-align: top;\n",
              "    }\n",
              "\n",
              "    .dataframe thead th {\n",
              "        text-align: right;\n",
              "    }\n",
              "</style>\n",
              "<table border=\"1\" class=\"dataframe\">\n",
              "  <thead>\n",
              "    <tr style=\"text-align: right;\">\n",
              "      <th></th>\n",
              "      <th>basalt</th>\n",
              "      <th>carbonate</th>\n",
              "      <th>chloride</th>\n",
              "      <th>iron_oxide</th>\n",
              "      <th>oxalate</th>\n",
              "      <th>oxychlorine</th>\n",
              "      <th>phyllosilicate</th>\n",
              "      <th>silicate</th>\n",
              "      <th>sulfate</th>\n",
              "      <th>sulfide</th>\n",
              "    </tr>\n",
              "    <tr>\n",
              "      <th>sample_id</th>\n",
              "      <th></th>\n",
              "      <th></th>\n",
              "      <th></th>\n",
              "      <th></th>\n",
              "      <th></th>\n",
              "      <th></th>\n",
              "      <th></th>\n",
              "      <th></th>\n",
              "      <th></th>\n",
              "      <th></th>\n",
              "    </tr>\n",
              "  </thead>\n",
              "  <tbody>\n",
              "    <tr>\n",
              "      <th>S0000</th>\n",
              "      <td>0</td>\n",
              "      <td>0</td>\n",
              "      <td>0</td>\n",
              "      <td>0</td>\n",
              "      <td>0</td>\n",
              "      <td>0</td>\n",
              "      <td>0</td>\n",
              "      <td>0</td>\n",
              "      <td>1</td>\n",
              "      <td>0</td>\n",
              "    </tr>\n",
              "    <tr>\n",
              "      <th>S0001</th>\n",
              "      <td>0</td>\n",
              "      <td>1</td>\n",
              "      <td>0</td>\n",
              "      <td>0</td>\n",
              "      <td>0</td>\n",
              "      <td>0</td>\n",
              "      <td>0</td>\n",
              "      <td>0</td>\n",
              "      <td>0</td>\n",
              "      <td>0</td>\n",
              "    </tr>\n",
              "    <tr>\n",
              "      <th>S0002</th>\n",
              "      <td>0</td>\n",
              "      <td>0</td>\n",
              "      <td>0</td>\n",
              "      <td>0</td>\n",
              "      <td>0</td>\n",
              "      <td>1</td>\n",
              "      <td>0</td>\n",
              "      <td>0</td>\n",
              "      <td>0</td>\n",
              "      <td>0</td>\n",
              "    </tr>\n",
              "    <tr>\n",
              "      <th>S0003</th>\n",
              "      <td>0</td>\n",
              "      <td>1</td>\n",
              "      <td>0</td>\n",
              "      <td>1</td>\n",
              "      <td>0</td>\n",
              "      <td>0</td>\n",
              "      <td>0</td>\n",
              "      <td>0</td>\n",
              "      <td>1</td>\n",
              "      <td>0</td>\n",
              "    </tr>\n",
              "    <tr>\n",
              "      <th>S0004</th>\n",
              "      <td>0</td>\n",
              "      <td>0</td>\n",
              "      <td>0</td>\n",
              "      <td>1</td>\n",
              "      <td>0</td>\n",
              "      <td>1</td>\n",
              "      <td>1</td>\n",
              "      <td>0</td>\n",
              "      <td>0</td>\n",
              "      <td>0</td>\n",
              "    </tr>\n",
              "  </tbody>\n",
              "</table>\n",
              "</div>\n",
              "      <button class=\"colab-df-convert\" onclick=\"convertToInteractive('df-58c5c567-bbf3-4bb8-b601-617f1cb38b26')\"\n",
              "              title=\"Convert this dataframe to an interactive table.\"\n",
              "              style=\"display:none;\">\n",
              "        \n",
              "  <svg xmlns=\"http://www.w3.org/2000/svg\" height=\"24px\"viewBox=\"0 0 24 24\"\n",
              "       width=\"24px\">\n",
              "    <path d=\"M0 0h24v24H0V0z\" fill=\"none\"/>\n",
              "    <path d=\"M18.56 5.44l.94 2.06.94-2.06 2.06-.94-2.06-.94-.94-2.06-.94 2.06-2.06.94zm-11 1L8.5 8.5l.94-2.06 2.06-.94-2.06-.94L8.5 2.5l-.94 2.06-2.06.94zm10 10l.94 2.06.94-2.06 2.06-.94-2.06-.94-.94-2.06-.94 2.06-2.06.94z\"/><path d=\"M17.41 7.96l-1.37-1.37c-.4-.4-.92-.59-1.43-.59-.52 0-1.04.2-1.43.59L10.3 9.45l-7.72 7.72c-.78.78-.78 2.05 0 2.83L4 21.41c.39.39.9.59 1.41.59.51 0 1.02-.2 1.41-.59l7.78-7.78 2.81-2.81c.8-.78.8-2.07 0-2.86zM5.41 20L4 18.59l7.72-7.72 1.47 1.35L5.41 20z\"/>\n",
              "  </svg>\n",
              "      </button>\n",
              "      \n",
              "  <style>\n",
              "    .colab-df-container {\n",
              "      display:flex;\n",
              "      flex-wrap:wrap;\n",
              "      gap: 12px;\n",
              "    }\n",
              "\n",
              "    .colab-df-convert {\n",
              "      background-color: #E8F0FE;\n",
              "      border: none;\n",
              "      border-radius: 50%;\n",
              "      cursor: pointer;\n",
              "      display: none;\n",
              "      fill: #1967D2;\n",
              "      height: 32px;\n",
              "      padding: 0 0 0 0;\n",
              "      width: 32px;\n",
              "    }\n",
              "\n",
              "    .colab-df-convert:hover {\n",
              "      background-color: #E2EBFA;\n",
              "      box-shadow: 0px 1px 2px rgba(60, 64, 67, 0.3), 0px 1px 3px 1px rgba(60, 64, 67, 0.15);\n",
              "      fill: #174EA6;\n",
              "    }\n",
              "\n",
              "    [theme=dark] .colab-df-convert {\n",
              "      background-color: #3B4455;\n",
              "      fill: #D2E3FC;\n",
              "    }\n",
              "\n",
              "    [theme=dark] .colab-df-convert:hover {\n",
              "      background-color: #434B5C;\n",
              "      box-shadow: 0px 1px 3px 1px rgba(0, 0, 0, 0.15);\n",
              "      filter: drop-shadow(0px 1px 2px rgba(0, 0, 0, 0.3));\n",
              "      fill: #FFFFFF;\n",
              "    }\n",
              "  </style>\n",
              "\n",
              "      <script>\n",
              "        const buttonEl =\n",
              "          document.querySelector('#df-58c5c567-bbf3-4bb8-b601-617f1cb38b26 button.colab-df-convert');\n",
              "        buttonEl.style.display =\n",
              "          google.colab.kernel.accessAllowed ? 'block' : 'none';\n",
              "\n",
              "        async function convertToInteractive(key) {\n",
              "          const element = document.querySelector('#df-58c5c567-bbf3-4bb8-b601-617f1cb38b26');\n",
              "          const dataTable =\n",
              "            await google.colab.kernel.invokeFunction('convertToInteractive',\n",
              "                                                     [key], {});\n",
              "          if (!dataTable) return;\n",
              "\n",
              "          const docLinkHtml = 'Like what you see? Visit the ' +\n",
              "            '<a target=\"_blank\" href=https://colab.research.google.com/notebooks/data_table.ipynb>data table notebook</a>'\n",
              "            + ' to learn more about interactive tables.';\n",
              "          element.innerHTML = '';\n",
              "          dataTable['output_type'] = 'display_data';\n",
              "          await google.colab.output.renderOutput(dataTable, element);\n",
              "          const docLink = document.createElement('div');\n",
              "          docLink.innerHTML = docLinkHtml;\n",
              "          element.appendChild(docLink);\n",
              "        }\n",
              "      </script>\n",
              "    </div>\n",
              "  </div>\n",
              "  "
            ],
            "text/plain": [
              "           basalt  carbonate  chloride  iron_oxide  oxalate  oxychlorine  \\\n",
              "sample_id                                                                  \n",
              "S0000           0          0         0           0        0            0   \n",
              "S0001           0          1         0           0        0            0   \n",
              "S0002           0          0         0           0        0            1   \n",
              "S0003           0          1         0           1        0            0   \n",
              "S0004           0          0         0           1        0            1   \n",
              "\n",
              "           phyllosilicate  silicate  sulfate  sulfide  \n",
              "sample_id                                              \n",
              "S0000                   0         0        1        0  \n",
              "S0001                   0         0        0        0  \n",
              "S0002                   0         0        0        0  \n",
              "S0003                   0         0        1        0  \n",
              "S0004                   1         0        0        0  "
            ]
          },
          "execution_count": 7,
          "metadata": {},
          "output_type": "execute_result"
        }
      ],
      "source": [
        "train_labels = pd.read_csv(DATA_PATH / \"train_labels.csv\", index_col=\"sample_id\")\n",
        "train_labels.head()"
      ]
    },
    {
      "cell_type": "code",
      "execution_count": 8,
      "metadata": {
        "colab": {
          "base_uri": "https://localhost:8080/",
          "height": 238
        },
        "id": "izSX_7uCQ7XF",
        "outputId": "7e598965-04a4-48c2-eb45-519d10aec36c"
      },
      "outputs": [
        {
          "data": {
            "text/html": [
              "\n",
              "  <div id=\"df-b097a5f4-74ba-447f-8d18-b77b4b28365b\">\n",
              "    <div class=\"colab-df-container\">\n",
              "      <div>\n",
              "<style scoped>\n",
              "    .dataframe tbody tr th:only-of-type {\n",
              "        vertical-align: middle;\n",
              "    }\n",
              "\n",
              "    .dataframe tbody tr th {\n",
              "        vertical-align: top;\n",
              "    }\n",
              "\n",
              "    .dataframe thead th {\n",
              "        text-align: right;\n",
              "    }\n",
              "</style>\n",
              "<table border=\"1\" class=\"dataframe\">\n",
              "  <thead>\n",
              "    <tr style=\"text-align: right;\">\n",
              "      <th></th>\n",
              "      <th>basalt</th>\n",
              "      <th>carbonate</th>\n",
              "      <th>chloride</th>\n",
              "      <th>iron_oxide</th>\n",
              "      <th>oxalate</th>\n",
              "      <th>oxychlorine</th>\n",
              "      <th>phyllosilicate</th>\n",
              "      <th>silicate</th>\n",
              "      <th>sulfate</th>\n",
              "      <th>sulfide</th>\n",
              "    </tr>\n",
              "    <tr>\n",
              "      <th>sample_id</th>\n",
              "      <th></th>\n",
              "      <th></th>\n",
              "      <th></th>\n",
              "      <th></th>\n",
              "      <th></th>\n",
              "      <th></th>\n",
              "      <th></th>\n",
              "      <th></th>\n",
              "      <th></th>\n",
              "      <th></th>\n",
              "    </tr>\n",
              "  </thead>\n",
              "  <tbody>\n",
              "    <tr>\n",
              "      <th>S0766</th>\n",
              "      <td>0</td>\n",
              "      <td>0</td>\n",
              "      <td>0</td>\n",
              "      <td>0</td>\n",
              "      <td>0</td>\n",
              "      <td>0</td>\n",
              "      <td>0</td>\n",
              "      <td>0</td>\n",
              "      <td>0</td>\n",
              "      <td>0</td>\n",
              "    </tr>\n",
              "    <tr>\n",
              "      <th>S0767</th>\n",
              "      <td>0</td>\n",
              "      <td>0</td>\n",
              "      <td>0</td>\n",
              "      <td>0</td>\n",
              "      <td>0</td>\n",
              "      <td>0</td>\n",
              "      <td>0</td>\n",
              "      <td>0</td>\n",
              "      <td>0</td>\n",
              "      <td>0</td>\n",
              "    </tr>\n",
              "    <tr>\n",
              "      <th>S0768</th>\n",
              "      <td>1</td>\n",
              "      <td>0</td>\n",
              "      <td>0</td>\n",
              "      <td>0</td>\n",
              "      <td>0</td>\n",
              "      <td>0</td>\n",
              "      <td>1</td>\n",
              "      <td>1</td>\n",
              "      <td>0</td>\n",
              "      <td>0</td>\n",
              "    </tr>\n",
              "    <tr>\n",
              "      <th>S0769</th>\n",
              "      <td>0</td>\n",
              "      <td>0</td>\n",
              "      <td>0</td>\n",
              "      <td>0</td>\n",
              "      <td>0</td>\n",
              "      <td>1</td>\n",
              "      <td>0</td>\n",
              "      <td>0</td>\n",
              "      <td>1</td>\n",
              "      <td>0</td>\n",
              "    </tr>\n",
              "    <tr>\n",
              "      <th>S0770</th>\n",
              "      <td>0</td>\n",
              "      <td>0</td>\n",
              "      <td>0</td>\n",
              "      <td>1</td>\n",
              "      <td>0</td>\n",
              "      <td>1</td>\n",
              "      <td>1</td>\n",
              "      <td>0</td>\n",
              "      <td>0</td>\n",
              "      <td>0</td>\n",
              "    </tr>\n",
              "  </tbody>\n",
              "</table>\n",
              "</div>\n",
              "      <button class=\"colab-df-convert\" onclick=\"convertToInteractive('df-b097a5f4-74ba-447f-8d18-b77b4b28365b')\"\n",
              "              title=\"Convert this dataframe to an interactive table.\"\n",
              "              style=\"display:none;\">\n",
              "        \n",
              "  <svg xmlns=\"http://www.w3.org/2000/svg\" height=\"24px\"viewBox=\"0 0 24 24\"\n",
              "       width=\"24px\">\n",
              "    <path d=\"M0 0h24v24H0V0z\" fill=\"none\"/>\n",
              "    <path d=\"M18.56 5.44l.94 2.06.94-2.06 2.06-.94-2.06-.94-.94-2.06-.94 2.06-2.06.94zm-11 1L8.5 8.5l.94-2.06 2.06-.94-2.06-.94L8.5 2.5l-.94 2.06-2.06.94zm10 10l.94 2.06.94-2.06 2.06-.94-2.06-.94-.94-2.06-.94 2.06-2.06.94z\"/><path d=\"M17.41 7.96l-1.37-1.37c-.4-.4-.92-.59-1.43-.59-.52 0-1.04.2-1.43.59L10.3 9.45l-7.72 7.72c-.78.78-.78 2.05 0 2.83L4 21.41c.39.39.9.59 1.41.59.51 0 1.02-.2 1.41-.59l7.78-7.78 2.81-2.81c.8-.78.8-2.07 0-2.86zM5.41 20L4 18.59l7.72-7.72 1.47 1.35L5.41 20z\"/>\n",
              "  </svg>\n",
              "      </button>\n",
              "      \n",
              "  <style>\n",
              "    .colab-df-container {\n",
              "      display:flex;\n",
              "      flex-wrap:wrap;\n",
              "      gap: 12px;\n",
              "    }\n",
              "\n",
              "    .colab-df-convert {\n",
              "      background-color: #E8F0FE;\n",
              "      border: none;\n",
              "      border-radius: 50%;\n",
              "      cursor: pointer;\n",
              "      display: none;\n",
              "      fill: #1967D2;\n",
              "      height: 32px;\n",
              "      padding: 0 0 0 0;\n",
              "      width: 32px;\n",
              "    }\n",
              "\n",
              "    .colab-df-convert:hover {\n",
              "      background-color: #E2EBFA;\n",
              "      box-shadow: 0px 1px 2px rgba(60, 64, 67, 0.3), 0px 1px 3px 1px rgba(60, 64, 67, 0.15);\n",
              "      fill: #174EA6;\n",
              "    }\n",
              "\n",
              "    [theme=dark] .colab-df-convert {\n",
              "      background-color: #3B4455;\n",
              "      fill: #D2E3FC;\n",
              "    }\n",
              "\n",
              "    [theme=dark] .colab-df-convert:hover {\n",
              "      background-color: #434B5C;\n",
              "      box-shadow: 0px 1px 3px 1px rgba(0, 0, 0, 0.15);\n",
              "      filter: drop-shadow(0px 1px 2px rgba(0, 0, 0, 0.3));\n",
              "      fill: #FFFFFF;\n",
              "    }\n",
              "  </style>\n",
              "\n",
              "      <script>\n",
              "        const buttonEl =\n",
              "          document.querySelector('#df-b097a5f4-74ba-447f-8d18-b77b4b28365b button.colab-df-convert');\n",
              "        buttonEl.style.display =\n",
              "          google.colab.kernel.accessAllowed ? 'block' : 'none';\n",
              "\n",
              "        async function convertToInteractive(key) {\n",
              "          const element = document.querySelector('#df-b097a5f4-74ba-447f-8d18-b77b4b28365b');\n",
              "          const dataTable =\n",
              "            await google.colab.kernel.invokeFunction('convertToInteractive',\n",
              "                                                     [key], {});\n",
              "          if (!dataTable) return;\n",
              "\n",
              "          const docLinkHtml = 'Like what you see? Visit the ' +\n",
              "            '<a target=\"_blank\" href=https://colab.research.google.com/notebooks/data_table.ipynb>data table notebook</a>'\n",
              "            + ' to learn more about interactive tables.';\n",
              "          element.innerHTML = '';\n",
              "          dataTable['output_type'] = 'display_data';\n",
              "          await google.colab.output.renderOutput(dataTable, element);\n",
              "          const docLink = document.createElement('div');\n",
              "          docLink.innerHTML = docLinkHtml;\n",
              "          element.appendChild(docLink);\n",
              "        }\n",
              "      </script>\n",
              "    </div>\n",
              "  </div>\n",
              "  "
            ],
            "text/plain": [
              "           basalt  carbonate  chloride  iron_oxide  oxalate  oxychlorine  \\\n",
              "sample_id                                                                  \n",
              "S0766           0          0         0           0        0            0   \n",
              "S0767           0          0         0           0        0            0   \n",
              "S0768           1          0         0           0        0            0   \n",
              "S0769           0          0         0           0        0            1   \n",
              "S0770           0          0         0           1        0            1   \n",
              "\n",
              "           phyllosilicate  silicate  sulfate  sulfide  \n",
              "sample_id                                              \n",
              "S0766                   0         0        0        0  \n",
              "S0767                   0         0        0        0  \n",
              "S0768                   1         1        0        0  \n",
              "S0769                   0         0        1        0  \n",
              "S0770                   1         0        0        0  "
            ]
          },
          "execution_count": 8,
          "metadata": {},
          "output_type": "execute_result"
        }
      ],
      "source": [
        "val_labels = pd.read_csv(DATA_PATH / \"val_labels.csv\", index_col=\"sample_id\")\n",
        "val_labels.head()"
      ]
    },
    {
      "cell_type": "code",
      "execution_count": 9,
      "metadata": {
        "colab": {
          "base_uri": "https://localhost:8080/",
          "height": 323
        },
        "id": "JHTUuy2QSVnB",
        "outputId": "69fdbf70-3b78-43b7-d5cb-567b35dd9751"
      },
      "outputs": [
        {
          "data": {
            "text/plain": [
              "Text(0.5, 1.0, 'Compounds represented in training set')"
            ]
          },
          "execution_count": 9,
          "metadata": {},
          "output_type": "execute_result"
        },
        {
          "data": {
            "image/png": "[encoded data removed]",
            "text/plain": [
              "<Figure size 432x288 with 1 Axes>"
            ]
          },
          "metadata": {
            "needs_background": "light"
          },
          "output_type": "display_data"
        }
      ],
      "source": [
        "sumlabs = train_labels.aggregate(\"sum\").sort_values()\n",
        "plt.barh(sumlabs.index, sumlabs, align=\"center\")\n",
        "plt.ylabel(\"Compounds\")\n",
        "plt.xticks(rotation=45)\n",
        "plt.xlabel(\"Count in training set\")\n",
        "plt.title(\"Compounds represented in training set\")"
      ]
    },
    {
      "cell_type": "code",
      "execution_count": 10,
      "metadata": {
        "id": "565DiIgVSXAO"
      },
      "outputs": [],
      "source": [
        "# Select sample IDs for five commercial samples and five testbed samples\n",
        "sample_id_commercial = (\n",
        "    metadata[metadata[\"instrument_type\"] == \"commercial\"]\n",
        "    .index\n",
        "    .values[0:5]\n",
        ")\n",
        "sample_id_testbed = (\n",
        "    metadata[metadata[\"instrument_type\"] == \"sam_testbed\"]\n",
        "    .index\n",
        "    .values[0:5]\n",
        ")"
      ]
    },
    {
      "cell_type": "code",
      "execution_count": 11,
      "metadata": {
        "id": "W8VfItogSYae"
      },
      "outputs": [],
      "source": [
        "# Import sample files for EDA\n",
        "sample_commercial_dict = {}\n",
        "sample_testbed_dict = {}\n",
        "\n",
        "for i in range(0, 5):\n",
        "    comm_lab = sample_id_commercial[i]\n",
        "    sample_commercial_dict[comm_lab] = pd.read_csv(DATA_PATH / train_files[comm_lab])\n",
        "\n",
        "    test_lab = sample_id_testbed[i]\n",
        "    sample_testbed_dict[test_lab] = pd.read_csv(DATA_PATH / train_files[test_lab])"
      ]
    },
    {
      "cell_type": "code",
      "execution_count": 12,
      "metadata": {
        "colab": {
          "base_uri": "https://localhost:8080/",
          "height": 465
        },
        "id": "KVaWomCMSZw5",
        "outputId": "96e9b5cd-20d5-4d0a-8b9e-f24b8951eaf1"
      },
      "outputs": [
        {
          "data": {
            "image/png": "[encoded data removed]",
            "text/plain": [
              "<Figure size 1080x216 with 5 Axes>"
            ]
          },
          "metadata": {
            "needs_background": "light"
          },
          "output_type": "display_data"
        },
        {
          "data": {
            "image/png": "[encoded data removed]",
            "text/plain": [
              "<Figure size 1080x216 with 5 Axes>"
            ]
          },
          "metadata": {
            "needs_background": "light"
          },
          "output_type": "display_data"
        }
      ],
      "source": [
        "# Plot time vs. temperature for both sample types\n",
        "\n",
        "# For commercial\n",
        "fig, ax = plt.subplots(1, 5, figsize=(15, 3), constrained_layout=True, sharey=\"all\")\n",
        "fig.supylabel(\"Temperature\")\n",
        "fig.supxlabel(\"Time\")\n",
        "fig.suptitle(\"Commercial samples\")\n",
        "\n",
        "for i in range(0, 5):\n",
        "    sample_lab = sample_id_commercial[i]\n",
        "    plt.subplot(1, 5, i + 1)\n",
        "    plt.scatter(\n",
        "        sample_commercial_dict[sample_lab][\"time\"],\n",
        "        sample_commercial_dict[sample_lab][\"temp\"],\n",
        "    )\n",
        "    plt.title(sample_lab)\n",
        "\n",
        "# For SAM testbed\n",
        "fig, ax = plt.subplots(1, 5, figsize=(15, 3), constrained_layout=True, sharey=\"all\")\n",
        "fig.supylabel(\"Temperature\")\n",
        "fig.supxlabel(\"Time\")\n",
        "fig.suptitle(\"SAM testbed samples\")\n",
        "\n",
        "for i in range(0, 5):\n",
        "    sample_lab = sample_id_testbed[i]\n",
        "    plt.subplot(1, 5, i + 1)\n",
        "    plt.scatter(\n",
        "        sample_testbed_dict[sample_lab][\"time\"],\n",
        "        sample_testbed_dict[sample_lab][\"temp\"],\n",
        "    )\n",
        "    plt.title(sample_lab)"
      ]
    },
    {
      "cell_type": "code",
      "execution_count": 13,
      "metadata": {
        "colab": {
          "base_uri": "https://localhost:8080/",
          "height": 465
        },
        "id": "MV3OcSo6Sbtc",
        "outputId": "9b90ba37-f76e-4f15-e64d-077a42190560"
      },
      "outputs": [
        {
          "data": {
            "image/png": "[encoded data removed]",
            "text/plain": [
              "<Figure size 1080x216 with 5 Axes>"
            ]
          },
          "metadata": {
            "needs_background": "light"
          },
          "output_type": "display_data"
        },
        {
          "data": {
            "image/png": "[encoded data removed]",
            "text/plain": [
              "<Figure size 1080x216 with 5 Axes>"
            ]
          },
          "metadata": {
            "needs_background": "light"
          },
          "output_type": "display_data"
        }
      ],
      "source": [
        "# For commercial\n",
        "fig, ax = plt.subplots(1, 5, figsize=(15, 3), constrained_layout=True)\n",
        "fig.suptitle(\"Commercial samples\")\n",
        "fig.supxlabel(\"Temperature\")\n",
        "fig.supylabel(\"Abundance\")\n",
        "\n",
        "for i in range(0, 5):\n",
        "    sample_lab = sample_id_commercial[i]\n",
        "    sample_df = sample_commercial_dict[sample_lab]\n",
        "\n",
        "    plt.subplot(1, 5, i + 1)\n",
        "    for m in sample_df[\"m/z\"].unique():\n",
        "        plt.plot(\n",
        "            sample_df[sample_df[\"m/z\"] == m][\"temp\"],\n",
        "            sample_df[sample_df[\"m/z\"] == m][\"abundance\"],\n",
        "        )\n",
        "\n",
        "    plt.title(sample_lab)\n",
        "\n",
        "# For testbed\n",
        "fig, ax = plt.subplots(1, 5, figsize=(15, 3), constrained_layout=True)\n",
        "fig.suptitle(\"SAM testbed samples\")\n",
        "fig.supxlabel(\"Temperature\")\n",
        "fig.supylabel(\"Abundance\")\n",
        "\n",
        "for i in range(0, 5):\n",
        "    sample_lab = sample_id_testbed[i]\n",
        "    sample_df = sample_testbed_dict[sample_lab]\n",
        "\n",
        "    plt.subplot(1, 5, i + 1)\n",
        "    for m in sample_df[\"m/z\"].unique():\n",
        "        plt.plot(\n",
        "            sample_df[sample_df[\"m/z\"] == m][\"temp\"],\n",
        "            sample_df[sample_df[\"m/z\"] == m][\"abundance\"],\n",
        "        )\n",
        "    plt.title(sample_lab)"
      ]
    },
    {
      "cell_type": "markdown",
      "metadata": {
        "id": "3CKqjQr6SdRt"
      },
      "source": [
        "# 4. Preprocessing"
      ]
    },
    {
      "cell_type": "code",
      "execution_count": 14,
      "metadata": {
        "id": "vaVMzUl3SfcY"
      },
      "outputs": [],
      "source": [
        "# Selecting a testbed sample to demonstrate preprocessing steps\n",
        "sample_lab = sample_id_testbed[1]\n",
        "sample_df = sample_testbed_dict[sample_lab]"
      ]
    },
    {
      "cell_type": "markdown",
      "metadata": {
        "id": "cxvUeMBKSkjY"
      },
      "source": [
        "## 1. Standardizing which m/z values to include"
      ]
    },
    {
      "cell_type": "code",
      "execution_count": 15,
      "metadata": {
        "id": "4syOHgMZSr6E"
      },
      "outputs": [],
      "source": [
        "def drop_frac_and_He(df):\n",
        "    \"\"\"\n",
        "    Drops fractional m/z values, m/z values > 100, and carrier gas m/z\n",
        "\n",
        "    Args:\n",
        "        df: a dataframe representing a single sample, containing m/z values\n",
        "\n",
        "    Returns:\n",
        "        The dataframe without fractional an carrier gas m/z\n",
        "    \"\"\"\n",
        "\n",
        "    # drop fractional m/z values\n",
        "    df = df[df[\"m/z\"].transform(round) == df[\"m/z\"]]\n",
        "    assert df[\"m/z\"].apply(float.is_integer).all(), \"not all m/z are integers\"\n",
        "\n",
        "    # drop m/z values greater than 99\n",
        "    df = df[df[\"m/z\"] < 100]\n",
        "\n",
        "    # drop carrier gas\n",
        "    df = df[df[\"m/z\"] != 4]\n",
        "\n",
        "    return df"
      ]
    },
    {
      "cell_type": "code",
      "execution_count": 16,
      "metadata": {
        "colab": {
          "base_uri": "https://localhost:8080/",
          "height": 0
        },
        "id": "ow37k0F1StPG",
        "outputId": "13d0cb75-f5f2-4c7d-b38d-4b154a23a537"
      },
      "outputs": [
        {
          "data": {
            "text/plain": [
              "Text(0.5, 1.0, 'After dropping selected m/z values')"
            ]
          },
          "execution_count": 16,
          "metadata": {},
          "output_type": "execute_result"
        },
        {
          "data": {
            "image/png": "[encoded data removed]",
            "text/plain": [
              "<Figure size 720x360 with 2 Axes>"
            ]
          },
          "metadata": {
            "needs_background": "light"
          },
          "output_type": "display_data"
        }
      ],
      "source": [
        "# m/z values before limiting\n",
        "fig, ax = plt.subplots(1, 2, figsize=(10, 5))\n",
        "fig.suptitle(\"Distribution of m/z values\")\n",
        "fig.supxlabel(\"m/z\")\n",
        "fig.supylabel(\"Count of observations\")\n",
        "\n",
        "plt.subplot(1, 2, 1)\n",
        "plt.hist(sample_df[\"m/z\"])\n",
        "plt.title(\"Before dropping selected m/z values\")\n",
        "\n",
        "# m/z values after limiting\n",
        "sample_df = drop_frac_and_He(sample_df)\n",
        "plt.subplot(1, 2, 2)\n",
        "plt.hist(sample_df[\"m/z\"])\n",
        "plt.title(\"After dropping selected m/z values\")"
      ]
    },
    {
      "cell_type": "markdown",
      "metadata": {
        "id": "4CmfDC2YSvi4"
      },
      "source": [
        "## 2. Removing background ion presences"
      ]
    },
    {
      "cell_type": "code",
      "execution_count": 17,
      "metadata": {
        "id": "Qj9Sck3iSwmn"
      },
      "outputs": [],
      "source": [
        "def remove_background_abundance(df):\n",
        "    \"\"\"\n",
        "    Subtracts minimum abundance value\n",
        "\n",
        "    Args:\n",
        "        df: dataframe with 'm/z' and 'abundance' columns\n",
        "\n",
        "    Returns:\n",
        "        dataframe with minimum abundance subtracted for all observations\n",
        "    \"\"\"\n",
        "\n",
        "    df[\"abundance_minsub\"] = df.groupby([\"m/z\"])[\"abundance\"].transform(\n",
        "        lambda x: (x - x.min())\n",
        "    )\n",
        "\n",
        "    return df"
      ]
    },
    {
      "cell_type": "code",
      "execution_count": 18,
      "metadata": {
        "colab": {
          "base_uri": "https://localhost:8080/",
          "height": 0
        },
        "id": "cNMwbDw9SzhH",
        "outputId": "b1d20e77-a23c-4bf0-ed25-87da27d5031e"
      },
      "outputs": [
        {
          "data": {
            "text/plain": [
              "Text(0.5, 1.0, 'After subtracting minimum abundance')"
            ]
          },
          "execution_count": 18,
          "metadata": {},
          "output_type": "execute_result"
        },
        {
          "data": {
            "image/png": "[encoded data removed]",
            "text/plain": [
              "<Figure size 1080x360 with 2 Axes>"
            ]
          },
          "metadata": {
            "needs_background": "light"
          },
          "output_type": "display_data"
        }
      ],
      "source": [
        "# Abundance values before subtracting minimum\n",
        "fig, ax = plt.subplots(1, 2, figsize=(15, 5))\n",
        "fig.suptitle(\"Abundance values across temperature by m/z\")\n",
        "fig.supxlabel(\"Temperature\")\n",
        "fig.supylabel(\"Abundance levels\")\n",
        "\n",
        "plt.subplot(1, 2, 1)\n",
        "for m in sample_df[\"m/z\"].unique():\n",
        "    plt.plot(\n",
        "        sample_df[sample_df[\"m/z\"] == m][\"temp\"],\n",
        "        sample_df[sample_df[\"m/z\"] == m][\"abundance\"],\n",
        "    )\n",
        "plt.title(\"Before subtracting minimum abundance\")\n",
        "\n",
        "# After subtracting minimum abundance value\n",
        "sample_df = remove_background_abundance(sample_df)\n",
        "\n",
        "plt.subplot(1, 2, 2)\n",
        "for m in sample_df[\"m/z\"].unique():\n",
        "    plt.plot(\n",
        "        sample_df[sample_df[\"m/z\"] == m][\"temp\"],\n",
        "        sample_df[sample_df[\"m/z\"] == m][\"abundance_minsub\"],\n",
        "    )\n",
        "plt.title(\"After subtracting minimum abundance\")"
      ]
    },
    {
      "cell_type": "markdown",
      "metadata": {
        "id": "XST12ElGS1iI"
      },
      "source": [
        "## 3. Convert abundances to relative abundances"
      ]
    },
    {
      "cell_type": "code",
      "execution_count": 19,
      "metadata": {
        "id": "cFMdr1E8S2a3"
      },
      "outputs": [],
      "source": [
        "def scale_abun(df):\n",
        "    \"\"\"\n",
        "    Scale abundance from 0-100 according to the min and max values across entire sample\n",
        "\n",
        "    Args:\n",
        "        df: dataframe containing abundances and m/z\n",
        "\n",
        "    Returns:\n",
        "        dataframe with additional column of scaled abundances\n",
        "    \"\"\"\n",
        "\n",
        "    df[\"abun_minsub_scaled\"] = minmax_scale(df[\"abundance_minsub\"].astype(float))\n",
        "\n",
        "    return df"
      ]
    },
    {
      "cell_type": "markdown",
      "metadata": {
        "id": "N37hKjiZS3sX"
      },
      "source": [
        "## 4. Putting it all together"
      ]
    },
    {
      "cell_type": "code",
      "execution_count": 20,
      "metadata": {
        "id": "9plpq9zOTBtB"
      },
      "outputs": [],
      "source": [
        "# Preprocess function\n",
        "def preprocess_sample(df):\n",
        "    df = drop_frac_and_He(df)\n",
        "    df = remove_background_abundance(df)\n",
        "    df = scale_abun(df)\n",
        "    return df"
      ]
    },
    {
      "cell_type": "code",
      "execution_count": 21,
      "metadata": {
        "colab": {
          "base_uri": "https://localhost:8080/",
          "height": 0
        },
        "id": "-d1Ygj5-TDEU",
        "outputId": "ff1de97a-9b38-432a-8b5c-f4f569ac91bb"
      },
      "outputs": [
        {
          "data": {
            "image/png": "[encoded data removed]",
            "text/plain": [
              "<Figure size 1080x216 with 5 Axes>"
            ]
          },
          "metadata": {
            "needs_background": "light"
          },
          "output_type": "display_data"
        },
        {
          "data": {
            "image/png": "[encoded data removed]",
            "text/plain": [
              "<Figure size 1080x216 with 5 Axes>"
            ]
          },
          "metadata": {
            "needs_background": "light"
          },
          "output_type": "display_data"
        }
      ],
      "source": [
        "# For commercial\n",
        "fig, ax = plt.subplots(1, 5, figsize=(15, 3), constrained_layout=True)\n",
        "fig.suptitle(\"Commercial samples\")\n",
        "fig.supxlabel(\"Temperature\")\n",
        "fig.supylabel(\"Abundance\")\n",
        "\n",
        "for i in range(0, 5):\n",
        "    sample_lab = sample_id_commercial[i]\n",
        "    sample_df = sample_commercial_dict[sample_lab]\n",
        "    sample_df = preprocess_sample(sample_df)\n",
        "\n",
        "    plt.subplot(1, 5, i + 1)\n",
        "    for m in sample_df[\"m/z\"].unique():\n",
        "        plt.plot(\n",
        "            sample_df[sample_df[\"m/z\"] == m][\"temp\"],\n",
        "            sample_df[sample_df[\"m/z\"] == m][\"abun_minsub_scaled\"],\n",
        "        )\n",
        "\n",
        "    plt.title(sample_lab)\n",
        "\n",
        "# For testbed\n",
        "fig, ax = plt.subplots(1, 5, figsize=(15, 3), constrained_layout=True)\n",
        "fig.suptitle(\"SAM testbed samples\")\n",
        "fig.supxlabel(\"Temperature\")\n",
        "fig.supylabel(\"Abundance\")\n",
        "\n",
        "for i in range(0, 5):\n",
        "    sample_lab = sample_id_testbed[i]\n",
        "    sample_df = sample_testbed_dict[sample_lab]\n",
        "    sample_df = preprocess_sample(sample_df)\n",
        "\n",
        "    plt.subplot(1, 5, i + 1)\n",
        "    for m in sample_df[\"m/z\"].unique():\n",
        "        plt.plot(\n",
        "            sample_df[sample_df[\"m/z\"] == m][\"temp\"],\n",
        "            sample_df[sample_df[\"m/z\"] == m][\"abun_minsub_scaled\"],\n",
        "        )\n",
        "    plt.title(sample_lab)"
      ]
    },
    {
      "cell_type": "markdown",
      "metadata": {
        "id": "L5D9FdwgTL5_"
      },
      "source": [
        "# 5. Feature Engineering"
      ]
    },
    {
      "cell_type": "code",
      "execution_count": 22,
      "metadata": {
        "colab": {
          "base_uri": "https://localhost:8080/",
          "height": 206
        },
        "id": "9s_DTZX4TOG2",
        "outputId": "83b62ed3-870d-4c59-b91e-5d7142b6c294"
      },
      "outputs": [
        {
          "data": {
            "text/html": [
              "\n",
              "  <div id=\"df-bde8334b-9fda-448f-a393-fec1772a1117\">\n",
              "    <div class=\"colab-df-container\">\n",
              "      <div>\n",
              "<style scoped>\n",
              "    .dataframe tbody tr th:only-of-type {\n",
              "        vertical-align: middle;\n",
              "    }\n",
              "\n",
              "    .dataframe tbody tr th {\n",
              "        vertical-align: top;\n",
              "    }\n",
              "\n",
              "    .dataframe thead th {\n",
              "        text-align: right;\n",
              "    }\n",
              "</style>\n",
              "<table border=\"1\" class=\"dataframe\">\n",
              "  <thead>\n",
              "    <tr style=\"text-align: right;\">\n",
              "      <th></th>\n",
              "      <th>temp_bin</th>\n",
              "      <th>m/z</th>\n",
              "    </tr>\n",
              "  </thead>\n",
              "  <tbody>\n",
              "    <tr>\n",
              "      <th>0</th>\n",
              "      <td>(0, 100]</td>\n",
              "      <td>0</td>\n",
              "    </tr>\n",
              "    <tr>\n",
              "      <th>1</th>\n",
              "      <td>(0, 100]</td>\n",
              "      <td>1</td>\n",
              "    </tr>\n",
              "    <tr>\n",
              "      <th>2</th>\n",
              "      <td>(0, 100]</td>\n",
              "      <td>2</td>\n",
              "    </tr>\n",
              "    <tr>\n",
              "      <th>3</th>\n",
              "      <td>(0, 100]</td>\n",
              "      <td>3</td>\n",
              "    </tr>\n",
              "    <tr>\n",
              "      <th>4</th>\n",
              "      <td>(0, 100]</td>\n",
              "      <td>4</td>\n",
              "    </tr>\n",
              "  </tbody>\n",
              "</table>\n",
              "</div>\n",
              "      <button class=\"colab-df-convert\" onclick=\"convertToInteractive('df-bde8334b-9fda-448f-a393-fec1772a1117')\"\n",
              "              title=\"Convert this dataframe to an interactive table.\"\n",
              "              style=\"display:none;\">\n",
              "        \n",
              "  <svg xmlns=\"http://www.w3.org/2000/svg\" height=\"24px\"viewBox=\"0 0 24 24\"\n",
              "       width=\"24px\">\n",
              "    <path d=\"M0 0h24v24H0V0z\" fill=\"none\"/>\n",
              "    <path d=\"M18.56 5.44l.94 2.06.94-2.06 2.06-.94-2.06-.94-.94-2.06-.94 2.06-2.06.94zm-11 1L8.5 8.5l.94-2.06 2.06-.94-2.06-.94L8.5 2.5l-.94 2.06-2.06.94zm10 10l.94 2.06.94-2.06 2.06-.94-2.06-.94-.94-2.06-.94 2.06-2.06.94z\"/><path d=\"M17.41 7.96l-1.37-1.37c-.4-.4-.92-.59-1.43-.59-.52 0-1.04.2-1.43.59L10.3 9.45l-7.72 7.72c-.78.78-.78 2.05 0 2.83L4 21.41c.39.39.9.59 1.41.59.51 0 1.02-.2 1.41-.59l7.78-7.78 2.81-2.81c.8-.78.8-2.07 0-2.86zM5.41 20L4 18.59l7.72-7.72 1.47 1.35L5.41 20z\"/>\n",
              "  </svg>\n",
              "      </button>\n",
              "      \n",
              "  <style>\n",
              "    .colab-df-container {\n",
              "      display:flex;\n",
              "      flex-wrap:wrap;\n",
              "      gap: 12px;\n",
              "    }\n",
              "\n",
              "    .colab-df-convert {\n",
              "      background-color: #E8F0FE;\n",
              "      border: none;\n",
              "      border-radius: 50%;\n",
              "      cursor: pointer;\n",
              "      display: none;\n",
              "      fill: #1967D2;\n",
              "      height: 32px;\n",
              "      padding: 0 0 0 0;\n",
              "      width: 32px;\n",
              "    }\n",
              "\n",
              "    .colab-df-convert:hover {\n",
              "      background-color: #E2EBFA;\n",
              "      box-shadow: 0px 1px 2px rgba(60, 64, 67, 0.3), 0px 1px 3px 1px rgba(60, 64, 67, 0.15);\n",
              "      fill: #174EA6;\n",
              "    }\n",
              "\n",
              "    [theme=dark] .colab-df-convert {\n",
              "      background-color: #3B4455;\n",
              "      fill: #D2E3FC;\n",
              "    }\n",
              "\n",
              "    [theme=dark] .colab-df-convert:hover {\n",
              "      background-color: #434B5C;\n",
              "      box-shadow: 0px 1px 3px 1px rgba(0, 0, 0, 0.15);\n",
              "      filter: drop-shadow(0px 1px 2px rgba(0, 0, 0, 0.3));\n",
              "      fill: #FFFFFF;\n",
              "    }\n",
              "  </style>\n",
              "\n",
              "      <script>\n",
              "        const buttonEl =\n",
              "          document.querySelector('#df-bde8334b-9fda-448f-a393-fec1772a1117 button.colab-df-convert');\n",
              "        buttonEl.style.display =\n",
              "          google.colab.kernel.accessAllowed ? 'block' : 'none';\n",
              "\n",
              "        async function convertToInteractive(key) {\n",
              "          const element = document.querySelector('#df-bde8334b-9fda-448f-a393-fec1772a1117');\n",
              "          const dataTable =\n",
              "            await google.colab.kernel.invokeFunction('convertToInteractive',\n",
              "                                                     [key], {});\n",
              "          if (!dataTable) return;\n",
              "\n",
              "          const docLinkHtml = 'Like what you see? Visit the ' +\n",
              "            '<a target=\"_blank\" href=https://colab.research.google.com/notebooks/data_table.ipynb>data table notebook</a>'\n",
              "            + ' to learn more about interactive tables.';\n",
              "          element.innerHTML = '';\n",
              "          dataTable['output_type'] = 'display_data';\n",
              "          await google.colab.output.renderOutput(dataTable, element);\n",
              "          const docLink = document.createElement('div');\n",
              "          docLink.innerHTML = docLinkHtml;\n",
              "          element.appendChild(docLink);\n",
              "        }\n",
              "      </script>\n",
              "    </div>\n",
              "  </div>\n",
              "  "
            ],
            "text/plain": [
              "   temp_bin  m/z\n",
              "0  (0, 100]    0\n",
              "1  (0, 100]    1\n",
              "2  (0, 100]    2\n",
              "3  (0, 100]    3\n",
              "4  (0, 100]    4"
            ]
          },
          "execution_count": 22,
          "metadata": {},
          "output_type": "execute_result"
        }
      ],
      "source": [
        "# Create a series of temperature bins\n",
        "temprange = pd.interval_range(start=0, end=1500, freq=100)\n",
        "temprange\n",
        "\n",
        "# Make dataframe with rows that are combinations of all temperature bins\n",
        "# and all m/z values\n",
        "allcombs = list(itertools.product(temprange, [*range(0, 100)]))\n",
        "\n",
        "allcombs_df = pd.DataFrame(allcombs, columns=[\"temp_bin\", \"m/z\"])\n",
        "allcombs_df.head()"
      ]
    },
    {
      "cell_type": "code",
      "execution_count": 23,
      "metadata": {
        "id": "Uu3vG1rTTQk1"
      },
      "outputs": [],
      "source": [
        "def abun_per_tempbin(df):\n",
        "\n",
        "    \"\"\"\n",
        "    Transforms dataset to take the preprocessed max abundance for each\n",
        "    temperature range for each m/z value\n",
        "\n",
        "    Args:\n",
        "        df: dataframe to transform\n",
        "\n",
        "    Returns:\n",
        "        transformed dataframe\n",
        "    \"\"\"\n",
        "\n",
        "    # Bin temperatures\n",
        "    df[\"temp_bin\"] = pd.cut(df[\"temp\"], bins=temprange)\n",
        "\n",
        "    # Combine with a list of all temp bin-m/z value combinations\n",
        "    df = pd.merge(allcombs_df, df, on=[\"temp_bin\", \"m/z\"], how=\"left\")\n",
        "\n",
        "    # Aggregate to temperature bin level to find max\n",
        "    df = df.groupby([\"temp_bin\", \"m/z\"]).max(\"abun_minsub_scaled\").reset_index()\n",
        "\n",
        "    # Fill in 0 for abundance values without information\n",
        "    df = df.replace(np.nan, 0)\n",
        "\n",
        "    # Reshape so each row is a single sample\n",
        "    df = df.pivot_table(columns=[\"m/z\", \"temp_bin\"], values=[\"abun_minsub_scaled\"])\n",
        "\n",
        "    return df"
      ]
    },
    {
      "cell_type": "code",
      "execution_count": 24,
      "metadata": {
        "id": "b1vtCAz2TR1J"
      },
      "outputs": [],
      "source": [
        "# Assembling preprocessed and transformed training set\n",
        "def prepare_features(train_files):\n",
        "    \"\"\"\n",
        "    Preprocesses and feature engineers the features for training.\n",
        "\n",
        "    Args:\n",
        "        train_files: a dictionary with sample_ids and the corresponding csv paths\n",
        "\n",
        "    Returns:\n",
        "        The dataframe with the preprocessed and scaled features\n",
        "    \"\"\"\n",
        "\n",
        "    train_features_dict = {}\n",
        "    print(\"Total number of train files: \", len(train_files))\n",
        "\n",
        "    for i, (sample_id, filepath) in enumerate(tqdm(train_files.items())):\n",
        "\n",
        "        # Load training sample\n",
        "        temp = pd.read_csv(DATA_PATH / filepath)\n",
        "\n",
        "        # Preprocessing training sample\n",
        "        train_sample_pp = preprocess_sample(temp)\n",
        "\n",
        "        # Feature engineering\n",
        "        train_sample_fe = abun_per_tempbin(train_sample_pp).reset_index(drop=True)\n",
        "        train_features_dict[sample_id] = train_sample_fe\n",
        "\n",
        "    train_features = pd.concat(\n",
        "        train_features_dict, names=[\"sample_id\", \"dummy_index\"]\n",
        "    ).reset_index(level=\"dummy_index\", drop=True)\n",
        "\n",
        "    return train_features"
      ]
    },
    {
      "cell_type": "code",
      "execution_count": 25,
      "metadata": {
        "colab": {
          "base_uri": "https://localhost:8080/",
          "height": 0,
          "referenced_widgets": [
            "dc7505a241264fa2be96c28436207db0",
            "f11b0cb6112b4dbe95d708986bf97a68",
            "b4613e7f5da44afab9ddddef6dcacf51",
            "398efc4a630f47cc9c27707d177d7cc0",
            "87c0eb619b614d6aa14a10bdbef59e34",
            "b48c0f8e99274ee391f10f7b6f82ef65",
            "22d2d0a3ee044435964c21ec184c31b8",
            "521d30efe29e4049be8dd0c6c12a0d2f",
            "6cb51ddcdfb44e1f8e562d97020ec548",
            "269a9b6202b5475793236b270473e29b",
            "3e9e7c013ef54979ac103b138f84726c",
            "d895b8b2fd694dd5988f31c7f9430fec",
            "4cc88f64551a45c2a2aa3c1efc7137b6",
            "6cec1c4d6b8948d98c9c9bd9a52fa5e4",
            "a41dc73f5caf4f59a8c491368b6ebf9f",
            "793435bbd40a41b4a7ae799ef72ca996",
            "2c59011ecc00415594670ea73666b29f",
            "a494aa9596dc4d49964656d1e5a0b2c6",
            "50af3fc5de1646f2b94022d9dc48c83b",
            "92481ce80e7d43d7923e9bb238ee12cf",
            "af90bbbbd0004d0f904f8a9daec10a48",
            "74c08b5283674dc7a251cd2236e8cf79"
          ]
        },
        "id": "B3PYYQEYEJna",
        "outputId": "07d5dfe8-0aad-4cb8-a4ac-a62bcff6e34d"
      },
      "outputs": [
        {
          "name": "stdout",
          "output_type": "stream",
          "text": [
            "Total number of train files:  766\n"
          ]
        },
        {
          "data": {
            "application/vnd.jupyter.widget-view+json": {
              "model_id": "dc7505a241264fa2be96c28436207db0",
              "version_major": 2,
              "version_minor": 0
            },
            "text/plain": [
              "  0%|          | 0/766 [00:00<?, ?it/s]"
            ]
          },
          "metadata": {},
          "output_type": "display_data"
        },
        {
          "name": "stdout",
          "output_type": "stream",
          "text": [
            "Total number of train files:  293\n"
          ]
        },
        {
          "data": {
            "application/vnd.jupyter.widget-view+json": {
              "model_id": "d895b8b2fd694dd5988f31c7f9430fec",
              "version_major": 2,
              "version_minor": 0
            },
            "text/plain": [
              "  0%|          | 0/293 [00:00<?, ?it/s]"
            ]
          },
          "metadata": {},
          "output_type": "display_data"
        }
      ],
      "source": [
        "train_features = prepare_features(train_files)\n",
        "val_features = prepare_features(val_files)"
      ]
    },
    {
      "cell_type": "code",
      "execution_count": 26,
      "metadata": {
        "colab": {
          "base_uri": "https://localhost:8080/",
          "height": 0
        },
        "id": "karNpmqY5Ubb",
        "outputId": "f988f148-e3d8-4f8c-8f62-d37e5f3a0cb4"
      },
      "outputs": [
        {
          "data": {
            "text/html": [
              "\n",
              "  <div id=\"df-edb6feb0-6c68-40e6-8fdb-b0747e3b2529\">\n",
              "    <div class=\"colab-df-container\">\n",
              "      <div>\n",
              "<style scoped>\n",
              "    .dataframe tbody tr th:only-of-type {\n",
              "        vertical-align: middle;\n",
              "    }\n",
              "\n",
              "    .dataframe tbody tr th {\n",
              "        vertical-align: top;\n",
              "    }\n",
              "\n",
              "    .dataframe thead tr th {\n",
              "        text-align: left;\n",
              "    }\n",
              "\n",
              "    .dataframe thead tr:last-of-type th {\n",
              "        text-align: right;\n",
              "    }\n",
              "</style>\n",
              "<table border=\"1\" class=\"dataframe\">\n",
              "  <thead>\n",
              "    <tr>\n",
              "      <th>m/z</th>\n",
              "      <th colspan=\"10\" halign=\"left\">0</th>\n",
              "      <th>...</th>\n",
              "      <th colspan=\"10\" halign=\"left\">99</th>\n",
              "    </tr>\n",
              "    <tr>\n",
              "      <th>temp_bin</th>\n",
              "      <th>(0, 100]</th>\n",
              "      <th>(100, 200]</th>\n",
              "      <th>(200, 300]</th>\n",
              "      <th>(300, 400]</th>\n",
              "      <th>(400, 500]</th>\n",
              "      <th>(500, 600]</th>\n",
              "      <th>(600, 700]</th>\n",
              "      <th>(700, 800]</th>\n",
              "      <th>(800, 900]</th>\n",
              "      <th>(900, 1000]</th>\n",
              "      <th>...</th>\n",
              "      <th>(500, 600]</th>\n",
              "      <th>(600, 700]</th>\n",
              "      <th>(700, 800]</th>\n",
              "      <th>(800, 900]</th>\n",
              "      <th>(900, 1000]</th>\n",
              "      <th>(1000, 1100]</th>\n",
              "      <th>(1100, 1200]</th>\n",
              "      <th>(1200, 1300]</th>\n",
              "      <th>(1300, 1400]</th>\n",
              "      <th>(1400, 1500]</th>\n",
              "    </tr>\n",
              "    <tr>\n",
              "      <th>sample_id</th>\n",
              "      <th></th>\n",
              "      <th></th>\n",
              "      <th></th>\n",
              "      <th></th>\n",
              "      <th></th>\n",
              "      <th></th>\n",
              "      <th></th>\n",
              "      <th></th>\n",
              "      <th></th>\n",
              "      <th></th>\n",
              "      <th></th>\n",
              "      <th></th>\n",
              "      <th></th>\n",
              "      <th></th>\n",
              "      <th></th>\n",
              "      <th></th>\n",
              "      <th></th>\n",
              "      <th></th>\n",
              "      <th></th>\n",
              "      <th></th>\n",
              "      <th></th>\n",
              "    </tr>\n",
              "  </thead>\n",
              "  <tbody>\n",
              "    <tr>\n",
              "      <th>S0000</th>\n",
              "      <td>0.004085</td>\n",
              "      <td>0.004641</td>\n",
              "      <td>0.001394</td>\n",
              "      <td>0.000188</td>\n",
              "      <td>0.000000</td>\n",
              "      <td>0.000000</td>\n",
              "      <td>0.000000</td>\n",
              "      <td>0.000000</td>\n",
              "      <td>0.000000</td>\n",
              "      <td>0.000000</td>\n",
              "      <td>...</td>\n",
              "      <td>0.000000</td>\n",
              "      <td>0.000000e+00</td>\n",
              "      <td>0.000000</td>\n",
              "      <td>0.000000</td>\n",
              "      <td>0.000000</td>\n",
              "      <td>0.000000</td>\n",
              "      <td>0.0</td>\n",
              "      <td>0.0</td>\n",
              "      <td>0.0</td>\n",
              "      <td>0.0</td>\n",
              "    </tr>\n",
              "    <tr>\n",
              "      <th>S0001</th>\n",
              "      <td>0.000000</td>\n",
              "      <td>0.000000</td>\n",
              "      <td>0.000000</td>\n",
              "      <td>0.000000</td>\n",
              "      <td>0.000000</td>\n",
              "      <td>0.000000</td>\n",
              "      <td>0.000000</td>\n",
              "      <td>0.000000</td>\n",
              "      <td>0.000000</td>\n",
              "      <td>0.000000</td>\n",
              "      <td>...</td>\n",
              "      <td>0.000000</td>\n",
              "      <td>0.000000e+00</td>\n",
              "      <td>0.000000</td>\n",
              "      <td>0.000000</td>\n",
              "      <td>0.000000</td>\n",
              "      <td>0.000000</td>\n",
              "      <td>0.0</td>\n",
              "      <td>0.0</td>\n",
              "      <td>0.0</td>\n",
              "      <td>0.0</td>\n",
              "    </tr>\n",
              "    <tr>\n",
              "      <th>S0002</th>\n",
              "      <td>0.002270</td>\n",
              "      <td>0.002495</td>\n",
              "      <td>0.001688</td>\n",
              "      <td>0.000636</td>\n",
              "      <td>0.000597</td>\n",
              "      <td>0.000819</td>\n",
              "      <td>0.000155</td>\n",
              "      <td>0.000235</td>\n",
              "      <td>0.000227</td>\n",
              "      <td>0.000086</td>\n",
              "      <td>...</td>\n",
              "      <td>0.000001</td>\n",
              "      <td>9.397170e-07</td>\n",
              "      <td>0.000001</td>\n",
              "      <td>0.000001</td>\n",
              "      <td>0.000001</td>\n",
              "      <td>0.000000</td>\n",
              "      <td>0.0</td>\n",
              "      <td>0.0</td>\n",
              "      <td>0.0</td>\n",
              "      <td>0.0</td>\n",
              "    </tr>\n",
              "    <tr>\n",
              "      <th>S0003</th>\n",
              "      <td>0.001336</td>\n",
              "      <td>0.002464</td>\n",
              "      <td>0.001099</td>\n",
              "      <td>0.000992</td>\n",
              "      <td>0.000676</td>\n",
              "      <td>0.000883</td>\n",
              "      <td>0.000892</td>\n",
              "      <td>0.000631</td>\n",
              "      <td>0.000361</td>\n",
              "      <td>0.000299</td>\n",
              "      <td>...</td>\n",
              "      <td>0.000005</td>\n",
              "      <td>4.693477e-06</td>\n",
              "      <td>0.000004</td>\n",
              "      <td>0.000004</td>\n",
              "      <td>0.000004</td>\n",
              "      <td>0.000003</td>\n",
              "      <td>0.0</td>\n",
              "      <td>0.0</td>\n",
              "      <td>0.0</td>\n",
              "      <td>0.0</td>\n",
              "    </tr>\n",
              "    <tr>\n",
              "      <th>S0004</th>\n",
              "      <td>0.005993</td>\n",
              "      <td>0.012429</td>\n",
              "      <td>0.009380</td>\n",
              "      <td>0.005099</td>\n",
              "      <td>0.006921</td>\n",
              "      <td>0.001966</td>\n",
              "      <td>0.000499</td>\n",
              "      <td>0.000880</td>\n",
              "      <td>0.000767</td>\n",
              "      <td>0.000903</td>\n",
              "      <td>...</td>\n",
              "      <td>0.000005</td>\n",
              "      <td>3.174421e-06</td>\n",
              "      <td>0.000004</td>\n",
              "      <td>0.000004</td>\n",
              "      <td>0.000003</td>\n",
              "      <td>0.000004</td>\n",
              "      <td>0.0</td>\n",
              "      <td>0.0</td>\n",
              "      <td>0.0</td>\n",
              "      <td>0.0</td>\n",
              "    </tr>\n",
              "  </tbody>\n",
              "</table>\n",
              "<p>5 rows × 1500 columns</p>\n",
              "</div>\n",
              "      <button class=\"colab-df-convert\" onclick=\"convertToInteractive('df-edb6feb0-6c68-40e6-8fdb-b0747e3b2529')\"\n",
              "              title=\"Convert this dataframe to an interactive table.\"\n",
              "              style=\"display:none;\">\n",
              "        \n",
              "  <svg xmlns=\"http://www.w3.org/2000/svg\" height=\"24px\"viewBox=\"0 0 24 24\"\n",
              "       width=\"24px\">\n",
              "    <path d=\"M0 0h24v24H0V0z\" fill=\"none\"/>\n",
              "    <path d=\"M18.56 5.44l.94 2.06.94-2.06 2.06-.94-2.06-.94-.94-2.06-.94 2.06-2.06.94zm-11 1L8.5 8.5l.94-2.06 2.06-.94-2.06-.94L8.5 2.5l-.94 2.06-2.06.94zm10 10l.94 2.06.94-2.06 2.06-.94-2.06-.94-.94-2.06-.94 2.06-2.06.94z\"/><path d=\"M17.41 7.96l-1.37-1.37c-.4-.4-.92-.59-1.43-.59-.52 0-1.04.2-1.43.59L10.3 9.45l-7.72 7.72c-.78.78-.78 2.05 0 2.83L4 21.41c.39.39.9.59 1.41.59.51 0 1.02-.2 1.41-.59l7.78-7.78 2.81-2.81c.8-.78.8-2.07 0-2.86zM5.41 20L4 18.59l7.72-7.72 1.47 1.35L5.41 20z\"/>\n",
              "  </svg>\n",
              "      </button>\n",
              "      \n",
              "  <style>\n",
              "    .colab-df-container {\n",
              "      display:flex;\n",
              "      flex-wrap:wrap;\n",
              "      gap: 12px;\n",
              "    }\n",
              "\n",
              "    .colab-df-convert {\n",
              "      background-color: #E8F0FE;\n",
              "      border: none;\n",
              "      border-radius: 50%;\n",
              "      cursor: pointer;\n",
              "      display: none;\n",
              "      fill: #1967D2;\n",
              "      height: 32px;\n",
              "      padding: 0 0 0 0;\n",
              "      width: 32px;\n",
              "    }\n",
              "\n",
              "    .colab-df-convert:hover {\n",
              "      background-color: #E2EBFA;\n",
              "      box-shadow: 0px 1px 2px rgba(60, 64, 67, 0.3), 0px 1px 3px 1px rgba(60, 64, 67, 0.15);\n",
              "      fill: #174EA6;\n",
              "    }\n",
              "\n",
              "    [theme=dark] .colab-df-convert {\n",
              "      background-color: #3B4455;\n",
              "      fill: #D2E3FC;\n",
              "    }\n",
              "\n",
              "    [theme=dark] .colab-df-convert:hover {\n",
              "      background-color: #434B5C;\n",
              "      box-shadow: 0px 1px 3px 1px rgba(0, 0, 0, 0.15);\n",
              "      filter: drop-shadow(0px 1px 2px rgba(0, 0, 0, 0.3));\n",
              "      fill: #FFFFFF;\n",
              "    }\n",
              "  </style>\n",
              "\n",
              "      <script>\n",
              "        const buttonEl =\n",
              "          document.querySelector('#df-edb6feb0-6c68-40e6-8fdb-b0747e3b2529 button.colab-df-convert');\n",
              "        buttonEl.style.display =\n",
              "          google.colab.kernel.accessAllowed ? 'block' : 'none';\n",
              "\n",
              "        async function convertToInteractive(key) {\n",
              "          const element = document.querySelector('#df-edb6feb0-6c68-40e6-8fdb-b0747e3b2529');\n",
              "          const dataTable =\n",
              "            await google.colab.kernel.invokeFunction('convertToInteractive',\n",
              "                                                     [key], {});\n",
              "          if (!dataTable) return;\n",
              "\n",
              "          const docLinkHtml = 'Like what you see? Visit the ' +\n",
              "            '<a target=\"_blank\" href=https://colab.research.google.com/notebooks/data_table.ipynb>data table notebook</a>'\n",
              "            + ' to learn more about interactive tables.';\n",
              "          element.innerHTML = '';\n",
              "          dataTable['output_type'] = 'display_data';\n",
              "          await google.colab.output.renderOutput(dataTable, element);\n",
              "          const docLink = document.createElement('div');\n",
              "          docLink.innerHTML = docLinkHtml;\n",
              "          element.appendChild(docLink);\n",
              "        }\n",
              "      </script>\n",
              "    </div>\n",
              "  </div>\n",
              "  "
            ],
            "text/plain": [
              "m/z              0                                                          \\\n",
              "temp_bin   (0, 100] (100, 200] (200, 300] (300, 400] (400, 500] (500, 600]   \n",
              "sample_id                                                                    \n",
              "S0000      0.004085   0.004641   0.001394   0.000188   0.000000   0.000000   \n",
              "S0001      0.000000   0.000000   0.000000   0.000000   0.000000   0.000000   \n",
              "S0002      0.002270   0.002495   0.001688   0.000636   0.000597   0.000819   \n",
              "S0003      0.001336   0.002464   0.001099   0.000992   0.000676   0.000883   \n",
              "S0004      0.005993   0.012429   0.009380   0.005099   0.006921   0.001966   \n",
              "\n",
              "m/z                                                     ...         99  \\\n",
              "temp_bin  (600, 700] (700, 800] (800, 900] (900, 1000]  ... (500, 600]   \n",
              "sample_id                                               ...              \n",
              "S0000       0.000000   0.000000   0.000000    0.000000  ...   0.000000   \n",
              "S0001       0.000000   0.000000   0.000000    0.000000  ...   0.000000   \n",
              "S0002       0.000155   0.000235   0.000227    0.000086  ...   0.000001   \n",
              "S0003       0.000892   0.000631   0.000361    0.000299  ...   0.000005   \n",
              "S0004       0.000499   0.000880   0.000767    0.000903  ...   0.000005   \n",
              "\n",
              "m/z                                                                     \\\n",
              "temp_bin     (600, 700] (700, 800] (800, 900] (900, 1000] (1000, 1100]   \n",
              "sample_id                                                                \n",
              "S0000      0.000000e+00   0.000000   0.000000    0.000000     0.000000   \n",
              "S0001      0.000000e+00   0.000000   0.000000    0.000000     0.000000   \n",
              "S0002      9.397170e-07   0.000001   0.000001    0.000001     0.000000   \n",
              "S0003      4.693477e-06   0.000004   0.000004    0.000004     0.000003   \n",
              "S0004      3.174421e-06   0.000004   0.000004    0.000003     0.000004   \n",
              "\n",
              "m/z                                                            \n",
              "temp_bin  (1100, 1200] (1200, 1300] (1300, 1400] (1400, 1500]  \n",
              "sample_id                                                      \n",
              "S0000              0.0          0.0          0.0          0.0  \n",
              "S0001              0.0          0.0          0.0          0.0  \n",
              "S0002              0.0          0.0          0.0          0.0  \n",
              "S0003              0.0          0.0          0.0          0.0  \n",
              "S0004              0.0          0.0          0.0          0.0  \n",
              "\n",
              "[5 rows x 1500 columns]"
            ]
          },
          "execution_count": 26,
          "metadata": {},
          "output_type": "execute_result"
        }
      ],
      "source": [
        "train_features.head()"
      ]
    },
    {
      "cell_type": "code",
      "execution_count": 27,
      "metadata": {
        "id": "asulKK8STVhW"
      },
      "outputs": [],
      "source": [
        "# Make sure that all sample IDs in features and labels are identical\n",
        "assert train_features.index.equals(train_labels.index)"
      ]
    },
    {
      "cell_type": "markdown",
      "metadata": {
        "id": "0nOAwuXgTaz8"
      },
      "source": [
        "# 6. Perform Modeling"
      ]
    },
    {
      "cell_type": "code",
      "execution_count": 28,
      "metadata": {
        "id": "Az9e5fImTdha"
      },
      "outputs": [],
      "source": [
        "# Define stratified k-fold validation\n",
        "skf = StratifiedKFold(n_splits=10, random_state=RANDOM_SEED, shuffle=True)\n",
        "\n",
        "# Define log loss\n",
        "log_loss_scorer = make_scorer(log_loss, needs_proba=True)"
      ]
    },
    {
      "cell_type": "code",
      "execution_count": 38,
      "metadata": {
        "id": "Q9ehrKEPTiMv"
      },
      "outputs": [],
      "source": [
        "# Check log loss score for baseline dummy model\n",
        "def logloss_cross_val(clf, X, y):\n",
        "\n",
        "    # Generate a score for each label class\n",
        "    log_loss_cv = {}\n",
        "    for col in y.columns:\n",
        "\n",
        "        y_col = y[col]  # take one label at a time\n",
        "        log_loss_cv[col] = np.mean(\n",
        "            cross_val_score(clf, X.values, y_col, cv=skf, scoring=log_loss_scorer)\n",
        "        )\n",
        "\n",
        "    avg_log_loss = np.mean(list(log_loss_cv.values()))\n",
        "\n",
        "    return log_loss_cv, avg_log_loss"
      ]
    },
    {
      "cell_type": "markdown",
      "metadata": {
        "id": "l4OCJmtKTe9C"
      },
      "source": [
        "## Baseline dummy classifier"
      ]
    },
    {
      "cell_type": "code",
      "execution_count": 39,
      "metadata": {
        "colab": {
          "base_uri": "https://localhost:8080/"
        },
        "id": "kaQucTkJTjIA",
        "outputId": "923ceb52-7bab-4448-e064-5ecbbd08f6bc"
      },
      "outputs": [
        {
          "name": "stdout",
          "output_type": "stream",
          "text": [
            "Dummy model log-loss:\n",
            "{'basalt': 0.3645372208379112,\n",
            " 'carbonate': 0.3824414251351717,\n",
            " 'chloride': 0.3697285633598953,\n",
            " 'iron_oxide': 0.5277071928108552,\n",
            " 'oxalate': 0.16528503978963754,\n",
            " 'oxychlorine': 0.5452451136713539,\n",
            " 'phyllosilicate': 0.6247744558229936,\n",
            " 'silicate': 0.39720419245594735,\n",
            " 'sulfate': 0.49271320494614584,\n",
            " 'sulfide': 0.18955707573177416}\n",
            "\n",
            "Average log-loss\n"
          ]
        },
        {
          "data": {
            "text/plain": [
              "0.40591934845616856"
            ]
          },
          "execution_count": 39,
          "metadata": {},
          "output_type": "execute_result"
        }
      ],
      "source": [
        "# Dummy classifier\n",
        "dummy_clf = DummyClassifier(strategy=\"prior\")\n",
        "\n",
        "# Cross Validation\n",
        "print(\"Dummy model log-loss:\")\n",
        "dummy_labelwise_logloss, dummy_avg_logloss = logloss_cross_val(dummy_clf, train_features, train_labels)\n",
        "pprint(dummy_labelwise_logloss)\n",
        "print(\"\\nAverage log-loss\")\n",
        "dummy_avg_logloss"
      ]
    },
    {
      "cell_type": "markdown",
      "metadata": {
        "id": "hOWm0SLdTlQj"
      },
      "source": [
        "## Logistic regression model"
      ]
    },
    {
      "cell_type": "code",
      "execution_count": 47,
      "metadata": {
        "colab": {
          "base_uri": "https://localhost:8080/"
        },
        "id": "YzUIK-XaTpg2",
        "outputId": "8ae09221-d107-406e-d911-a623d693c0ec"
      },
      "outputs": [
        {
          "name": "stdout",
          "output_type": "stream",
          "text": [
            "Logistic regression model log-loss:\n",
            "\n",
            "{'basalt': 0.27672359546453806,\n",
            " 'carbonate': 0.2614589394727089,\n",
            " 'chloride': 0.2841182874837477,\n",
            " 'iron_oxide': 0.38376399163199165,\n",
            " 'oxalate': 0.004094102362585186,\n",
            " 'oxychlorine': 0.29910400940977827,\n",
            " 'phyllosilicate': 0.4110026855029848,\n",
            " 'silicate': 0.35111797415663965,\n",
            " 'sulfate': 0.3446689121220305,\n",
            " 'sulfide': 0.13631160119625768}\n",
            "Average log-loss\n"
          ]
        },
        {
          "data": {
            "text/plain": [
              "0.2752364098803262"
            ]
          },
          "execution_count": 47,
          "metadata": {},
          "output_type": "execute_result"
        }
      ],
      "source": [
        "# Define logistic regression model\n",
        "logreg_clf = LogisticRegression(\n",
        "    penalty=\"l1\", solver=\"liblinear\", C=10, random_state=RANDOM_SEED\n",
        ")\n",
        "print(\"Logistic regression model log-loss:\\n\")\n",
        "logreg_labelwise_logloss, logreg_avg_logloss = logloss_cross_val(logreg_clf, train_features, train_labels)\n",
        "pprint(logreg_labelwise_logloss)\n",
        "print(\"Average log-loss\")\n",
        "logreg_avg_logloss"
      ]
    },
    {
      "cell_type": "markdown",
      "metadata": {
        "id": "FGvr8yQ83jQL"
      },
      "source": [
        "## XGBoost model"
      ]
    },
    {
      "cell_type": "code",
      "execution_count": 33,
      "metadata": {
        "colab": {
          "base_uri": "https://localhost:8080/"
        },
        "id": "Sok7impCigMq",
        "outputId": "98c4f5f4-a35c-4809-9fc7-3004d31539fe"
      },
      "outputs": [
        {
          "name": "stdout",
          "output_type": "stream",
          "text": [
            "XGBoost model log-loss:\n",
            "\n",
            "{'basalt': 0.2048042224619102, 'carbonate': 0.13357722719604742, 'chloride': 0.19081779801383258, 'iron_oxide': 0.2282876959209538, 'oxalate': 0.02619778705282484, 'oxychlorine': 0.19990084894222576, 'phyllosilicate': 0.2718878906244667, 'silicate': 0.22779872838696663, 'sulfate': 0.20202114710406177, 'sulfide': 0.07551884889244612}\n",
            "Average log-loss\n"
          ]
        },
        {
          "data": {
            "text/plain": [
              "0.1760812194595736"
            ]
          },
          "execution_count": 33,
          "metadata": {},
          "output_type": "execute_result"
        }
      ],
      "source": [
        "# Define the model\n",
        "xgboost_model = XGBClassifier(\n",
        "    objective='binary:logistic',\n",
        "    tree_method='gpu_hist',\n",
        "    gpu_id=0,\n",
        "    seed=RANDOM_SEED\n",
        "    )\n",
        "\n",
        "print(\"XGBoost model log-loss:\\n\")\n",
        "xgboost_labelwise_logloss, xgboost_avg_logloss = logloss_cross_val(xgboost_model, train_features, train_labels)\n",
        "print(xgboost_labelwise_logloss)\n",
        "print(\"Average log-loss\")\n",
        "xgboost_avg_logloss"
      ]
    },
    {
      "cell_type": "markdown",
      "metadata": {
        "id": "Cf-trxsfv6v0"
      },
      "source": [
        "## CatBoost model"
      ]
    },
    {
      "cell_type": "code",
      "execution_count": 42,
      "metadata": {
        "colab": {
          "base_uri": "https://localhost:8080/"
        },
        "id": "1z-955vXwXLs",
        "outputId": "8e7de76b-1c22-4829-afdc-a52e7867eb2a"
      },
      "outputs": [
        {
          "name": "stdout",
          "output_type": "stream",
          "text": [
            "CatBoost model log-loss:\n",
            "\n",
            "{'basalt': 0.21887766313698456, 'carbonate': 0.14202721119814415, 'chloride': 0.2017391712910893, 'iron_oxide': 0.23234814410597476, 'oxalate': 0.023221540586441016, 'oxychlorine': 0.2039719944368204, 'phyllosilicate': 0.26827676210542806, 'silicate': 0.24054264940687817, 'sulfate': 0.2207616145389581, 'sulfide': 0.09127113676510631}\n",
            "Average log-loss\n"
          ]
        },
        {
          "data": {
            "text/plain": [
              "0.1843037887571825"
            ]
          },
          "execution_count": 42,
          "metadata": {},
          "output_type": "execute_result"
        }
      ],
      "source": [
        "# Define the model. Adding iterations parameters to speed up pred.\n",
        "catboost_model = CatBoostClassifier(\n",
        "    task_type='GPU',\n",
        "    iterations=250,\n",
        "    random_seed=RANDOM_SEED,\n",
        "    silent=True\n",
        "    )\n",
        "\n",
        "print(\"CatBoost model log-loss:\\n\")\n",
        "catboost_labelwise_logloss, catboost_avg_logloss = logloss_cross_val(catboost_model, train_features, train_labels)\n",
        "print(catboost_labelwise_logloss)\n",
        "print(\"Average log-loss\")\n",
        "catboost_avg_logloss"
      ]
    },
    {
      "cell_type": "markdown",
      "metadata": {
        "id": "R-34X3VP8K0X"
      },
      "source": [
        "## LightGBM model"
      ]
    },
    {
      "cell_type": "code",
      "execution_count": 45,
      "metadata": {
        "colab": {
          "base_uri": "https://localhost:8080/"
        },
        "id": "koKl-kuN8Pjy",
        "outputId": "7024926c-a875-46a2-94e8-8358d4c57d8e"
      },
      "outputs": [
        {
          "name": "stdout",
          "output_type": "stream",
          "text": [
            "LightGBM model log-loss:\n",
            "\n",
            "{'basalt': 0.2724098706088447, 'carbonate': 0.17389896569613236, 'chloride': 0.29201949205004085, 'iron_oxide': 0.2696584949125955, 'oxalate': 0.05909615464942266, 'oxychlorine': 0.2608955521550483, 'phyllosilicate': 0.31594809483366404, 'silicate': 0.3536488986996479, 'sulfate': 0.2795565018890081, 'sulfide': 0.1172351142285039}\n",
            "Average log-loss\n"
          ]
        },
        {
          "data": {
            "text/plain": [
              "0.23943671397229083"
            ]
          },
          "execution_count": 45,
          "metadata": {},
          "output_type": "execute_result"
        }
      ],
      "source": [
        "# Define the model\n",
        "lightgbm_model = LGBMClassifier(\n",
        "    objective='binary',\n",
        "    device_type='gpu',\n",
        "    random_seed=RANDOM_SEED,\n",
        "    verbose=-1\n",
        ")\n",
        "\n",
        "print(\"LightGBM model log-loss:\\n\")\n",
        "lightgbm_labelwise_logloss, lightgbm_avg_logloss = logloss_cross_val(lightgbm_model, train_features, train_labels)\n",
        "print(lightgbm_labelwise_logloss)\n",
        "print(\"Average log-loss\")\n",
        "lightgbm_avg_logloss"
      ]
    },
    {
      "cell_type": "markdown",
      "metadata": {
        "id": "6WZcINZYQbx2"
      },
      "source": [
        "# 7. Compare performance before optimization"
      ]
    },
    {
      "cell_type": "code",
      "execution_count": 48,
      "metadata": {
        "colab": {
          "base_uri": "https://localhost:8080/",
          "height": 449
        },
        "id": "SjuzR9qbsA14",
        "outputId": "059ddca9-68df-4794-87a8-f7ff5ce9efbb"
      },
      "outputs": [
        {
          "data": {
            "text/plain": [
              "(array([0, 1, 2, 3, 4]),\n",
              " [Text(0, 0, 'dummy_clf'),\n",
              "  Text(1, 0, 'log_reg_model'),\n",
              "  Text(2, 0, 'xgboost'),\n",
              "  Text(3, 0, 'catboost'),\n",
              "  Text(4, 0, 'lightgbm')])"
            ]
          },
          "execution_count": 48,
          "metadata": {},
          "output_type": "execute_result"
        },
        {
          "data": {
            "image/png": "[encoded data removed]",
            "text/plain": [
              "<Figure size 432x288 with 1 Axes>"
            ]
          },
          "metadata": {
            "needs_background": "light"
          },
          "output_type": "display_data"
        }
      ],
      "source": [
        "# Create dictionary with model_names and their corresponding performance\n",
        "model_names = {'dummy_clf':dummy_avg_logloss,\n",
        "               'log_reg_model':logreg_avg_logloss,\n",
        "               'xgboost':xgboost_avg_logloss,\n",
        "               'catboost':catboost_avg_logloss,\n",
        "               'lightgbm':lightgbm_avg_logloss}\n",
        "\n",
        "# Plot the results (lower is better)\n",
        "ax = sns.barplot(x=list(model_names.keys()), y=list(model_names.values()))\n",
        "plt.title(\"Model performances\")\n",
        "plt.xlabel('model_name')\n",
        "plt.ylabel('log_loss')\n",
        "plt.xticks(rotation=45)"
      ]
    },
    {
      "cell_type": "markdown",
      "metadata": {
        "id": "Sf6QDN9B_4vy"
      },
      "source": [
        "# 8. Optuna optimization"
      ]
    },
    {
      "cell_type": "markdown",
      "metadata": {
        "id": "RasZhlmYAPJZ"
      },
      "source": [
        "## Install/Import"
      ]
    },
    {
      "cell_type": "code",
      "execution_count": null,
      "metadata": {
        "id": "k9fx3MSdBy-K"
      },
      "outputs": [],
      "source": [
        "!pip install optuna\n",
        "\n",
        "import optuna"
      ]
    },
    {
      "cell_type": "markdown",
      "metadata": {
        "id": "utjES9mPS0Ge"
      },
      "source": [
        "## XGBoost optimization"
      ]
    },
    {
      "cell_type": "code",
      "execution_count": 50,
      "metadata": {
        "colab": {
          "base_uri": "https://localhost:8080/"
        },
        "id": "HPYI2uHUPhOm",
        "outputId": "5060d555-1418-4e47-8201-24bc2e50cb67"
      },
      "outputs": [
        {
          "name": "stderr",
          "output_type": "stream",
          "text": [
            "\u001b[32m[I 2022-04-21 20:04:24,540]\u001b[0m A new study created in memory with name: XGBoost optimization\u001b[0m\n",
            "\u001b[32m[I 2022-04-21 20:04:40,337]\u001b[0m Trial 0 finished with value: 0.16658454721823482 and parameters: {'depth': 5, 'n_estimators': 400, 'iterations': 80, 'learning_rate': 0.13, 'lambda': 0.00288632979835963, 'alpha': 0.042126769442889164}. Best is trial 0 with value: 0.16658454721823482.\u001b[0m\n",
            "\u001b[32m[I 2022-04-21 20:04:49,350]\u001b[0m Trial 1 finished with value: 0.1706214995843769 and parameters: {'depth': 9, 'n_estimators': 130, 'iterations': 80, 'learning_rate': 0.32, 'lambda': 0.32371728751351364, 'alpha': 0.012520451149282406}. Best is trial 0 with value: 0.16658454721823482.\u001b[0m\n",
            "\u001b[32m[I 2022-04-21 20:05:02,289]\u001b[0m Trial 2 finished with value: 0.17912825143550926 and parameters: {'depth': 6, 'n_estimators': 340, 'iterations': 390, 'learning_rate': 0.44, 'lambda': 3.701481341922972, 'alpha': 0.3287101719128261}. Best is trial 0 with value: 0.16658454721823482.\u001b[0m\n",
            "\u001b[32m[I 2022-04-21 20:05:18,062]\u001b[0m Trial 3 finished with value: 0.1839623767779263 and parameters: {'depth': 3, 'n_estimators': 470, 'iterations': 270, 'learning_rate': 0.35000000000000003, 'lambda': 1.351223434779919, 'alpha': 0.0011096501534686137}. Best is trial 0 with value: 0.16658454721823482.\u001b[0m\n",
            "\u001b[32m[I 2022-04-21 20:05:27,761]\u001b[0m Trial 4 finished with value: 0.18139689980341395 and parameters: {'depth': 11, 'n_estimators': 170, 'iterations': 200, 'learning_rate': 0.47000000000000003, 'lambda': 0.001223371305510308, 'alpha': 0.003685728270190711}. Best is trial 0 with value: 0.16658454721823482.\u001b[0m\n",
            "\u001b[32m[I 2022-04-21 20:05:35,592]\u001b[0m Trial 5 finished with value: 0.20502551061752236 and parameters: {'depth': 12, 'n_estimators': 80, 'iterations': 380, 'learning_rate': 0.85, 'lambda': 0.0038822474494699596, 'alpha': 0.08383058899551178}. Best is trial 0 with value: 0.16658454721823482.\u001b[0m\n",
            "\u001b[32m[I 2022-04-21 20:05:50,397]\u001b[0m Trial 6 finished with value: 0.19063392276246074 and parameters: {'depth': 5, 'n_estimators': 440, 'iterations': 240, 'learning_rate': 0.52, 'lambda': 0.14783220064050706, 'alpha': 0.5882782285871188}. Best is trial 0 with value: 0.16658454721823482.\u001b[0m\n",
            "\u001b[32m[I 2022-04-21 20:06:02,559]\u001b[0m Trial 7 finished with value: 0.18076220343400123 and parameters: {'depth': 4, 'n_estimators': 300, 'iterations': 120, 'learning_rate': 0.45, 'lambda': 0.017827894090961156, 'alpha': 0.0018484286363770071}. Best is trial 0 with value: 0.16658454721823482.\u001b[0m\n",
            "\u001b[32m[I 2022-04-21 20:06:10,908]\u001b[0m Trial 8 finished with value: 0.18077919322953417 and parameters: {'depth': 11, 'n_estimators': 110, 'iterations': 210, 'learning_rate': 0.5800000000000001, 'lambda': 8.467298187187106, 'alpha': 0.13073004583906667}. Best is trial 0 with value: 0.16658454721823482.\u001b[0m\n",
            "\u001b[32m[I 2022-04-21 20:06:23,135]\u001b[0m Trial 9 finished with value: 0.1931348015377495 and parameters: {'depth': 10, 'n_estimators': 310, 'iterations': 340, 'learning_rate': 0.66, 'lambda': 0.17618729116428436, 'alpha': 0.001606696750575315}. Best is trial 0 with value: 0.16658454721823482.\u001b[0m\n",
            "\u001b[32m[I 2022-04-21 20:06:40,158]\u001b[0m Trial 10 finished with value: 0.19929920196749346 and parameters: {'depth': 7, 'n_estimators': 400, 'iterations': 500, 'learning_rate': 0.01, 'lambda': 0.01708107744563329, 'alpha': 9.939305874678189}. Best is trial 0 with value: 0.16658454721823482.\u001b[0m\n",
            "\u001b[32m[I 2022-04-21 20:06:51,970]\u001b[0m Trial 11 finished with value: 0.1621500327485607 and parameters: {'depth': 9, 'n_estimators': 240, 'iterations': 90, 'learning_rate': 0.13, 'lambda': 0.45398146869266764, 'alpha': 0.016646599814269226}. Best is trial 11 with value: 0.1621500327485607.\u001b[0m\n",
            "\u001b[32m[I 2022-04-21 20:07:03,249]\u001b[0m Trial 12 finished with value: 0.15675631456119363 and parameters: {'depth': 8, 'n_estimators': 200, 'iterations': 140, 'learning_rate': 0.08, 'lambda': 0.037603456185284705, 'alpha': 0.01733322612877168}. Best is trial 12 with value: 0.15675631456119363.\u001b[0m\n",
            "\u001b[32m[I 2022-04-21 20:07:14,464]\u001b[0m Trial 13 finished with value: 0.16302262645850926 and parameters: {'depth': 8, 'n_estimators': 220, 'iterations': 160, 'learning_rate': 0.15000000000000002, 'lambda': 0.022856594063094822, 'alpha': 0.011229119836074549}. Best is trial 12 with value: 0.15675631456119363.\u001b[0m\n",
            "\u001b[32m[I 2022-04-21 20:07:26,241]\u001b[0m Trial 14 finished with value: 0.16848549329928225 and parameters: {'depth': 8, 'n_estimators': 230, 'iterations': 160, 'learning_rate': 0.18000000000000002, 'lambda': 0.49551394163755097, 'alpha': 0.01220201452410933}. Best is trial 12 with value: 0.15675631456119363.\u001b[0m\n",
            "\u001b[32m[I 2022-04-21 20:07:38,304]\u001b[0m Trial 15 finished with value: 0.16437871218718583 and parameters: {'depth': 9, 'n_estimators': 230, 'iterations': 140, 'learning_rate': 0.04, 'lambda': 0.05908820235028741, 'alpha': 0.02471548082168537}. Best is trial 12 with value: 0.15675631456119363.\u001b[0m\n",
            "\u001b[32m[I 2022-04-21 20:07:48,396]\u001b[0m Trial 16 finished with value: 0.17293225037285584 and parameters: {'depth': 9, 'n_estimators': 180, 'iterations': 310, 'learning_rate': 0.27, 'lambda': 0.7440422551697732, 'alpha': 1.9276569987610184}. Best is trial 12 with value: 0.15675631456119363.\u001b[0m\n",
            "\u001b[32m[I 2022-04-21 20:07:59,460]\u001b[0m Trial 17 finished with value: 0.21632384087496853 and parameters: {'depth': 7, 'n_estimators': 260, 'iterations': 110, 'learning_rate': 1.0, 'lambda': 0.06971095993441395, 'alpha': 0.006155383492079995}. Best is trial 12 with value: 0.15675631456119363.\u001b[0m\n",
            "\u001b[32m[I 2022-04-21 20:08:09,467]\u001b[0m Trial 18 finished with value: 0.1714226953128693 and parameters: {'depth': 10, 'n_estimators': 170, 'iterations': 190, 'learning_rate': 0.23, 'lambda': 1.2411598404371786, 'alpha': 0.05430032265144513}. Best is trial 12 with value: 0.15675631456119363.\u001b[0m\n",
            "\u001b[32m[I 2022-04-21 20:08:24,234]\u001b[0m Trial 19 finished with value: 0.16313437586777613 and parameters: {'depth': 6, 'n_estimators': 350, 'iterations': 480, 'learning_rate': 0.09, 'lambda': 0.03644274304246995, 'alpha': 0.025749917394087395}. Best is trial 12 with value: 0.15675631456119363.\u001b[0m\n",
            "\u001b[32m[I 2022-04-21 20:08:35,523]\u001b[0m Trial 20 finished with value: 0.19496840874520938 and parameters: {'depth': 10, 'n_estimators': 260, 'iterations': 250, 'learning_rate': 0.7000000000000001, 'lambda': 0.008961515240307397, 'alpha': 0.18443043620713787}. Best is trial 12 with value: 0.15675631456119363.\u001b[0m\n",
            "\u001b[32m[I 2022-04-21 20:08:46,685]\u001b[0m Trial 21 finished with value: 0.16238184288381693 and parameters: {'depth': 8, 'n_estimators': 210, 'iterations': 160, 'learning_rate': 0.15000000000000002, 'lambda': 0.02791243237009956, 'alpha': 0.005542390895601359}. Best is trial 12 with value: 0.15675631456119363.\u001b[0m\n",
            "\u001b[32m[I 2022-04-21 20:08:57,204]\u001b[0m Trial 22 finished with value: 0.16560639397505145 and parameters: {'depth': 8, 'n_estimators': 190, 'iterations': 110, 'learning_rate': 0.22, 'lambda': 0.16437582742905307, 'alpha': 0.004128650026162799}. Best is trial 12 with value: 0.15675631456119363.\u001b[0m\n",
            "\u001b[32m[I 2022-04-21 20:09:06,200]\u001b[0m Trial 23 finished with value: 0.17484750050729628 and parameters: {'depth': 7, 'n_estimators': 130, 'iterations': 170, 'learning_rate': 0.35000000000000003, 'lambda': 0.008138589729380667, 'alpha': 0.006119288031255175}. Best is trial 12 with value: 0.15675631456119363.\u001b[0m\n",
            "\u001b[32m[I 2022-04-21 20:09:19,089]\u001b[0m Trial 24 finished with value: 0.15769047346609888 and parameters: {'depth': 9, 'n_estimators': 270, 'iterations': 80, 'learning_rate': 0.06999999999999999, 'lambda': 0.05764403558752663, 'alpha': 0.025742014877676533}. Best is trial 12 with value: 0.15675631456119363.\u001b[0m\n",
            "\u001b[32m[I 2022-04-21 20:09:32,219]\u001b[0m Trial 25 finished with value: 0.15618879734667374 and parameters: {'depth': 9, 'n_estimators': 280, 'iterations': 80, 'learning_rate': 0.060000000000000005, 'lambda': 0.0808408722711427, 'alpha': 0.022674221126685937}. Best is trial 25 with value: 0.15618879734667374.\u001b[0m\n",
            "\u001b[32m[I 2022-04-21 20:09:45,474]\u001b[0m Trial 26 finished with value: 0.1561850297605533 and parameters: {'depth': 11, 'n_estimators': 270, 'iterations': 130, 'learning_rate': 0.060000000000000005, 'lambda': 0.070494218855612, 'alpha': 0.05277449197608768}. Best is trial 26 with value: 0.1561850297605533.\u001b[0m\n",
            "\u001b[32m[I 2022-04-21 20:10:00,553]\u001b[0m Trial 27 finished with value: 0.21194020965972551 and parameters: {'depth': 12, 'n_estimators': 330, 'iterations': 130, 'learning_rate': 0.01, 'lambda': 0.09999798546614737, 'alpha': 0.07258433505206575}. Best is trial 26 with value: 0.1561850297605533.\u001b[0m\n",
            "\u001b[32m[I 2022-04-21 20:10:14,783]\u001b[0m Trial 28 finished with value: 0.1812714476183822 and parameters: {'depth': 11, 'n_estimators': 380, 'iterations': 140, 'learning_rate': 0.3, 'lambda': 0.00950584861861678, 'alpha': 0.23205694369348803}. Best is trial 26 with value: 0.1561850297605533.\u001b[0m\n",
            "\u001b[32m[I 2022-04-21 20:10:27,834]\u001b[0m Trial 29 finished with value: 0.1643497689073275 and parameters: {'depth': 10, 'n_estimators': 290, 'iterations': 230, 'learning_rate': 0.09999999999999999, 'lambda': 0.24307777275562215, 'alpha': 0.04120556352396425}. Best is trial 26 with value: 0.1561850297605533.\u001b[0m\n",
            "\u001b[32m[I 2022-04-21 20:10:42,004]\u001b[0m Trial 30 finished with value: 0.17209422408572225 and parameters: {'depth': 11, 'n_estimators': 360, 'iterations': 190, 'learning_rate': 0.21000000000000002, 'lambda': 0.003443597134403389, 'alpha': 0.9818032743183654}. Best is trial 26 with value: 0.1561850297605533.\u001b[0m\n",
            "\u001b[32m[I 2022-04-21 20:10:54,909]\u001b[0m Trial 31 finished with value: 0.15769047346609888 and parameters: {'depth': 9, 'n_estimators': 270, 'iterations': 80, 'learning_rate': 0.06999999999999999, 'lambda': 0.04943035072963475, 'alpha': 0.03347396790131185}. Best is trial 26 with value: 0.1561850297605533.\u001b[0m\n",
            "\u001b[32m[I 2022-04-21 20:11:08,490]\u001b[0m Trial 32 finished with value: 0.15801984995710888 and parameters: {'depth': 10, 'n_estimators': 290, 'iterations': 80, 'learning_rate': 0.06999999999999999, 'lambda': 0.09228394925229952, 'alpha': 0.048546042913984795}. Best is trial 26 with value: 0.1561850297605533.\u001b[0m\n",
            "\u001b[32m[I 2022-04-21 20:11:21,767]\u001b[0m Trial 33 finished with value: 0.22841281404419972 and parameters: {'depth': 6, 'n_estimators': 270, 'iterations': 100, 'learning_rate': 0.01, 'lambda': 0.05324713903017978, 'alpha': 0.01744880479893584}. Best is trial 26 with value: 0.1561850297605533.\u001b[0m\n",
            "\u001b[32m[I 2022-04-21 20:11:35,764]\u001b[0m Trial 34 finished with value: 0.164711204193082 and parameters: {'depth': 9, 'n_estimators': 330, 'iterations': 120, 'learning_rate': 0.13, 'lambda': 0.03715105929510017, 'alpha': 0.12913450508157756}. Best is trial 26 with value: 0.1561850297605533.\u001b[0m\n",
            "\u001b[32m[I 2022-04-21 20:11:46,051]\u001b[0m Trial 35 finished with value: 0.18123774599651427 and parameters: {'depth': 12, 'n_estimators': 190, 'iterations': 80, 'learning_rate': 0.38, 'lambda': 0.01548955935754217, 'alpha': 0.03269492662055817}. Best is trial 26 with value: 0.1561850297605533.\u001b[0m\n",
            "\u001b[32m[I 2022-04-21 20:11:57,768]\u001b[0m Trial 36 finished with value: 0.1713386501634683 and parameters: {'depth': 8, 'n_estimators': 250, 'iterations': 140, 'learning_rate': 0.26, 'lambda': 0.22430406170411504, 'alpha': 0.008753910246130172}. Best is trial 26 with value: 0.1561850297605533.\u001b[0m\n",
            "\u001b[32m[I 2022-04-21 20:12:08,925]\u001b[0m Trial 37 finished with value: 0.1697916224514635 and parameters: {'depth': 11, 'n_estimators': 210, 'iterations': 280, 'learning_rate': 0.19, 'lambda': 0.1031686310814099, 'alpha': 0.017937415479616955}. Best is trial 26 with value: 0.1561850297605533.\u001b[0m\n",
            "\u001b[32m[I 2022-04-21 20:12:19,026]\u001b[0m Trial 38 finished with value: 0.1566457797965039 and parameters: {'depth': 6, 'n_estimators': 160, 'iterations': 100, 'learning_rate': 0.09, 'lambda': 0.0049311261038336935, 'alpha': 0.048563052722402876}. Best is trial 26 with value: 0.1561850297605533.\u001b[0m\n",
            "\u001b[32m[I 2022-04-21 20:12:28,819]\u001b[0m Trial 39 finished with value: 0.15915037793650144 and parameters: {'depth': 5, 'n_estimators': 150, 'iterations': 390, 'learning_rate': 0.12, 'lambda': 0.0012547671216406675, 'alpha': 0.09275257027117793}. Best is trial 26 with value: 0.1561850297605533.\u001b[0m\n",
            "\u001b[32m[I 2022-04-21 20:12:38,105]\u001b[0m Trial 40 finished with value: 0.17529729510406447 and parameters: {'depth': 3, 'n_estimators': 150, 'iterations': 210, 'learning_rate': 0.39, 'lambda': 0.005302293132064082, 'alpha': 0.002586060651448032}. Best is trial 26 with value: 0.1561850297605533.\u001b[0m\n",
            "\u001b[32m[I 2022-04-21 20:12:46,369]\u001b[0m Trial 41 finished with value: 0.17532736995978976 and parameters: {'depth': 7, 'n_estimators': 90, 'iterations': 100, 'learning_rate': 0.06999999999999999, 'lambda': 0.001808722887208765, 'alpha': 0.05689696751931455}. Best is trial 26 with value: 0.1561850297605533.\u001b[0m\n",
            "\u001b[32m[I 2022-04-21 20:13:00,401]\u001b[0m Trial 42 finished with value: 0.15665812353035025 and parameters: {'depth': 6, 'n_estimators': 310, 'iterations': 120, 'learning_rate': 0.060000000000000005, 'lambda': 0.03750466929438572, 'alpha': 0.3742174827125889}. Best is trial 26 with value: 0.1561850297605533.\u001b[0m\n",
            "\u001b[32m[I 2022-04-21 20:13:14,601]\u001b[0m Trial 43 finished with value: 0.1579466135623414 and parameters: {'depth': 6, 'n_estimators': 310, 'iterations': 170, 'learning_rate': 0.05, 'lambda': 0.014381992134950707, 'alpha': 0.9514277187928534}. Best is trial 26 with value: 0.1561850297605533.\u001b[0m\n",
            "\u001b[32m[I 2022-04-21 20:13:31,758]\u001b[0m Trial 44 finished with value: 0.17296580137728845 and parameters: {'depth': 4, 'n_estimators': 500, 'iterations': 130, 'learning_rate': 0.17, 'lambda': 0.0021505902720330857, 'alpha': 0.423480952300329}. Best is trial 26 with value: 0.1561850297605533.\u001b[0m\n",
            "\u001b[32m[I 2022-04-21 20:13:41,308]\u001b[0m Trial 45 finished with value: 0.15935901572154093 and parameters: {'depth': 5, 'n_estimators': 140, 'iterations': 420, 'learning_rate': 0.12, 'lambda': 0.03228887726681336, 'alpha': 0.2506194086448684}. Best is trial 26 with value: 0.1561850297605533.\u001b[0m\n",
            "\u001b[32m[I 2022-04-21 20:13:50,095]\u001b[0m Trial 46 finished with value: 0.16311048730636815 and parameters: {'depth': 6, 'n_estimators': 110, 'iterations': 110, 'learning_rate': 0.26, 'lambda': 0.12665103645488435, 'alpha': 0.13699370405768466}. Best is trial 26 with value: 0.1561850297605533.\u001b[0m\n",
            "\u001b[32m[I 2022-04-21 20:14:07,161]\u001b[0m Trial 47 finished with value: 0.159192807333915 and parameters: {'depth': 7, 'n_estimators': 420, 'iterations': 150, 'learning_rate': 0.03, 'lambda': 0.3258702778976667, 'alpha': 5.520869123412087}. Best is trial 26 with value: 0.1561850297605533.\u001b[0m\n",
            "\u001b[32m[I 2022-04-21 20:14:19,567]\u001b[0m Trial 48 finished with value: 0.19485524751622435 and parameters: {'depth': 6, 'n_estimators': 310, 'iterations': 180, 'learning_rate': 0.53, 'lambda': 2.9169748112300278, 'alpha': 0.5890098940418405}. Best is trial 26 with value: 0.1561850297605533.\u001b[0m\n",
            "\u001b[32m[I 2022-04-21 20:14:30,822]\u001b[0m Trial 49 finished with value: 0.16492002309326698 and parameters: {'depth': 4, 'n_estimators': 200, 'iterations': 310, 'learning_rate': 0.16, 'lambda': 0.02015634090620232, 'alpha': 0.07250820891999482}. Best is trial 26 with value: 0.1561850297605533.\u001b[0m\n"
          ]
        },
        {
          "name": "stdout",
          "output_type": "stream",
          "text": [
            "Number of finished trials:  50\n",
            "Best trial:\n",
            "  Value: 0.1561850297605533\n",
            "  Params: \n",
            "    depth: 11\n",
            "    n_estimators: 270\n",
            "    iterations: 130\n",
            "    learning_rate: 0.060000000000000005\n",
            "    lambda: 0.070494218855612\n",
            "    alpha: 0.05277449197608768\n"
          ]
        }
      ],
      "source": [
        "# define hyperparameters and scopes\n",
        "def objective(trial):\n",
        "\n",
        "    # Define model parameters\n",
        "    params = {\n",
        "        \"depth\": trial.suggest_int(\"depth\", 3, 12, step=1),\n",
        "        \"n_estimators\": trial.suggest_int(\"n_estimators\", 80, 500, step=10),\n",
        "        \"iterations\": trial.suggest_int(\"iterations\", 80, 500, step=10),\n",
        "        \"learning_rate\": trial.suggest_float(\"learning_rate\", 0.01, 1.0, step=0.01),\n",
        "        'lambda': trial.suggest_loguniform('lambda', 1e-3, 10.0),\n",
        "        'alpha': trial.suggest_loguniform('alpha', 1e-3, 10.0),\n",
        "    }\n",
        "\n",
        "    # Define model\n",
        "    model = XGBClassifier(**params,\n",
        "                        objective='binary:logistic',\n",
        "                        eval_metric= \"logloss\",\n",
        "                        tree_method='gpu_hist',\n",
        "                        gpu_id=0,\n",
        "                        seed=RANDOM_SEED\n",
        "                        )\n",
        "    \n",
        "    \n",
        "    # Evaluate log_loss for each label\n",
        "    aggr_log_loss = {}\n",
        "\n",
        "    for col in val_labels.columns:\n",
        "\n",
        "        train_y_col = train_labels[col]\n",
        "        val_y_col = val_labels[col]\n",
        "\n",
        "        model.fit(\n",
        "            train_features.values,\n",
        "            train_y_col\n",
        "            )\n",
        "\n",
        "        pred_labels = model.predict_proba(val_features.values)\n",
        "        aggr_log_loss[col] = log_loss(y_true=val_y_col.values, y_pred=pred_labels, labels=[0,1])\n",
        "\n",
        "    # Calculate aggregated log_loss\n",
        "    avg_log_loss = np.mean(list(aggr_log_loss.values()))\n",
        "\n",
        "    return avg_log_loss\n",
        "\n",
        "xgboost_study = optuna.create_study(direction=\"minimize\", study_name='XGBoost optimization')\n",
        "xgboost_study.optimize(objective, n_trials=100, timeout=600)\n",
        "\n",
        "print(\"Number of finished trials: \", len(xgboost_study.trials))\n",
        "print(\"Best trial:\")\n",
        "xgboost_trial = xgboost_study.best_trial\n",
        "\n",
        "print(\"  Value: {}\".format(xgboost_trial.value))\n",
        "print(\"  Params: \")\n",
        "for key, value in xgboost_trial.params.items():\n",
        "\n",
        "    print(\"    {}: {}\".format(key, value))"
      ]
    },
    {
      "cell_type": "code",
      "execution_count": 51,
      "metadata": {
        "colab": {
          "base_uri": "https://localhost:8080/",
          "height": 542
        },
        "id": "jpKC8r07Lcfi",
        "outputId": "467547b3-b26c-493e-bfba-23a687c77949"
      },
      "outputs": [
        {
          "data": {
            "text/html": [
              "<html>\n",
              "<head><meta charset=\"utf-8\" /></head>\n",
              "<body>\n",
              "    <div>            <script src=\"https://cdnjs.cloudflare.com/ajax/libs/mathjax/2.7.5/MathJax.js?config=TeX-AMS-MML_SVG\"></script><script type=\"text/javascript\">if (window.MathJax) {MathJax.Hub.Config({SVG: {font: \"STIX-Web\"}});}</script>                <script type=\"text/javascript\">window.PlotlyConfig = {MathJaxConfig: 'local'};</script>\n",
              "        <script src=\"https://cdn.plot.ly/plotly-2.8.3.min.js\"></script>                <div id=\"35f9a321-78a6-4853-a0c9-2b1bdad1a65f\" class=\"plotly-graph-div\" style=\"height:525px; width:100%;\"></div>            <script type=\"text/javascript\">                                    window.PLOTLYENV=window.PLOTLYENV || {};                                    if (document.getElementById(\"35f9a321-78a6-4853-a0c9-2b1bdad1a65f\")) {                    Plotly.newPlot(                        \"35f9a321-78a6-4853-a0c9-2b1bdad1a65f\",                        [{\"mode\":\"markers\",\"name\":\"Objective Value\",\"x\":[0,1,2,3,4,5,6,7,8,9,10,11,12,13,14,15,16,17,18,19,20,21,22,23,24,25,26,27,28,29,30,31,32,33,34,35,36,37,38,39,40,41,42,43,44,45,46,47,48,49],\"y\":[0.16658454721823482,0.1706214995843769,0.17912825143550926,0.1839623767779263,0.18139689980341395,0.20502551061752236,0.19063392276246074,0.18076220343400123,0.18077919322953417,0.1931348015377495,0.19929920196749346,0.1621500327485607,0.15675631456119363,0.16302262645850926,0.16848549329928225,0.16437871218718583,0.17293225037285584,0.21632384087496853,0.1714226953128693,0.16313437586777613,0.19496840874520938,0.16238184288381693,0.16560639397505145,0.17484750050729628,0.15769047346609888,0.15618879734667374,0.1561850297605533,0.21194020965972551,0.1812714476183822,0.1643497689073275,0.17209422408572225,0.15769047346609888,0.15801984995710888,0.22841281404419972,0.164711204193082,0.18123774599651427,0.1713386501634683,0.1697916224514635,0.1566457797965039,0.15915037793650144,0.17529729510406447,0.17532736995978976,0.15665812353035025,0.1579466135623414,0.17296580137728845,0.15935901572154093,0.16311048730636815,0.159192807333915,0.19485524751622435,0.16492002309326698],\"type\":\"scatter\"},{\"name\":\"Best Value\",\"x\":[0,1,2,3,4,5,6,7,8,9,10,11,12,13,14,15,16,17,18,19,20,21,22,23,24,25,26,27,28,29,30,31,32,33,34,35,36,37,38,39,40,41,42,43,44,45,46,47,48,49],\"y\":[0.16658454721823482,0.16658454721823482,0.16658454721823482,0.16658454721823482,0.16658454721823482,0.16658454721823482,0.16658454721823482,0.16658454721823482,0.16658454721823482,0.16658454721823482,0.16658454721823482,0.1621500327485607,0.15675631456119363,0.15675631456119363,0.15675631456119363,0.15675631456119363,0.15675631456119363,0.15675631456119363,0.15675631456119363,0.15675631456119363,0.15675631456119363,0.15675631456119363,0.15675631456119363,0.15675631456119363,0.15675631456119363,0.15618879734667374,0.1561850297605533,0.1561850297605533,0.1561850297605533,0.1561850297605533,0.1561850297605533,0.1561850297605533,0.1561850297605533,0.1561850297605533,0.1561850297605533,0.1561850297605533,0.1561850297605533,0.1561850297605533,0.1561850297605533,0.1561850297605533,0.1561850297605533,0.1561850297605533,0.1561850297605533,0.1561850297605533,0.1561850297605533,0.1561850297605533,0.1561850297605533,0.1561850297605533,0.1561850297605533,0.1561850297605533],\"type\":\"scatter\"}],                        {\"title\":{\"text\":\"Optimization History Plot\"},\"xaxis\":{\"title\":{\"text\":\"#Trials\"}},\"yaxis\":{\"title\":{\"text\":\"Objective Value\"}},\"template\":{\"data\":{\"bar\":[{\"error_x\":{\"color\":\"#2a3f5f\"},\"error_y\":{\"color\":\"#2a3f5f\"},\"marker\":{\"line\":{\"color\":\"#E5ECF6\",\"width\":0.5},\"pattern\":{\"fillmode\":\"overlay\",\"size\":10,\"solidity\":0.2}},\"type\":\"bar\"}],\"barpolar\":[{\"marker\":{\"line\":{\"color\":\"#E5ECF6\",\"width\":0.5},\"pattern\":{\"fillmode\":\"overlay\",\"size\":10,\"solidity\":0.2}},\"type\":\"barpolar\"}],\"carpet\":[{\"aaxis\":{\"endlinecolor\":\"#2a3f5f\",\"gridcolor\":\"white\",\"linecolor\":\"white\",\"minorgridcolor\":\"white\",\"startlinecolor\":\"#2a3f5f\"},\"baxis\":{\"endlinecolor\":\"#2a3f5f\",\"gridcolor\":\"white\",\"linecolor\":\"white\",\"minorgridcolor\":\"white\",\"startlinecolor\":\"#2a3f5f\"},\"type\":\"carpet\"}],\"choropleth\":[{\"colorbar\":{\"outlinewidth\":0,\"ticks\":\"\"},\"type\":\"choropleth\"}],\"contour\":[{\"colorbar\":{\"outlinewidth\":0,\"ticks\":\"\"},\"colorscale\":[[0.0,\"#0d0887\"],[0.1111111111111111,\"#46039f\"],[0.2222222222222222,\"#7201a8\"],[0.3333333333333333,\"#9c179e\"],[0.4444444444444444,\"#bd3786\"],[0.5555555555555556,\"#d8576b\"],[0.6666666666666666,\"#ed7953\"],[0.7777777777777778,\"#fb9f3a\"],[0.8888888888888888,\"#fdca26\"],[1.0,\"#f0f921\"]],\"type\":\"contour\"}],\"contourcarpet\":[{\"colorbar\":{\"outlinewidth\":0,\"ticks\":\"\"},\"type\":\"contourcarpet\"}],\"heatmap\":[{\"colorbar\":{\"outlinewidth\":0,\"ticks\":\"\"},\"colorscale\":[[0.0,\"#0d0887\"],[0.1111111111111111,\"#46039f\"],[0.2222222222222222,\"#7201a8\"],[0.3333333333333333,\"#9c179e\"],[0.4444444444444444,\"#bd3786\"],[0.5555555555555556,\"#d8576b\"],[0.6666666666666666,\"#ed7953\"],[0.7777777777777778,\"#fb9f3a\"],[0.8888888888888888,\"#fdca26\"],[1.0,\"#f0f921\"]],\"type\":\"heatmap\"}],\"heatmapgl\":[{\"colorbar\":{\"outlinewidth\":0,\"ticks\":\"\"},\"colorscale\":[[0.0,\"#0d0887\"],[0.1111111111111111,\"#46039f\"],[0.2222222222222222,\"#7201a8\"],[0.3333333333333333,\"#9c179e\"],[0.4444444444444444,\"#bd3786\"],[0.5555555555555556,\"#d8576b\"],[0.6666666666666666,\"#ed7953\"],[0.7777777777777778,\"#fb9f3a\"],[0.8888888888888888,\"#fdca26\"],[1.0,\"#f0f921\"]],\"type\":\"heatmapgl\"}],\"histogram\":[{\"marker\":{\"pattern\":{\"fillmode\":\"overlay\",\"size\":10,\"solidity\":0.2}},\"type\":\"histogram\"}],\"histogram2d\":[{\"colorbar\":{\"outlinewidth\":0,\"ticks\":\"\"},\"colorscale\":[[0.0,\"#0d0887\"],[0.1111111111111111,\"#46039f\"],[0.2222222222222222,\"#7201a8\"],[0.3333333333333333,\"#9c179e\"],[0.4444444444444444,\"#bd3786\"],[0.5555555555555556,\"#d8576b\"],[0.6666666666666666,\"#ed7953\"],[0.7777777777777778,\"#fb9f3a\"],[0.8888888888888888,\"#fdca26\"],[1.0,\"#f0f921\"]],\"type\":\"histogram2d\"}],\"histogram2dcontour\":[{\"colorbar\":{\"outlinewidth\":0,\"ticks\":\"\"},\"colorscale\":[[0.0,\"#0d0887\"],[0.1111111111111111,\"#46039f\"],[0.2222222222222222,\"#7201a8\"],[0.3333333333333333,\"#9c179e\"],[0.4444444444444444,\"#bd3786\"],[0.5555555555555556,\"#d8576b\"],[0.6666666666666666,\"#ed7953\"],[0.7777777777777778,\"#fb9f3a\"],[0.8888888888888888,\"#fdca26\"],[1.0,\"#f0f921\"]],\"type\":\"histogram2dcontour\"}],\"mesh3d\":[{\"colorbar\":{\"outlinewidth\":0,\"ticks\":\"\"},\"type\":\"mesh3d\"}],\"parcoords\":[{\"line\":{\"colorbar\":{\"outlinewidth\":0,\"ticks\":\"\"}},\"type\":\"parcoords\"}],\"pie\":[{\"automargin\":true,\"type\":\"pie\"}],\"scatter\":[{\"marker\":{\"colorbar\":{\"outlinewidth\":0,\"ticks\":\"\"}},\"type\":\"scatter\"}],\"scatter3d\":[{\"line\":{\"colorbar\":{\"outlinewidth\":0,\"ticks\":\"\"}},\"marker\":{\"colorbar\":{\"outlinewidth\":0,\"ticks\":\"\"}},\"type\":\"scatter3d\"}],\"scattercarpet\":[{\"marker\":{\"colorbar\":{\"outlinewidth\":0,\"ticks\":\"\"}},\"type\":\"scattercarpet\"}],\"scattergeo\":[{\"marker\":{\"colorbar\":{\"outlinewidth\":0,\"ticks\":\"\"}},\"type\":\"scattergeo\"}],\"scattergl\":[{\"marker\":{\"colorbar\":{\"outlinewidth\":0,\"ticks\":\"\"}},\"type\":\"scattergl\"}],\"scattermapbox\":[{\"marker\":{\"colorbar\":{\"outlinewidth\":0,\"ticks\":\"\"}},\"type\":\"scattermapbox\"}],\"scatterpolar\":[{\"marker\":{\"colorbar\":{\"outlinewidth\":0,\"ticks\":\"\"}},\"type\":\"scatterpolar\"}],\"scatterpolargl\":[{\"marker\":{\"colorbar\":{\"outlinewidth\":0,\"ticks\":\"\"}},\"type\":\"scatterpolargl\"}],\"scatterternary\":[{\"marker\":{\"colorbar\":{\"outlinewidth\":0,\"ticks\":\"\"}},\"type\":\"scatterternary\"}],\"surface\":[{\"colorbar\":{\"outlinewidth\":0,\"ticks\":\"\"},\"colorscale\":[[0.0,\"#0d0887\"],[0.1111111111111111,\"#46039f\"],[0.2222222222222222,\"#7201a8\"],[0.3333333333333333,\"#9c179e\"],[0.4444444444444444,\"#bd3786\"],[0.5555555555555556,\"#d8576b\"],[0.6666666666666666,\"#ed7953\"],[0.7777777777777778,\"#fb9f3a\"],[0.8888888888888888,\"#fdca26\"],[1.0,\"#f0f921\"]],\"type\":\"surface\"}],\"table\":[{\"cells\":{\"fill\":{\"color\":\"#EBF0F8\"},\"line\":{\"color\":\"white\"}},\"header\":{\"fill\":{\"color\":\"#C8D4E3\"},\"line\":{\"color\":\"white\"}},\"type\":\"table\"}]},\"layout\":{\"annotationdefaults\":{\"arrowcolor\":\"#2a3f5f\",\"arrowhead\":0,\"arrowwidth\":1},\"autotypenumbers\":\"strict\",\"coloraxis\":{\"colorbar\":{\"outlinewidth\":0,\"ticks\":\"\"}},\"colorscale\":{\"diverging\":[[0,\"#8e0152\"],[0.1,\"#c51b7d\"],[0.2,\"#de77ae\"],[0.3,\"#f1b6da\"],[0.4,\"#fde0ef\"],[0.5,\"#f7f7f7\"],[0.6,\"#e6f5d0\"],[0.7,\"#b8e186\"],[0.8,\"#7fbc41\"],[0.9,\"#4d9221\"],[1,\"#276419\"]],\"sequential\":[[0.0,\"#0d0887\"],[0.1111111111111111,\"#46039f\"],[0.2222222222222222,\"#7201a8\"],[0.3333333333333333,\"#9c179e\"],[0.4444444444444444,\"#bd3786\"],[0.5555555555555556,\"#d8576b\"],[0.6666666666666666,\"#ed7953\"],[0.7777777777777778,\"#fb9f3a\"],[0.8888888888888888,\"#fdca26\"],[1.0,\"#f0f921\"]],\"sequentialminus\":[[0.0,\"#0d0887\"],[0.1111111111111111,\"#46039f\"],[0.2222222222222222,\"#7201a8\"],[0.3333333333333333,\"#9c179e\"],[0.4444444444444444,\"#bd3786\"],[0.5555555555555556,\"#d8576b\"],[0.6666666666666666,\"#ed7953\"],[0.7777777777777778,\"#fb9f3a\"],[0.8888888888888888,\"#fdca26\"],[1.0,\"#f0f921\"]]},\"colorway\":[\"#636efa\",\"#EF553B\",\"#00cc96\",\"#ab63fa\",\"#FFA15A\",\"#19d3f3\",\"#FF6692\",\"#B6E880\",\"#FF97FF\",\"#FECB52\"],\"font\":{\"color\":\"#2a3f5f\"},\"geo\":{\"bgcolor\":\"white\",\"lakecolor\":\"white\",\"landcolor\":\"#E5ECF6\",\"showlakes\":true,\"showland\":true,\"subunitcolor\":\"white\"},\"hoverlabel\":{\"align\":\"left\"},\"hovermode\":\"closest\",\"mapbox\":{\"style\":\"light\"},\"paper_bgcolor\":\"white\",\"plot_bgcolor\":\"#E5ECF6\",\"polar\":{\"angularaxis\":{\"gridcolor\":\"white\",\"linecolor\":\"white\",\"ticks\":\"\"},\"bgcolor\":\"#E5ECF6\",\"radialaxis\":{\"gridcolor\":\"white\",\"linecolor\":\"white\",\"ticks\":\"\"}},\"scene\":{\"xaxis\":{\"backgroundcolor\":\"#E5ECF6\",\"gridcolor\":\"white\",\"gridwidth\":2,\"linecolor\":\"white\",\"showbackground\":true,\"ticks\":\"\",\"zerolinecolor\":\"white\"},\"yaxis\":{\"backgroundcolor\":\"#E5ECF6\",\"gridcolor\":\"white\",\"gridwidth\":2,\"linecolor\":\"white\",\"showbackground\":true,\"ticks\":\"\",\"zerolinecolor\":\"white\"},\"zaxis\":{\"backgroundcolor\":\"#E5ECF6\",\"gridcolor\":\"white\",\"gridwidth\":2,\"linecolor\":\"white\",\"showbackground\":true,\"ticks\":\"\",\"zerolinecolor\":\"white\"}},\"shapedefaults\":{\"line\":{\"color\":\"#2a3f5f\"}},\"ternary\":{\"aaxis\":{\"gridcolor\":\"white\",\"linecolor\":\"white\",\"ticks\":\"\"},\"baxis\":{\"gridcolor\":\"white\",\"linecolor\":\"white\",\"ticks\":\"\"},\"bgcolor\":\"#E5ECF6\",\"caxis\":{\"gridcolor\":\"white\",\"linecolor\":\"white\",\"ticks\":\"\"}},\"title\":{\"x\":0.05},\"xaxis\":{\"automargin\":true,\"gridcolor\":\"white\",\"linecolor\":\"white\",\"ticks\":\"\",\"title\":{\"standoff\":15},\"zerolinecolor\":\"white\",\"zerolinewidth\":2},\"yaxis\":{\"automargin\":true,\"gridcolor\":\"white\",\"linecolor\":\"white\",\"ticks\":\"\",\"title\":{\"standoff\":15},\"zerolinecolor\":\"white\",\"zerolinewidth\":2}}}},                        {\"responsive\": true}                    ).then(function(){\n",
              "                            \n",
              "var gd = document.getElementById('35f9a321-78a6-4853-a0c9-2b1bdad1a65f');\n",
              "var x = new MutationObserver(function (mutations, observer) {{\n",
              "        var display = window.getComputedStyle(gd).display;\n",
              "        if (!display || display === 'none') {{\n",
              "            console.log([gd, 'removed!']);\n",
              "            Plotly.purge(gd);\n",
              "            observer.disconnect();\n",
              "        }}\n",
              "}});\n",
              "\n",
              "// Listen for the removal of the full notebook cells\n",
              "var notebookContainer = gd.closest('#notebook-container');\n",
              "if (notebookContainer) {{\n",
              "    x.observe(notebookContainer, {childList: true});\n",
              "}}\n",
              "\n",
              "// Listen for the clearing of the current output cell\n",
              "var outputEl = gd.closest('.output');\n",
              "if (outputEl) {{\n",
              "    x.observe(outputEl, {childList: true});\n",
              "}}\n",
              "\n",
              "                        })                };                            </script>        </div>\n",
              "</body>\n",
              "</html>"
            ]
          },
          "metadata": {},
          "output_type": "display_data"
        }
      ],
      "source": [
        "# Plot_optimization_histor: shows the scores from all trials as well as the best score so far at each point.\n",
        "optuna.visualization.plot_optimization_history(xgboost_study)"
      ]
    },
    {
      "cell_type": "code",
      "execution_count": 52,
      "metadata": {
        "colab": {
          "base_uri": "https://localhost:8080/",
          "height": 542
        },
        "id": "5iy2B0Q17VP1",
        "outputId": "1071924d-3cdf-45e7-d448-78131304eb1c"
      },
      "outputs": [
        {
          "data": {
            "text/html": [
              "<html>\n",
              "<head><meta charset=\"utf-8\" /></head>\n",
              "<body>\n",
              "    <div>            <script src=\"https://cdnjs.cloudflare.com/ajax/libs/mathjax/2.7.5/MathJax.js?config=TeX-AMS-MML_SVG\"></script><script type=\"text/javascript\">if (window.MathJax) {MathJax.Hub.Config({SVG: {font: \"STIX-Web\"}});}</script>                <script type=\"text/javascript\">window.PlotlyConfig = {MathJaxConfig: 'local'};</script>\n",
              "        <script src=\"https://cdn.plot.ly/plotly-2.8.3.min.js\"></script>                <div id=\"fc406907-905c-4f73-8b7d-edade7da76f7\" class=\"plotly-graph-div\" style=\"height:525px; width:100%;\"></div>            <script type=\"text/javascript\">                                    window.PLOTLYENV=window.PLOTLYENV || {};                                    if (document.getElementById(\"fc406907-905c-4f73-8b7d-edade7da76f7\")) {                    Plotly.newPlot(                        \"fc406907-905c-4f73-8b7d-edade7da76f7\",                        [{\"cliponaxis\":false,\"hovertemplate\":[\"alpha (LogUniformDistribution): 0.0016443164602132048<extra></extra>\",\"iterations (IntUniformDistribution): 0.00357050915856684<extra></extra>\",\"depth (IntUniformDistribution): 0.006351153553098985<extra></extra>\",\"lambda (LogUniformDistribution): 0.006806638944702465<extra></extra>\",\"n_estimators (IntUniformDistribution): 0.006818791624193394<extra></extra>\",\"learning_rate (DiscreteUniformDistribution): 0.9748085902592251<extra></extra>\"],\"marker\":{\"color\":\"rgb(66,146,198)\"},\"orientation\":\"h\",\"text\":[\"0.0016443164602132048\",\"0.00357050915856684\",\"0.006351153553098985\",\"0.006806638944702465\",\"0.006818791624193394\",\"0.9748085902592251\"],\"textposition\":\"outside\",\"texttemplate\":\"%{text:.2f}\",\"x\":[0.0016443164602132048,0.00357050915856684,0.006351153553098985,0.006806638944702465,0.006818791624193394,0.9748085902592251],\"y\":[\"alpha\",\"iterations\",\"depth\",\"lambda\",\"n_estimators\",\"learning_rate\"],\"type\":\"bar\"}],                        {\"showlegend\":false,\"title\":{\"text\":\"Hyperparameter Importances\"},\"xaxis\":{\"title\":{\"text\":\"Importance for Objective Value\"}},\"yaxis\":{\"title\":{\"text\":\"Hyperparameter\"}},\"template\":{\"data\":{\"bar\":[{\"error_x\":{\"color\":\"#2a3f5f\"},\"error_y\":{\"color\":\"#2a3f5f\"},\"marker\":{\"line\":{\"color\":\"#E5ECF6\",\"width\":0.5},\"pattern\":{\"fillmode\":\"overlay\",\"size\":10,\"solidity\":0.2}},\"type\":\"bar\"}],\"barpolar\":[{\"marker\":{\"line\":{\"color\":\"#E5ECF6\",\"width\":0.5},\"pattern\":{\"fillmode\":\"overlay\",\"size\":10,\"solidity\":0.2}},\"type\":\"barpolar\"}],\"carpet\":[{\"aaxis\":{\"endlinecolor\":\"#2a3f5f\",\"gridcolor\":\"white\",\"linecolor\":\"white\",\"minorgridcolor\":\"white\",\"startlinecolor\":\"#2a3f5f\"},\"baxis\":{\"endlinecolor\":\"#2a3f5f\",\"gridcolor\":\"white\",\"linecolor\":\"white\",\"minorgridcolor\":\"white\",\"startlinecolor\":\"#2a3f5f\"},\"type\":\"carpet\"}],\"choropleth\":[{\"colorbar\":{\"outlinewidth\":0,\"ticks\":\"\"},\"type\":\"choropleth\"}],\"contour\":[{\"colorbar\":{\"outlinewidth\":0,\"ticks\":\"\"},\"colorscale\":[[0.0,\"#0d0887\"],[0.1111111111111111,\"#46039f\"],[0.2222222222222222,\"#7201a8\"],[0.3333333333333333,\"#9c179e\"],[0.4444444444444444,\"#bd3786\"],[0.5555555555555556,\"#d8576b\"],[0.6666666666666666,\"#ed7953\"],[0.7777777777777778,\"#fb9f3a\"],[0.8888888888888888,\"#fdca26\"],[1.0,\"#f0f921\"]],\"type\":\"contour\"}],\"contourcarpet\":[{\"colorbar\":{\"outlinewidth\":0,\"ticks\":\"\"},\"type\":\"contourcarpet\"}],\"heatmap\":[{\"colorbar\":{\"outlinewidth\":0,\"ticks\":\"\"},\"colorscale\":[[0.0,\"#0d0887\"],[0.1111111111111111,\"#46039f\"],[0.2222222222222222,\"#7201a8\"],[0.3333333333333333,\"#9c179e\"],[0.4444444444444444,\"#bd3786\"],[0.5555555555555556,\"#d8576b\"],[0.6666666666666666,\"#ed7953\"],[0.7777777777777778,\"#fb9f3a\"],[0.8888888888888888,\"#fdca26\"],[1.0,\"#f0f921\"]],\"type\":\"heatmap\"}],\"heatmapgl\":[{\"colorbar\":{\"outlinewidth\":0,\"ticks\":\"\"},\"colorscale\":[[0.0,\"#0d0887\"],[0.1111111111111111,\"#46039f\"],[0.2222222222222222,\"#7201a8\"],[0.3333333333333333,\"#9c179e\"],[0.4444444444444444,\"#bd3786\"],[0.5555555555555556,\"#d8576b\"],[0.6666666666666666,\"#ed7953\"],[0.7777777777777778,\"#fb9f3a\"],[0.8888888888888888,\"#fdca26\"],[1.0,\"#f0f921\"]],\"type\":\"heatmapgl\"}],\"histogram\":[{\"marker\":{\"pattern\":{\"fillmode\":\"overlay\",\"size\":10,\"solidity\":0.2}},\"type\":\"histogram\"}],\"histogram2d\":[{\"colorbar\":{\"outlinewidth\":0,\"ticks\":\"\"},\"colorscale\":[[0.0,\"#0d0887\"],[0.1111111111111111,\"#46039f\"],[0.2222222222222222,\"#7201a8\"],[0.3333333333333333,\"#9c179e\"],[0.4444444444444444,\"#bd3786\"],[0.5555555555555556,\"#d8576b\"],[0.6666666666666666,\"#ed7953\"],[0.7777777777777778,\"#fb9f3a\"],[0.8888888888888888,\"#fdca26\"],[1.0,\"#f0f921\"]],\"type\":\"histogram2d\"}],\"histogram2dcontour\":[{\"colorbar\":{\"outlinewidth\":0,\"ticks\":\"\"},\"colorscale\":[[0.0,\"#0d0887\"],[0.1111111111111111,\"#46039f\"],[0.2222222222222222,\"#7201a8\"],[0.3333333333333333,\"#9c179e\"],[0.4444444444444444,\"#bd3786\"],[0.5555555555555556,\"#d8576b\"],[0.6666666666666666,\"#ed7953\"],[0.7777777777777778,\"#fb9f3a\"],[0.8888888888888888,\"#fdca26\"],[1.0,\"#f0f921\"]],\"type\":\"histogram2dcontour\"}],\"mesh3d\":[{\"colorbar\":{\"outlinewidth\":0,\"ticks\":\"\"},\"type\":\"mesh3d\"}],\"parcoords\":[{\"line\":{\"colorbar\":{\"outlinewidth\":0,\"ticks\":\"\"}},\"type\":\"parcoords\"}],\"pie\":[{\"automargin\":true,\"type\":\"pie\"}],\"scatter\":[{\"marker\":{\"colorbar\":{\"outlinewidth\":0,\"ticks\":\"\"}},\"type\":\"scatter\"}],\"scatter3d\":[{\"line\":{\"colorbar\":{\"outlinewidth\":0,\"ticks\":\"\"}},\"marker\":{\"colorbar\":{\"outlinewidth\":0,\"ticks\":\"\"}},\"type\":\"scatter3d\"}],\"scattercarpet\":[{\"marker\":{\"colorbar\":{\"outlinewidth\":0,\"ticks\":\"\"}},\"type\":\"scattercarpet\"}],\"scattergeo\":[{\"marker\":{\"colorbar\":{\"outlinewidth\":0,\"ticks\":\"\"}},\"type\":\"scattergeo\"}],\"scattergl\":[{\"marker\":{\"colorbar\":{\"outlinewidth\":0,\"ticks\":\"\"}},\"type\":\"scattergl\"}],\"scattermapbox\":[{\"marker\":{\"colorbar\":{\"outlinewidth\":0,\"ticks\":\"\"}},\"type\":\"scattermapbox\"}],\"scatterpolar\":[{\"marker\":{\"colorbar\":{\"outlinewidth\":0,\"ticks\":\"\"}},\"type\":\"scatterpolar\"}],\"scatterpolargl\":[{\"marker\":{\"colorbar\":{\"outlinewidth\":0,\"ticks\":\"\"}},\"type\":\"scatterpolargl\"}],\"scatterternary\":[{\"marker\":{\"colorbar\":{\"outlinewidth\":0,\"ticks\":\"\"}},\"type\":\"scatterternary\"}],\"surface\":[{\"colorbar\":{\"outlinewidth\":0,\"ticks\":\"\"},\"colorscale\":[[0.0,\"#0d0887\"],[0.1111111111111111,\"#46039f\"],[0.2222222222222222,\"#7201a8\"],[0.3333333333333333,\"#9c179e\"],[0.4444444444444444,\"#bd3786\"],[0.5555555555555556,\"#d8576b\"],[0.6666666666666666,\"#ed7953\"],[0.7777777777777778,\"#fb9f3a\"],[0.8888888888888888,\"#fdca26\"],[1.0,\"#f0f921\"]],\"type\":\"surface\"}],\"table\":[{\"cells\":{\"fill\":{\"color\":\"#EBF0F8\"},\"line\":{\"color\":\"white\"}},\"header\":{\"fill\":{\"color\":\"#C8D4E3\"},\"line\":{\"color\":\"white\"}},\"type\":\"table\"}]},\"layout\":{\"annotationdefaults\":{\"arrowcolor\":\"#2a3f5f\",\"arrowhead\":0,\"arrowwidth\":1},\"autotypenumbers\":\"strict\",\"coloraxis\":{\"colorbar\":{\"outlinewidth\":0,\"ticks\":\"\"}},\"colorscale\":{\"diverging\":[[0,\"#8e0152\"],[0.1,\"#c51b7d\"],[0.2,\"#de77ae\"],[0.3,\"#f1b6da\"],[0.4,\"#fde0ef\"],[0.5,\"#f7f7f7\"],[0.6,\"#e6f5d0\"],[0.7,\"#b8e186\"],[0.8,\"#7fbc41\"],[0.9,\"#4d9221\"],[1,\"#276419\"]],\"sequential\":[[0.0,\"#0d0887\"],[0.1111111111111111,\"#46039f\"],[0.2222222222222222,\"#7201a8\"],[0.3333333333333333,\"#9c179e\"],[0.4444444444444444,\"#bd3786\"],[0.5555555555555556,\"#d8576b\"],[0.6666666666666666,\"#ed7953\"],[0.7777777777777778,\"#fb9f3a\"],[0.8888888888888888,\"#fdca26\"],[1.0,\"#f0f921\"]],\"sequentialminus\":[[0.0,\"#0d0887\"],[0.1111111111111111,\"#46039f\"],[0.2222222222222222,\"#7201a8\"],[0.3333333333333333,\"#9c179e\"],[0.4444444444444444,\"#bd3786\"],[0.5555555555555556,\"#d8576b\"],[0.6666666666666666,\"#ed7953\"],[0.7777777777777778,\"#fb9f3a\"],[0.8888888888888888,\"#fdca26\"],[1.0,\"#f0f921\"]]},\"colorway\":[\"#636efa\",\"#EF553B\",\"#00cc96\",\"#ab63fa\",\"#FFA15A\",\"#19d3f3\",\"#FF6692\",\"#B6E880\",\"#FF97FF\",\"#FECB52\"],\"font\":{\"color\":\"#2a3f5f\"},\"geo\":{\"bgcolor\":\"white\",\"lakecolor\":\"white\",\"landcolor\":\"#E5ECF6\",\"showlakes\":true,\"showland\":true,\"subunitcolor\":\"white\"},\"hoverlabel\":{\"align\":\"left\"},\"hovermode\":\"closest\",\"mapbox\":{\"style\":\"light\"},\"paper_bgcolor\":\"white\",\"plot_bgcolor\":\"#E5ECF6\",\"polar\":{\"angularaxis\":{\"gridcolor\":\"white\",\"linecolor\":\"white\",\"ticks\":\"\"},\"bgcolor\":\"#E5ECF6\",\"radialaxis\":{\"gridcolor\":\"white\",\"linecolor\":\"white\",\"ticks\":\"\"}},\"scene\":{\"xaxis\":{\"backgroundcolor\":\"#E5ECF6\",\"gridcolor\":\"white\",\"gridwidth\":2,\"linecolor\":\"white\",\"showbackground\":true,\"ticks\":\"\",\"zerolinecolor\":\"white\"},\"yaxis\":{\"backgroundcolor\":\"#E5ECF6\",\"gridcolor\":\"white\",\"gridwidth\":2,\"linecolor\":\"white\",\"showbackground\":true,\"ticks\":\"\",\"zerolinecolor\":\"white\"},\"zaxis\":{\"backgroundcolor\":\"#E5ECF6\",\"gridcolor\":\"white\",\"gridwidth\":2,\"linecolor\":\"white\",\"showbackground\":true,\"ticks\":\"\",\"zerolinecolor\":\"white\"}},\"shapedefaults\":{\"line\":{\"color\":\"#2a3f5f\"}},\"ternary\":{\"aaxis\":{\"gridcolor\":\"white\",\"linecolor\":\"white\",\"ticks\":\"\"},\"baxis\":{\"gridcolor\":\"white\",\"linecolor\":\"white\",\"ticks\":\"\"},\"bgcolor\":\"#E5ECF6\",\"caxis\":{\"gridcolor\":\"white\",\"linecolor\":\"white\",\"ticks\":\"\"}},\"title\":{\"x\":0.05},\"xaxis\":{\"automargin\":true,\"gridcolor\":\"white\",\"linecolor\":\"white\",\"ticks\":\"\",\"title\":{\"standoff\":15},\"zerolinecolor\":\"white\",\"zerolinewidth\":2},\"yaxis\":{\"automargin\":true,\"gridcolor\":\"white\",\"linecolor\":\"white\",\"ticks\":\"\",\"title\":{\"standoff\":15},\"zerolinecolor\":\"white\",\"zerolinewidth\":2}}}},                        {\"responsive\": true}                    ).then(function(){\n",
              "                            \n",
              "var gd = document.getElementById('fc406907-905c-4f73-8b7d-edade7da76f7');\n",
              "var x = new MutationObserver(function (mutations, observer) {{\n",
              "        var display = window.getComputedStyle(gd).display;\n",
              "        if (!display || display === 'none') {{\n",
              "            console.log([gd, 'removed!']);\n",
              "            Plotly.purge(gd);\n",
              "            observer.disconnect();\n",
              "        }}\n",
              "}});\n",
              "\n",
              "// Listen for the removal of the full notebook cells\n",
              "var notebookContainer = gd.closest('#notebook-container');\n",
              "if (notebookContainer) {{\n",
              "    x.observe(notebookContainer, {childList: true});\n",
              "}}\n",
              "\n",
              "// Listen for the clearing of the current output cell\n",
              "var outputEl = gd.closest('.output');\n",
              "if (outputEl) {{\n",
              "    x.observe(outputEl, {childList: true});\n",
              "}}\n",
              "\n",
              "                        })                };                            </script>        </div>\n",
              "</body>\n",
              "</html>"
            ]
          },
          "metadata": {},
          "output_type": "display_data"
        }
      ],
      "source": [
        "# Visualize parameter importances.\n",
        "optuna.visualization.plot_param_importances(xgboost_study)"
      ]
    },
    {
      "cell_type": "markdown",
      "metadata": {
        "id": "Y4rrW6JhS6gf"
      },
      "source": [
        "## Catboost optimization"
      ]
    },
    {
      "cell_type": "code",
      "execution_count": 53,
      "metadata": {
        "id": "beG8dT5dlFDA"
      },
      "outputs": [],
      "source": [
        "from catboost import Pool"
      ]
    },
    {
      "cell_type": "code",
      "execution_count": 63,
      "metadata": {
        "colab": {
          "base_uri": "https://localhost:8080/"
        },
        "id": "DcTo6x6Uy0O5",
        "outputId": "1e737040-eaef-4c0d-d847-df7a1272edfa"
      },
      "outputs": [
        {
          "name": "stderr",
          "output_type": "stream",
          "text": [
            "\u001b[32m[I 2022-04-21 21:23:55,925]\u001b[0m A new study created in memory with name: CatBoost optimization\u001b[0m\n",
            "\u001b[32m[I 2022-04-21 21:24:31,652]\u001b[0m Trial 0 finished with value: 0.2011284955822706 and parameters: {'iterations': 170, 'learning_rate': 0.03, 'depth': 4, 'l2_leaf_reg': 2, 'border_count': 213}. Best is trial 0 with value: 0.2011284955822706.\u001b[0m\n",
            "\u001b[32m[I 2022-04-21 21:25:05,213]\u001b[0m Trial 1 finished with value: 0.23205987725946833 and parameters: {'iterations': 170, 'learning_rate': 0.8400000000000001, 'depth': 7, 'l2_leaf_reg': 1, 'border_count': 22}. Best is trial 0 with value: 0.2011284955822706.\u001b[0m\n",
            "\u001b[32m[I 2022-04-21 21:25:17,082]\u001b[0m Trial 2 finished with value: 0.20905687438786952 and parameters: {'iterations': 10, 'learning_rate': 0.31, 'depth': 9, 'l2_leaf_reg': 2, 'border_count': 28}. Best is trial 0 with value: 0.2011284955822706.\u001b[0m\n",
            "\u001b[32m[I 2022-04-21 21:25:45,993]\u001b[0m Trial 3 finished with value: 0.18760980856657072 and parameters: {'iterations': 80, 'learning_rate': 0.43, 'depth': 9, 'l2_leaf_reg': 3, 'border_count': 19}. Best is trial 3 with value: 0.18760980856657072.\u001b[0m\n",
            "\u001b[32m[I 2022-04-21 21:26:06,845]\u001b[0m Trial 4 finished with value: 0.22105361250020933 and parameters: {'iterations': 90, 'learning_rate': 0.86, 'depth': 4, 'l2_leaf_reg': 3, 'border_count': 109}. Best is trial 3 with value: 0.18760980856657072.\u001b[0m\n",
            "\u001b[32m[I 2022-04-21 21:27:14,553]\u001b[0m Trial 5 finished with value: 0.20302186583516346 and parameters: {'iterations': 180, 'learning_rate': 0.51, 'depth': 8, 'l2_leaf_reg': 2, 'border_count': 134}. Best is trial 3 with value: 0.18760980856657072.\u001b[0m\n",
            "\u001b[32m[I 2022-04-21 21:27:56,113]\u001b[0m Trial 6 finished with value: 0.22429679276054895 and parameters: {'iterations': 170, 'learning_rate': 0.78, 'depth': 7, 'l2_leaf_reg': 2, 'border_count': 73}. Best is trial 3 with value: 0.18760980856657072.\u001b[0m\n",
            "\u001b[32m[I 2022-04-21 21:28:12,688]\u001b[0m Trial 7 finished with value: 0.2077911973701443 and parameters: {'iterations': 10, 'learning_rate': 0.49, 'depth': 10, 'l2_leaf_reg': 3, 'border_count': 108}. Best is trial 3 with value: 0.18760980856657072.\u001b[0m\n",
            "\u001b[32m[I 2022-04-21 21:28:24,072]\u001b[0m Trial 8 finished with value: 0.43339964428250066 and parameters: {'iterations': 10, 'learning_rate': 0.04, 'depth': 4, 'l2_leaf_reg': 2, 'border_count': 119}. Best is trial 3 with value: 0.18760980856657072.\u001b[0m\n",
            "\u001b[32m[I 2022-04-21 21:29:43,127]\u001b[0m Trial 9 finished with value: 0.22402196239813174 and parameters: {'iterations': 180, 'learning_rate': 0.91, 'depth': 10, 'l2_leaf_reg': 2, 'border_count': 24}. Best is trial 3 with value: 0.18760980856657072.\u001b[0m\n",
            "\u001b[32m[I 2022-04-21 21:30:13,214]\u001b[0m Trial 10 finished with value: 0.1832027623679508 and parameters: {'iterations': 80, 'learning_rate': 0.32, 'depth': 6, 'l2_leaf_reg': 4, 'border_count': 249}. Best is trial 10 with value: 0.1832027623679508.\u001b[0m\n",
            "\u001b[32m[I 2022-04-21 21:30:43,362]\u001b[0m Trial 11 finished with value: 0.1656859419312326 and parameters: {'iterations': 80, 'learning_rate': 0.27, 'depth': 6, 'l2_leaf_reg': 4, 'border_count': 248}. Best is trial 11 with value: 0.1656859419312326.\u001b[0m\n",
            "\u001b[32m[I 2022-04-21 21:31:08,743]\u001b[0m Trial 12 finished with value: 0.16790647081832402 and parameters: {'iterations': 60, 'learning_rate': 0.27, 'depth': 6, 'l2_leaf_reg': 4, 'border_count': 248}. Best is trial 11 with value: 0.1656859419312326.\u001b[0m\n",
            "\u001b[32m[I 2022-04-21 21:31:29,754]\u001b[0m Trial 13 finished with value: 0.17603582243341565 and parameters: {'iterations': 50, 'learning_rate': 0.2, 'depth': 6, 'l2_leaf_reg': 4, 'border_count': 191}. Best is trial 11 with value: 0.1656859419312326.\u001b[0m\n",
            "\u001b[32m[I 2022-04-21 21:32:11,740]\u001b[0m Trial 14 finished with value: 0.20703039267274442 and parameters: {'iterations': 130, 'learning_rate': 0.68, 'depth': 6, 'l2_leaf_reg': 4, 'border_count': 245}. Best is trial 11 with value: 0.1656859419312326.\u001b[0m\n",
            "\u001b[32m[I 2022-04-21 21:32:30,560]\u001b[0m Trial 15 finished with value: 0.18738740693913522 and parameters: {'iterations': 50, 'learning_rate': 0.17, 'depth': 5, 'l2_leaf_reg': 4, 'border_count': 178}. Best is trial 11 with value: 0.1656859419312326.\u001b[0m\n",
            "\u001b[32m[I 2022-04-21 21:33:03,675]\u001b[0m Trial 16 finished with value: 0.19790252546066647 and parameters: {'iterations': 120, 'learning_rate': 0.62, 'depth': 5, 'l2_leaf_reg': 4, 'border_count': 227}. Best is trial 11 with value: 0.1656859419312326.\u001b[0m\n",
            "\u001b[32m[I 2022-04-21 21:33:22,370]\u001b[0m Trial 17 finished with value: 0.183132828831548 and parameters: {'iterations': 50, 'learning_rate': 0.19, 'depth': 5, 'l2_leaf_reg': 3, 'border_count': 174}. Best is trial 11 with value: 0.1656859419312326.\u001b[0m\n",
            "\u001b[32m[I 2022-04-21 21:34:24,113]\u001b[0m Trial 18 finished with value: 0.1948045334186567 and parameters: {'iterations': 130, 'learning_rate': 0.31, 'depth': 8, 'l2_leaf_reg': 1, 'border_count': 205}. Best is trial 11 with value: 0.1656859419312326.\u001b[0m\n"
          ]
        },
        {
          "name": "stdout",
          "output_type": "stream",
          "text": [
            "Number of finished trials:  19\n",
            "Best trial:\n",
            "  Value: 0.1656859419312326\n",
            "  Params: \n",
            "    iterations: 80\n",
            "    learning_rate: 0.27\n",
            "    depth: 6\n",
            "    l2_leaf_reg: 4\n",
            "    border_count: 248\n"
          ]
        }
      ],
      "source": [
        "def objective(trial):\n",
        "\n",
        "    # Define model parameter scopes\n",
        "    catboost_param = {\n",
        "        \"iterations\": trial.suggest_int(\"iterations\", 10, 200, step=10),\n",
        "        \"learning_rate\": trial.suggest_float(\"learning_rate\", 0.01, 1.0, step=0.01),\n",
        "        \"depth\": trial.suggest_int(\"depth\", 4, 10, step=1),\n",
        "        \"l2_leaf_reg\": trial.suggest_int(\"l2_leaf_reg\", 1, 4, step=1),\n",
        "        \"border_count\": trial.suggest_int(\"border_count\", 1,255 , step=1)\n",
        "    }\n",
        "\n",
        "    # Define model\n",
        "    model = CatBoostClassifier(**catboost_param,\n",
        "                               objective='Logloss',\n",
        "                               loss_function='Logloss',\n",
        "                               task_type='GPU',\n",
        "                               random_seed=RANDOM_SEED,\n",
        "                               silent=True\n",
        "                               )\n",
        "    \n",
        "    # Evaluate log_loss for each label\n",
        "    aggr_log_loss = {}\n",
        "\n",
        "    for col in val_labels.columns:\n",
        "\n",
        "        train_y_col = train_labels[col]\n",
        "        val_y_col = val_labels[col]\n",
        "\n",
        "        pool = Pool(data=train_features.values, label=train_y_col)  \n",
        "        model.fit(pool)\n",
        "\n",
        "        pred_labels = model.predict_proba(val_features.values)\n",
        "        aggr_log_loss[col] = log_loss(y_true=val_y_col.values, y_pred=pred_labels, labels=[0,1])\n",
        "\n",
        "    # Calculate aggregated log_loss\n",
        "    avg_log_loss = np.mean(list(aggr_log_loss.values()))\n",
        "\n",
        "    return avg_log_loss\n",
        "\n",
        "\n",
        "catboost_study = optuna.create_study(direction=\"minimize\", study_name='CatBoost optimization')\n",
        "catboost_study.optimize(objective, n_trials=100, timeout=600)\n",
        "\n",
        "print(\"Number of finished trials: \", len(catboost_study.trials))\n",
        "print(\"Best trial:\")\n",
        "catboost_trial = catboost_study.best_trial\n",
        "\n",
        "print(\"  Value: {}\".format(catboost_trial.value))\n",
        "print(\"  Params: \")\n",
        "for key, value in catboost_trial.params.items():\n",
        "\n",
        "    print(\"    {}: {}\".format(key, value))"
      ]
    },
    {
      "cell_type": "code",
      "execution_count": 64,
      "metadata": {
        "colab": {
          "base_uri": "https://localhost:8080/",
          "height": 542
        },
        "id": "3WpdV3N2A6kj",
        "outputId": "b6600565-442c-4c07-ae63-f1a1d6b6b7d7"
      },
      "outputs": [
        {
          "data": {
            "text/html": [
              "<html>\n",
              "<head><meta charset=\"utf-8\" /></head>\n",
              "<body>\n",
              "    <div>            <script src=\"https://cdnjs.cloudflare.com/ajax/libs/mathjax/2.7.5/MathJax.js?config=TeX-AMS-MML_SVG\"></script><script type=\"text/javascript\">if (window.MathJax) {MathJax.Hub.Config({SVG: {font: \"STIX-Web\"}});}</script>                <script type=\"text/javascript\">window.PlotlyConfig = {MathJaxConfig: 'local'};</script>\n",
              "        <script src=\"https://cdn.plot.ly/plotly-2.8.3.min.js\"></script>                <div id=\"7357d0a7-21c8-449b-ba12-2118192ec0c6\" class=\"plotly-graph-div\" style=\"height:525px; width:100%;\"></div>            <script type=\"text/javascript\">                                    window.PLOTLYENV=window.PLOTLYENV || {};                                    if (document.getElementById(\"7357d0a7-21c8-449b-ba12-2118192ec0c6\")) {                    Plotly.newPlot(                        \"7357d0a7-21c8-449b-ba12-2118192ec0c6\",                        [{\"mode\":\"markers\",\"name\":\"Objective Value\",\"x\":[0,1,2,3,4,5,6,7,8,9,10,11,12,13,14,15,16,17,18],\"y\":[0.2011284955822706,0.23205987725946833,0.20905687438786952,0.18760980856657072,0.22105361250020933,0.20302186583516346,0.22429679276054895,0.2077911973701443,0.43339964428250066,0.22402196239813174,0.1832027623679508,0.1656859419312326,0.16790647081832402,0.17603582243341565,0.20703039267274442,0.18738740693913522,0.19790252546066647,0.183132828831548,0.1948045334186567],\"type\":\"scatter\"},{\"name\":\"Best Value\",\"x\":[0,1,2,3,4,5,6,7,8,9,10,11,12,13,14,15,16,17,18],\"y\":[0.2011284955822706,0.2011284955822706,0.2011284955822706,0.18760980856657072,0.18760980856657072,0.18760980856657072,0.18760980856657072,0.18760980856657072,0.18760980856657072,0.18760980856657072,0.1832027623679508,0.1656859419312326,0.1656859419312326,0.1656859419312326,0.1656859419312326,0.1656859419312326,0.1656859419312326,0.1656859419312326,0.1656859419312326],\"type\":\"scatter\"}],                        {\"title\":{\"text\":\"Optimization History Plot\"},\"xaxis\":{\"title\":{\"text\":\"#Trials\"}},\"yaxis\":{\"title\":{\"text\":\"Objective Value\"}},\"template\":{\"data\":{\"bar\":[{\"error_x\":{\"color\":\"#2a3f5f\"},\"error_y\":{\"color\":\"#2a3f5f\"},\"marker\":{\"line\":{\"color\":\"#E5ECF6\",\"width\":0.5},\"pattern\":{\"fillmode\":\"overlay\",\"size\":10,\"solidity\":0.2}},\"type\":\"bar\"}],\"barpolar\":[{\"marker\":{\"line\":{\"color\":\"#E5ECF6\",\"width\":0.5},\"pattern\":{\"fillmode\":\"overlay\",\"size\":10,\"solidity\":0.2}},\"type\":\"barpolar\"}],\"carpet\":[{\"aaxis\":{\"endlinecolor\":\"#2a3f5f\",\"gridcolor\":\"white\",\"linecolor\":\"white\",\"minorgridcolor\":\"white\",\"startlinecolor\":\"#2a3f5f\"},\"baxis\":{\"endlinecolor\":\"#2a3f5f\",\"gridcolor\":\"white\",\"linecolor\":\"white\",\"minorgridcolor\":\"white\",\"startlinecolor\":\"#2a3f5f\"},\"type\":\"carpet\"}],\"choropleth\":[{\"colorbar\":{\"outlinewidth\":0,\"ticks\":\"\"},\"type\":\"choropleth\"}],\"contour\":[{\"colorbar\":{\"outlinewidth\":0,\"ticks\":\"\"},\"colorscale\":[[0.0,\"#0d0887\"],[0.1111111111111111,\"#46039f\"],[0.2222222222222222,\"#7201a8\"],[0.3333333333333333,\"#9c179e\"],[0.4444444444444444,\"#bd3786\"],[0.5555555555555556,\"#d8576b\"],[0.6666666666666666,\"#ed7953\"],[0.7777777777777778,\"#fb9f3a\"],[0.8888888888888888,\"#fdca26\"],[1.0,\"#f0f921\"]],\"type\":\"contour\"}],\"contourcarpet\":[{\"colorbar\":{\"outlinewidth\":0,\"ticks\":\"\"},\"type\":\"contourcarpet\"}],\"heatmap\":[{\"colorbar\":{\"outlinewidth\":0,\"ticks\":\"\"},\"colorscale\":[[0.0,\"#0d0887\"],[0.1111111111111111,\"#46039f\"],[0.2222222222222222,\"#7201a8\"],[0.3333333333333333,\"#9c179e\"],[0.4444444444444444,\"#bd3786\"],[0.5555555555555556,\"#d8576b\"],[0.6666666666666666,\"#ed7953\"],[0.7777777777777778,\"#fb9f3a\"],[0.8888888888888888,\"#fdca26\"],[1.0,\"#f0f921\"]],\"type\":\"heatmap\"}],\"heatmapgl\":[{\"colorbar\":{\"outlinewidth\":0,\"ticks\":\"\"},\"colorscale\":[[0.0,\"#0d0887\"],[0.1111111111111111,\"#46039f\"],[0.2222222222222222,\"#7201a8\"],[0.3333333333333333,\"#9c179e\"],[0.4444444444444444,\"#bd3786\"],[0.5555555555555556,\"#d8576b\"],[0.6666666666666666,\"#ed7953\"],[0.7777777777777778,\"#fb9f3a\"],[0.8888888888888888,\"#fdca26\"],[1.0,\"#f0f921\"]],\"type\":\"heatmapgl\"}],\"histogram\":[{\"marker\":{\"pattern\":{\"fillmode\":\"overlay\",\"size\":10,\"solidity\":0.2}},\"type\":\"histogram\"}],\"histogram2d\":[{\"colorbar\":{\"outlinewidth\":0,\"ticks\":\"\"},\"colorscale\":[[0.0,\"#0d0887\"],[0.1111111111111111,\"#46039f\"],[0.2222222222222222,\"#7201a8\"],[0.3333333333333333,\"#9c179e\"],[0.4444444444444444,\"#bd3786\"],[0.5555555555555556,\"#d8576b\"],[0.6666666666666666,\"#ed7953\"],[0.7777777777777778,\"#fb9f3a\"],[0.8888888888888888,\"#fdca26\"],[1.0,\"#f0f921\"]],\"type\":\"histogram2d\"}],\"histogram2dcontour\":[{\"colorbar\":{\"outlinewidth\":0,\"ticks\":\"\"},\"colorscale\":[[0.0,\"#0d0887\"],[0.1111111111111111,\"#46039f\"],[0.2222222222222222,\"#7201a8\"],[0.3333333333333333,\"#9c179e\"],[0.4444444444444444,\"#bd3786\"],[0.5555555555555556,\"#d8576b\"],[0.6666666666666666,\"#ed7953\"],[0.7777777777777778,\"#fb9f3a\"],[0.8888888888888888,\"#fdca26\"],[1.0,\"#f0f921\"]],\"type\":\"histogram2dcontour\"}],\"mesh3d\":[{\"colorbar\":{\"outlinewidth\":0,\"ticks\":\"\"},\"type\":\"mesh3d\"}],\"parcoords\":[{\"line\":{\"colorbar\":{\"outlinewidth\":0,\"ticks\":\"\"}},\"type\":\"parcoords\"}],\"pie\":[{\"automargin\":true,\"type\":\"pie\"}],\"scatter\":[{\"marker\":{\"colorbar\":{\"outlinewidth\":0,\"ticks\":\"\"}},\"type\":\"scatter\"}],\"scatter3d\":[{\"line\":{\"colorbar\":{\"outlinewidth\":0,\"ticks\":\"\"}},\"marker\":{\"colorbar\":{\"outlinewidth\":0,\"ticks\":\"\"}},\"type\":\"scatter3d\"}],\"scattercarpet\":[{\"marker\":{\"colorbar\":{\"outlinewidth\":0,\"ticks\":\"\"}},\"type\":\"scattercarpet\"}],\"scattergeo\":[{\"marker\":{\"colorbar\":{\"outlinewidth\":0,\"ticks\":\"\"}},\"type\":\"scattergeo\"}],\"scattergl\":[{\"marker\":{\"colorbar\":{\"outlinewidth\":0,\"ticks\":\"\"}},\"type\":\"scattergl\"}],\"scattermapbox\":[{\"marker\":{\"colorbar\":{\"outlinewidth\":0,\"ticks\":\"\"}},\"type\":\"scattermapbox\"}],\"scatterpolar\":[{\"marker\":{\"colorbar\":{\"outlinewidth\":0,\"ticks\":\"\"}},\"type\":\"scatterpolar\"}],\"scatterpolargl\":[{\"marker\":{\"colorbar\":{\"outlinewidth\":0,\"ticks\":\"\"}},\"type\":\"scatterpolargl\"}],\"scatterternary\":[{\"marker\":{\"colorbar\":{\"outlinewidth\":0,\"ticks\":\"\"}},\"type\":\"scatterternary\"}],\"surface\":[{\"colorbar\":{\"outlinewidth\":0,\"ticks\":\"\"},\"colorscale\":[[0.0,\"#0d0887\"],[0.1111111111111111,\"#46039f\"],[0.2222222222222222,\"#7201a8\"],[0.3333333333333333,\"#9c179e\"],[0.4444444444444444,\"#bd3786\"],[0.5555555555555556,\"#d8576b\"],[0.6666666666666666,\"#ed7953\"],[0.7777777777777778,\"#fb9f3a\"],[0.8888888888888888,\"#fdca26\"],[1.0,\"#f0f921\"]],\"type\":\"surface\"}],\"table\":[{\"cells\":{\"fill\":{\"color\":\"#EBF0F8\"},\"line\":{\"color\":\"white\"}},\"header\":{\"fill\":{\"color\":\"#C8D4E3\"},\"line\":{\"color\":\"white\"}},\"type\":\"table\"}]},\"layout\":{\"annotationdefaults\":{\"arrowcolor\":\"#2a3f5f\",\"arrowhead\":0,\"arrowwidth\":1},\"autotypenumbers\":\"strict\",\"coloraxis\":{\"colorbar\":{\"outlinewidth\":0,\"ticks\":\"\"}},\"colorscale\":{\"diverging\":[[0,\"#8e0152\"],[0.1,\"#c51b7d\"],[0.2,\"#de77ae\"],[0.3,\"#f1b6da\"],[0.4,\"#fde0ef\"],[0.5,\"#f7f7f7\"],[0.6,\"#e6f5d0\"],[0.7,\"#b8e186\"],[0.8,\"#7fbc41\"],[0.9,\"#4d9221\"],[1,\"#276419\"]],\"sequential\":[[0.0,\"#0d0887\"],[0.1111111111111111,\"#46039f\"],[0.2222222222222222,\"#7201a8\"],[0.3333333333333333,\"#9c179e\"],[0.4444444444444444,\"#bd3786\"],[0.5555555555555556,\"#d8576b\"],[0.6666666666666666,\"#ed7953\"],[0.7777777777777778,\"#fb9f3a\"],[0.8888888888888888,\"#fdca26\"],[1.0,\"#f0f921\"]],\"sequentialminus\":[[0.0,\"#0d0887\"],[0.1111111111111111,\"#46039f\"],[0.2222222222222222,\"#7201a8\"],[0.3333333333333333,\"#9c179e\"],[0.4444444444444444,\"#bd3786\"],[0.5555555555555556,\"#d8576b\"],[0.6666666666666666,\"#ed7953\"],[0.7777777777777778,\"#fb9f3a\"],[0.8888888888888888,\"#fdca26\"],[1.0,\"#f0f921\"]]},\"colorway\":[\"#636efa\",\"#EF553B\",\"#00cc96\",\"#ab63fa\",\"#FFA15A\",\"#19d3f3\",\"#FF6692\",\"#B6E880\",\"#FF97FF\",\"#FECB52\"],\"font\":{\"color\":\"#2a3f5f\"},\"geo\":{\"bgcolor\":\"white\",\"lakecolor\":\"white\",\"landcolor\":\"#E5ECF6\",\"showlakes\":true,\"showland\":true,\"subunitcolor\":\"white\"},\"hoverlabel\":{\"align\":\"left\"},\"hovermode\":\"closest\",\"mapbox\":{\"style\":\"light\"},\"paper_bgcolor\":\"white\",\"plot_bgcolor\":\"#E5ECF6\",\"polar\":{\"angularaxis\":{\"gridcolor\":\"white\",\"linecolor\":\"white\",\"ticks\":\"\"},\"bgcolor\":\"#E5ECF6\",\"radialaxis\":{\"gridcolor\":\"white\",\"linecolor\":\"white\",\"ticks\":\"\"}},\"scene\":{\"xaxis\":{\"backgroundcolor\":\"#E5ECF6\",\"gridcolor\":\"white\",\"gridwidth\":2,\"linecolor\":\"white\",\"showbackground\":true,\"ticks\":\"\",\"zerolinecolor\":\"white\"},\"yaxis\":{\"backgroundcolor\":\"#E5ECF6\",\"gridcolor\":\"white\",\"gridwidth\":2,\"linecolor\":\"white\",\"showbackground\":true,\"ticks\":\"\",\"zerolinecolor\":\"white\"},\"zaxis\":{\"backgroundcolor\":\"#E5ECF6\",\"gridcolor\":\"white\",\"gridwidth\":2,\"linecolor\":\"white\",\"showbackground\":true,\"ticks\":\"\",\"zerolinecolor\":\"white\"}},\"shapedefaults\":{\"line\":{\"color\":\"#2a3f5f\"}},\"ternary\":{\"aaxis\":{\"gridcolor\":\"white\",\"linecolor\":\"white\",\"ticks\":\"\"},\"baxis\":{\"gridcolor\":\"white\",\"linecolor\":\"white\",\"ticks\":\"\"},\"bgcolor\":\"#E5ECF6\",\"caxis\":{\"gridcolor\":\"white\",\"linecolor\":\"white\",\"ticks\":\"\"}},\"title\":{\"x\":0.05},\"xaxis\":{\"automargin\":true,\"gridcolor\":\"white\",\"linecolor\":\"white\",\"ticks\":\"\",\"title\":{\"standoff\":15},\"zerolinecolor\":\"white\",\"zerolinewidth\":2},\"yaxis\":{\"automargin\":true,\"gridcolor\":\"white\",\"linecolor\":\"white\",\"ticks\":\"\",\"title\":{\"standoff\":15},\"zerolinecolor\":\"white\",\"zerolinewidth\":2}}}},                        {\"responsive\": true}                    ).then(function(){\n",
              "                            \n",
              "var gd = document.getElementById('7357d0a7-21c8-449b-ba12-2118192ec0c6');\n",
              "var x = new MutationObserver(function (mutations, observer) {{\n",
              "        var display = window.getComputedStyle(gd).display;\n",
              "        if (!display || display === 'none') {{\n",
              "            console.log([gd, 'removed!']);\n",
              "            Plotly.purge(gd);\n",
              "            observer.disconnect();\n",
              "        }}\n",
              "}});\n",
              "\n",
              "// Listen for the removal of the full notebook cells\n",
              "var notebookContainer = gd.closest('#notebook-container');\n",
              "if (notebookContainer) {{\n",
              "    x.observe(notebookContainer, {childList: true});\n",
              "}}\n",
              "\n",
              "// Listen for the clearing of the current output cell\n",
              "var outputEl = gd.closest('.output');\n",
              "if (outputEl) {{\n",
              "    x.observe(outputEl, {childList: true});\n",
              "}}\n",
              "\n",
              "                        })                };                            </script>        </div>\n",
              "</body>\n",
              "</html>"
            ]
          },
          "metadata": {},
          "output_type": "display_data"
        }
      ],
      "source": [
        "# Plot_optimization_histor: shows the scores from all trials as well as the best score so far at each point.\n",
        "optuna.visualization.plot_optimization_history(catboost_study)"
      ]
    },
    {
      "cell_type": "code",
      "execution_count": 56,
      "metadata": {
        "colab": {
          "base_uri": "https://localhost:8080/",
          "height": 542
        },
        "id": "rx4TVfUFA_2Z",
        "outputId": "e7479e20-12ec-4813-c864-7f8cd773e698"
      },
      "outputs": [
        {
          "data": {
            "text/html": [
              "<html>\n",
              "<head><meta charset=\"utf-8\" /></head>\n",
              "<body>\n",
              "    <div>            <script src=\"https://cdnjs.cloudflare.com/ajax/libs/mathjax/2.7.5/MathJax.js?config=TeX-AMS-MML_SVG\"></script><script type=\"text/javascript\">if (window.MathJax) {MathJax.Hub.Config({SVG: {font: \"STIX-Web\"}});}</script>                <script type=\"text/javascript\">window.PlotlyConfig = {MathJaxConfig: 'local'};</script>\n",
              "        <script src=\"https://cdn.plot.ly/plotly-2.8.3.min.js\"></script>                <div id=\"5ea4c818-360f-4ba4-9d91-28328c94144e\" class=\"plotly-graph-div\" style=\"height:525px; width:100%;\"></div>            <script type=\"text/javascript\">                                    window.PLOTLYENV=window.PLOTLYENV || {};                                    if (document.getElementById(\"5ea4c818-360f-4ba4-9d91-28328c94144e\")) {                    Plotly.newPlot(                        \"5ea4c818-360f-4ba4-9d91-28328c94144e\",                        [{\"cliponaxis\":false,\"hovertemplate\":[\"depth (IntUniformDistribution): 0.3098591549295773<extra></extra>\",\"iterations (IntUniformDistribution): 0.3380281690140846<extra></extra>\",\"learning_rate (DiscreteUniformDistribution): 0.35211267605633817<extra></extra>\"],\"marker\":{\"color\":\"rgb(66,146,198)\"},\"orientation\":\"h\",\"text\":[\"0.3098591549295773\",\"0.3380281690140846\",\"0.35211267605633817\"],\"textposition\":\"outside\",\"texttemplate\":\"%{text:.2f}\",\"x\":[0.3098591549295773,0.3380281690140846,0.35211267605633817],\"y\":[\"depth\",\"iterations\",\"learning_rate\"],\"type\":\"bar\"}],                        {\"showlegend\":false,\"title\":{\"text\":\"Hyperparameter Importances\"},\"xaxis\":{\"title\":{\"text\":\"Importance for Objective Value\"}},\"yaxis\":{\"title\":{\"text\":\"Hyperparameter\"}},\"template\":{\"data\":{\"bar\":[{\"error_x\":{\"color\":\"#2a3f5f\"},\"error_y\":{\"color\":\"#2a3f5f\"},\"marker\":{\"line\":{\"color\":\"#E5ECF6\",\"width\":0.5},\"pattern\":{\"fillmode\":\"overlay\",\"size\":10,\"solidity\":0.2}},\"type\":\"bar\"}],\"barpolar\":[{\"marker\":{\"line\":{\"color\":\"#E5ECF6\",\"width\":0.5},\"pattern\":{\"fillmode\":\"overlay\",\"size\":10,\"solidity\":0.2}},\"type\":\"barpolar\"}],\"carpet\":[{\"aaxis\":{\"endlinecolor\":\"#2a3f5f\",\"gridcolor\":\"white\",\"linecolor\":\"white\",\"minorgridcolor\":\"white\",\"startlinecolor\":\"#2a3f5f\"},\"baxis\":{\"endlinecolor\":\"#2a3f5f\",\"gridcolor\":\"white\",\"linecolor\":\"white\",\"minorgridcolor\":\"white\",\"startlinecolor\":\"#2a3f5f\"},\"type\":\"carpet\"}],\"choropleth\":[{\"colorbar\":{\"outlinewidth\":0,\"ticks\":\"\"},\"type\":\"choropleth\"}],\"contour\":[{\"colorbar\":{\"outlinewidth\":0,\"ticks\":\"\"},\"colorscale\":[[0.0,\"#0d0887\"],[0.1111111111111111,\"#46039f\"],[0.2222222222222222,\"#7201a8\"],[0.3333333333333333,\"#9c179e\"],[0.4444444444444444,\"#bd3786\"],[0.5555555555555556,\"#d8576b\"],[0.6666666666666666,\"#ed7953\"],[0.7777777777777778,\"#fb9f3a\"],[0.8888888888888888,\"#fdca26\"],[1.0,\"#f0f921\"]],\"type\":\"contour\"}],\"contourcarpet\":[{\"colorbar\":{\"outlinewidth\":0,\"ticks\":\"\"},\"type\":\"contourcarpet\"}],\"heatmap\":[{\"colorbar\":{\"outlinewidth\":0,\"ticks\":\"\"},\"colorscale\":[[0.0,\"#0d0887\"],[0.1111111111111111,\"#46039f\"],[0.2222222222222222,\"#7201a8\"],[0.3333333333333333,\"#9c179e\"],[0.4444444444444444,\"#bd3786\"],[0.5555555555555556,\"#d8576b\"],[0.6666666666666666,\"#ed7953\"],[0.7777777777777778,\"#fb9f3a\"],[0.8888888888888888,\"#fdca26\"],[1.0,\"#f0f921\"]],\"type\":\"heatmap\"}],\"heatmapgl\":[{\"colorbar\":{\"outlinewidth\":0,\"ticks\":\"\"},\"colorscale\":[[0.0,\"#0d0887\"],[0.1111111111111111,\"#46039f\"],[0.2222222222222222,\"#7201a8\"],[0.3333333333333333,\"#9c179e\"],[0.4444444444444444,\"#bd3786\"],[0.5555555555555556,\"#d8576b\"],[0.6666666666666666,\"#ed7953\"],[0.7777777777777778,\"#fb9f3a\"],[0.8888888888888888,\"#fdca26\"],[1.0,\"#f0f921\"]],\"type\":\"heatmapgl\"}],\"histogram\":[{\"marker\":{\"pattern\":{\"fillmode\":\"overlay\",\"size\":10,\"solidity\":0.2}},\"type\":\"histogram\"}],\"histogram2d\":[{\"colorbar\":{\"outlinewidth\":0,\"ticks\":\"\"},\"colorscale\":[[0.0,\"#0d0887\"],[0.1111111111111111,\"#46039f\"],[0.2222222222222222,\"#7201a8\"],[0.3333333333333333,\"#9c179e\"],[0.4444444444444444,\"#bd3786\"],[0.5555555555555556,\"#d8576b\"],[0.6666666666666666,\"#ed7953\"],[0.7777777777777778,\"#fb9f3a\"],[0.8888888888888888,\"#fdca26\"],[1.0,\"#f0f921\"]],\"type\":\"histogram2d\"}],\"histogram2dcontour\":[{\"colorbar\":{\"outlinewidth\":0,\"ticks\":\"\"},\"colorscale\":[[0.0,\"#0d0887\"],[0.1111111111111111,\"#46039f\"],[0.2222222222222222,\"#7201a8\"],[0.3333333333333333,\"#9c179e\"],[0.4444444444444444,\"#bd3786\"],[0.5555555555555556,\"#d8576b\"],[0.6666666666666666,\"#ed7953\"],[0.7777777777777778,\"#fb9f3a\"],[0.8888888888888888,\"#fdca26\"],[1.0,\"#f0f921\"]],\"type\":\"histogram2dcontour\"}],\"mesh3d\":[{\"colorbar\":{\"outlinewidth\":0,\"ticks\":\"\"},\"type\":\"mesh3d\"}],\"parcoords\":[{\"line\":{\"colorbar\":{\"outlinewidth\":0,\"ticks\":\"\"}},\"type\":\"parcoords\"}],\"pie\":[{\"automargin\":true,\"type\":\"pie\"}],\"scatter\":[{\"marker\":{\"colorbar\":{\"outlinewidth\":0,\"ticks\":\"\"}},\"type\":\"scatter\"}],\"scatter3d\":[{\"line\":{\"colorbar\":{\"outlinewidth\":0,\"ticks\":\"\"}},\"marker\":{\"colorbar\":{\"outlinewidth\":0,\"ticks\":\"\"}},\"type\":\"scatter3d\"}],\"scattercarpet\":[{\"marker\":{\"colorbar\":{\"outlinewidth\":0,\"ticks\":\"\"}},\"type\":\"scattercarpet\"}],\"scattergeo\":[{\"marker\":{\"colorbar\":{\"outlinewidth\":0,\"ticks\":\"\"}},\"type\":\"scattergeo\"}],\"scattergl\":[{\"marker\":{\"colorbar\":{\"outlinewidth\":0,\"ticks\":\"\"}},\"type\":\"scattergl\"}],\"scattermapbox\":[{\"marker\":{\"colorbar\":{\"outlinewidth\":0,\"ticks\":\"\"}},\"type\":\"scattermapbox\"}],\"scatterpolar\":[{\"marker\":{\"colorbar\":{\"outlinewidth\":0,\"ticks\":\"\"}},\"type\":\"scatterpolar\"}],\"scatterpolargl\":[{\"marker\":{\"colorbar\":{\"outlinewidth\":0,\"ticks\":\"\"}},\"type\":\"scatterpolargl\"}],\"scatterternary\":[{\"marker\":{\"colorbar\":{\"outlinewidth\":0,\"ticks\":\"\"}},\"type\":\"scatterternary\"}],\"surface\":[{\"colorbar\":{\"outlinewidth\":0,\"ticks\":\"\"},\"colorscale\":[[0.0,\"#0d0887\"],[0.1111111111111111,\"#46039f\"],[0.2222222222222222,\"#7201a8\"],[0.3333333333333333,\"#9c179e\"],[0.4444444444444444,\"#bd3786\"],[0.5555555555555556,\"#d8576b\"],[0.6666666666666666,\"#ed7953\"],[0.7777777777777778,\"#fb9f3a\"],[0.8888888888888888,\"#fdca26\"],[1.0,\"#f0f921\"]],\"type\":\"surface\"}],\"table\":[{\"cells\":{\"fill\":{\"color\":\"#EBF0F8\"},\"line\":{\"color\":\"white\"}},\"header\":{\"fill\":{\"color\":\"#C8D4E3\"},\"line\":{\"color\":\"white\"}},\"type\":\"table\"}]},\"layout\":{\"annotationdefaults\":{\"arrowcolor\":\"#2a3f5f\",\"arrowhead\":0,\"arrowwidth\":1},\"autotypenumbers\":\"strict\",\"coloraxis\":{\"colorbar\":{\"outlinewidth\":0,\"ticks\":\"\"}},\"colorscale\":{\"diverging\":[[0,\"#8e0152\"],[0.1,\"#c51b7d\"],[0.2,\"#de77ae\"],[0.3,\"#f1b6da\"],[0.4,\"#fde0ef\"],[0.5,\"#f7f7f7\"],[0.6,\"#e6f5d0\"],[0.7,\"#b8e186\"],[0.8,\"#7fbc41\"],[0.9,\"#4d9221\"],[1,\"#276419\"]],\"sequential\":[[0.0,\"#0d0887\"],[0.1111111111111111,\"#46039f\"],[0.2222222222222222,\"#7201a8\"],[0.3333333333333333,\"#9c179e\"],[0.4444444444444444,\"#bd3786\"],[0.5555555555555556,\"#d8576b\"],[0.6666666666666666,\"#ed7953\"],[0.7777777777777778,\"#fb9f3a\"],[0.8888888888888888,\"#fdca26\"],[1.0,\"#f0f921\"]],\"sequentialminus\":[[0.0,\"#0d0887\"],[0.1111111111111111,\"#46039f\"],[0.2222222222222222,\"#7201a8\"],[0.3333333333333333,\"#9c179e\"],[0.4444444444444444,\"#bd3786\"],[0.5555555555555556,\"#d8576b\"],[0.6666666666666666,\"#ed7953\"],[0.7777777777777778,\"#fb9f3a\"],[0.8888888888888888,\"#fdca26\"],[1.0,\"#f0f921\"]]},\"colorway\":[\"#636efa\",\"#EF553B\",\"#00cc96\",\"#ab63fa\",\"#FFA15A\",\"#19d3f3\",\"#FF6692\",\"#B6E880\",\"#FF97FF\",\"#FECB52\"],\"font\":{\"color\":\"#2a3f5f\"},\"geo\":{\"bgcolor\":\"white\",\"lakecolor\":\"white\",\"landcolor\":\"#E5ECF6\",\"showlakes\":true,\"showland\":true,\"subunitcolor\":\"white\"},\"hoverlabel\":{\"align\":\"left\"},\"hovermode\":\"closest\",\"mapbox\":{\"style\":\"light\"},\"paper_bgcolor\":\"white\",\"plot_bgcolor\":\"#E5ECF6\",\"polar\":{\"angularaxis\":{\"gridcolor\":\"white\",\"linecolor\":\"white\",\"ticks\":\"\"},\"bgcolor\":\"#E5ECF6\",\"radialaxis\":{\"gridcolor\":\"white\",\"linecolor\":\"white\",\"ticks\":\"\"}},\"scene\":{\"xaxis\":{\"backgroundcolor\":\"#E5ECF6\",\"gridcolor\":\"white\",\"gridwidth\":2,\"linecolor\":\"white\",\"showbackground\":true,\"ticks\":\"\",\"zerolinecolor\":\"white\"},\"yaxis\":{\"backgroundcolor\":\"#E5ECF6\",\"gridcolor\":\"white\",\"gridwidth\":2,\"linecolor\":\"white\",\"showbackground\":true,\"ticks\":\"\",\"zerolinecolor\":\"white\"},\"zaxis\":{\"backgroundcolor\":\"#E5ECF6\",\"gridcolor\":\"white\",\"gridwidth\":2,\"linecolor\":\"white\",\"showbackground\":true,\"ticks\":\"\",\"zerolinecolor\":\"white\"}},\"shapedefaults\":{\"line\":{\"color\":\"#2a3f5f\"}},\"ternary\":{\"aaxis\":{\"gridcolor\":\"white\",\"linecolor\":\"white\",\"ticks\":\"\"},\"baxis\":{\"gridcolor\":\"white\",\"linecolor\":\"white\",\"ticks\":\"\"},\"bgcolor\":\"#E5ECF6\",\"caxis\":{\"gridcolor\":\"white\",\"linecolor\":\"white\",\"ticks\":\"\"}},\"title\":{\"x\":0.05},\"xaxis\":{\"automargin\":true,\"gridcolor\":\"white\",\"linecolor\":\"white\",\"ticks\":\"\",\"title\":{\"standoff\":15},\"zerolinecolor\":\"white\",\"zerolinewidth\":2},\"yaxis\":{\"automargin\":true,\"gridcolor\":\"white\",\"linecolor\":\"white\",\"ticks\":\"\",\"title\":{\"standoff\":15},\"zerolinecolor\":\"white\",\"zerolinewidth\":2}}}},                        {\"responsive\": true}                    ).then(function(){\n",
              "                            \n",
              "var gd = document.getElementById('5ea4c818-360f-4ba4-9d91-28328c94144e');\n",
              "var x = new MutationObserver(function (mutations, observer) {{\n",
              "        var display = window.getComputedStyle(gd).display;\n",
              "        if (!display || display === 'none') {{\n",
              "            console.log([gd, 'removed!']);\n",
              "            Plotly.purge(gd);\n",
              "            observer.disconnect();\n",
              "        }}\n",
              "}});\n",
              "\n",
              "// Listen for the removal of the full notebook cells\n",
              "var notebookContainer = gd.closest('#notebook-container');\n",
              "if (notebookContainer) {{\n",
              "    x.observe(notebookContainer, {childList: true});\n",
              "}}\n",
              "\n",
              "// Listen for the clearing of the current output cell\n",
              "var outputEl = gd.closest('.output');\n",
              "if (outputEl) {{\n",
              "    x.observe(outputEl, {childList: true});\n",
              "}}\n",
              "\n",
              "                        })                };                            </script>        </div>\n",
              "</body>\n",
              "</html>"
            ]
          },
          "metadata": {},
          "output_type": "display_data"
        }
      ],
      "source": [
        "# Visualize parameter importances.\n",
        "optuna.visualization.plot_param_importances(catboost_study)"
      ]
    },
    {
      "cell_type": "markdown",
      "metadata": {
        "id": "JtuujCc0S-8N"
      },
      "source": [
        "## LightGBM optimization"
      ]
    },
    {
      "cell_type": "code",
      "execution_count": 57,
      "metadata": {
        "colab": {
          "base_uri": "https://localhost:8080/"
        },
        "id": "0ThIVw28hzLr",
        "outputId": "09ec4ccd-393f-4ad4-a8bf-973591d28a4d"
      },
      "outputs": [
        {
          "name": "stderr",
          "output_type": "stream",
          "text": [
            "\u001b[32m[I 2022-04-21 20:36:16,984]\u001b[0m A new study created in memory with name: LightGBM optimization\u001b[0m\n",
            "\u001b[32m[I 2022-04-21 20:36:31,001]\u001b[0m Trial 0 finished with value: 0.32447133707751674 and parameters: {'n_estimators': 530, 'learning_rate': 0.41000000000000003, 'max_depth': 7, 'num_leaves': 6, 'max_bin': 35}. Best is trial 0 with value: 0.32447133707751674.\u001b[0m\n",
            "\u001b[32m[I 2022-04-21 20:36:50,984]\u001b[0m Trial 1 finished with value: 0.9213429188623252 and parameters: {'n_estimators': 600, 'learning_rate': 0.8200000000000001, 'max_depth': 5, 'num_leaves': 7, 'max_bin': 170}. Best is trial 0 with value: 0.32447133707751674.\u001b[0m\n",
            "\u001b[32m[I 2022-04-21 20:37:14,679]\u001b[0m Trial 2 finished with value: 0.8782220570917417 and parameters: {'n_estimators': 580, 'learning_rate': 0.59, 'max_depth': 17, 'num_leaves': 7, 'max_bin': 117}. Best is trial 0 with value: 0.32447133707751674.\u001b[0m\n",
            "\u001b[32m[I 2022-04-21 20:37:56,421]\u001b[0m Trial 3 finished with value: 0.3113087476668822 and parameters: {'n_estimators': 360, 'learning_rate': 0.27, 'max_depth': 14, 'num_leaves': 10, 'max_bin': 252}. Best is trial 3 with value: 0.3113087476668822.\u001b[0m\n",
            "\u001b[32m[I 2022-04-21 20:38:21,963]\u001b[0m Trial 4 finished with value: 0.3103635469365468 and parameters: {'n_estimators': 380, 'learning_rate': 0.4, 'max_depth': 13, 'num_leaves': 11, 'max_bin': 106}. Best is trial 4 with value: 0.3103635469365468.\u001b[0m\n",
            "\u001b[32m[I 2022-04-21 20:38:49,956]\u001b[0m Trial 5 finished with value: 1.6546637518238896 and parameters: {'n_estimators': 990, 'learning_rate': 0.88, 'max_depth': 8, 'num_leaves': 12, 'max_bin': 241}. Best is trial 4 with value: 0.3103635469365468.\u001b[0m\n",
            "\u001b[32m[I 2022-04-21 20:39:02,557]\u001b[0m Trial 6 finished with value: 0.22660635917828248 and parameters: {'n_estimators': 150, 'learning_rate': 0.2, 'max_depth': 9, 'num_leaves': 7, 'max_bin': 42}. Best is trial 6 with value: 0.22660635917828248.\u001b[0m\n",
            "\u001b[32m[I 2022-04-21 20:39:23,131]\u001b[0m Trial 7 finished with value: 0.30587880271168394 and parameters: {'n_estimators': 650, 'learning_rate': 0.2, 'max_depth': 8, 'num_leaves': 4, 'max_bin': 47}. Best is trial 6 with value: 0.22660635917828248.\u001b[0m\n",
            "\u001b[32m[I 2022-04-21 20:40:00,627]\u001b[0m Trial 8 finished with value: 0.31449688781481766 and parameters: {'n_estimators': 720, 'learning_rate': 0.33, 'max_depth': 9, 'num_leaves': 10, 'max_bin': 186}. Best is trial 6 with value: 0.22660635917828248.\u001b[0m\n",
            "\u001b[32m[I 2022-04-21 20:41:01,230]\u001b[0m Trial 9 finished with value: 0.22370778606755523 and parameters: {'n_estimators': 320, 'learning_rate': 0.09, 'max_depth': 18, 'num_leaves': 7, 'max_bin': 235}. Best is trial 9 with value: 0.22370778606755523.\u001b[0m\n",
            "\u001b[32m[I 2022-04-21 20:41:09,788]\u001b[0m Trial 10 finished with value: 0.25534910434462754 and parameters: {'n_estimators': 140, 'learning_rate': 0.05, 'max_depth': 18, 'num_leaves': 2, 'max_bin': 207}. Best is trial 9 with value: 0.22370778606755523.\u001b[0m\n",
            "\u001b[32m[I 2022-04-21 20:41:24,492]\u001b[0m Trial 11 finished with value: 0.26191851045117226 and parameters: {'n_estimators': 120, 'learning_rate': 0.01, 'max_depth': 12, 'num_leaves': 5, 'max_bin': 86}. Best is trial 9 with value: 0.22370778606755523.\u001b[0m\n",
            "\u001b[32m[I 2022-04-21 20:42:01,019]\u001b[0m Trial 12 finished with value: 0.27395997856563564 and parameters: {'n_estimators': 280, 'learning_rate': 0.14, 'max_depth': 4, 'num_leaves': 9, 'max_bin': 149}. Best is trial 9 with value: 0.22370778606755523.\u001b[0m\n",
            "\u001b[32m[I 2022-04-21 20:42:17,758]\u001b[0m Trial 13 finished with value: 0.30453902727329263 and parameters: {'n_estimators': 260, 'learning_rate': 0.56, 'max_depth': 15, 'num_leaves': 8, 'max_bin': 74}. Best is trial 9 with value: 0.22370778606755523.\u001b[0m\n",
            "\u001b[32m[I 2022-04-21 20:42:30,953]\u001b[0m Trial 14 finished with value: 0.17236905070633085 and parameters: {'n_estimators': 90, 'learning_rate': 0.15000000000000002, 'max_depth': 11, 'num_leaves': 4, 'max_bin': 203}. Best is trial 14 with value: 0.17236905070633085.\u001b[0m\n",
            "\u001b[32m[I 2022-04-21 20:43:01,593]\u001b[0m Trial 15 finished with value: 0.17498547112354712 and parameters: {'n_estimators': 450, 'learning_rate': 0.09999999999999999, 'max_depth': 16, 'num_leaves': 3, 'max_bin': 218}. Best is trial 14 with value: 0.17236905070633085.\u001b[0m\n",
            "\u001b[32m[I 2022-04-21 20:43:25,278]\u001b[0m Trial 16 finished with value: 0.2733415601174604 and parameters: {'n_estimators': 860, 'learning_rate': 0.47000000000000003, 'max_depth': 11, 'num_leaves': 2, 'max_bin': 212}. Best is trial 14 with value: 0.17236905070633085.\u001b[0m\n",
            "\u001b[32m[I 2022-04-21 20:43:46,702]\u001b[0m Trial 17 finished with value: 0.5707544506277301 and parameters: {'n_estimators': 480, 'learning_rate': 0.7100000000000001, 'max_depth': 15, 'num_leaves': 4, 'max_bin': 201}. Best is trial 14 with value: 0.17236905070633085.\u001b[0m\n",
            "\u001b[32m[I 2022-04-21 20:44:11,155]\u001b[0m Trial 18 finished with value: 0.2692996681002731 and parameters: {'n_estimators': 440, 'learning_rate': 0.28, 'max_depth': 16, 'num_leaves': 3, 'max_bin': 158}. Best is trial 14 with value: 0.17236905070633085.\u001b[0m\n",
            "\u001b[32m[I 2022-04-21 20:44:34,101]\u001b[0m Trial 19 finished with value: 3.2646089767671342 and parameters: {'n_estimators': 780, 'learning_rate': 0.97, 'max_depth': 11, 'num_leaves': 4, 'max_bin': 223}. Best is trial 14 with value: 0.17236905070633085.\u001b[0m\n",
            "\u001b[32m[I 2022-04-21 20:45:03,949]\u001b[0m Trial 20 finished with value: 0.22419798132341362 and parameters: {'n_estimators': 250, 'learning_rate': 0.18000000000000002, 'max_depth': 13, 'num_leaves': 5, 'max_bin': 182}. Best is trial 14 with value: 0.17236905070633085.\u001b[0m\n",
            "\u001b[32m[I 2022-04-21 20:45:28,350]\u001b[0m Trial 21 finished with value: 0.1691697655455637 and parameters: {'n_estimators': 320, 'learning_rate': 0.09, 'max_depth': 18, 'num_leaves': 3, 'max_bin': 234}. Best is trial 21 with value: 0.1691697655455637.\u001b[0m\n",
            "\u001b[32m[I 2022-04-21 20:45:39,172]\u001b[0m Trial 22 finished with value: 0.19418531963765612 and parameters: {'n_estimators': 90, 'learning_rate': 0.09999999999999999, 'max_depth': 16, 'num_leaves': 3, 'max_bin': 225}. Best is trial 21 with value: 0.1691697655455637.\u001b[0m\n",
            "\u001b[32m[I 2022-04-21 20:45:56,375]\u001b[0m Trial 23 finished with value: 0.1911536097744522 and parameters: {'n_estimators': 200, 'learning_rate': 0.28, 'max_depth': 18, 'num_leaves': 3, 'max_bin': 252}. Best is trial 21 with value: 0.1691697655455637.\u001b[0m\n",
            "\u001b[32m[I 2022-04-21 20:46:51,262]\u001b[0m Trial 24 finished with value: 0.16829793995794928 and parameters: {'n_estimators': 430, 'learning_rate': 0.02, 'max_depth': 16, 'num_leaves': 5, 'max_bin': 193}. Best is trial 24 with value: 0.16829793995794928.\u001b[0m\n"
          ]
        },
        {
          "name": "stdout",
          "output_type": "stream",
          "text": [
            "Number of finished trials:  25\n",
            "Best trial:\n",
            "  Value: 0.16829793995794928\n",
            "  Params: \n",
            "    n_estimators: 430\n",
            "    learning_rate: 0.02\n",
            "    max_depth: 16\n",
            "    num_leaves: 5\n",
            "    max_bin: 193\n"
          ]
        }
      ],
      "source": [
        "def objective(trial):\n",
        "\n",
        "    # Define model parameter scopes\n",
        "    lightgbm_param = {\n",
        "        \"n_estimators\": trial.suggest_int(\"n_estimators\", 80, 1000, step=10),\n",
        "        \"learning_rate\": trial.suggest_float(\"learning_rate\", 0.01, 1.0, step=0.01),\n",
        "        \"max_depth\": trial.suggest_int(\"max_depth\", 3, 18, step=1),\n",
        "        \"num_leaves\": trial.suggest_int('num_leaves', 2, 12, step=1),\n",
        "        \"max_bin\": trial.suggest_int('max_bin', 25, 255, step=1)\n",
        "    }\n",
        "\n",
        "    # Define model\n",
        "    model = LGBMClassifier(**lightgbm_param,\n",
        "        objective='binary',\n",
        "        device_type='gpu',\n",
        "        random_seed=RANDOM_SEED,\n",
        "        verbose=-1\n",
        "    )\n",
        "\n",
        "    # Evaluate log_loss for each label\n",
        "    aggr_log_loss = {}\n",
        "\n",
        "    for col in val_labels.columns:\n",
        "\n",
        "        train_y_col = train_labels[col]\n",
        "        val_y_col = val_labels[col]\n",
        "\n",
        "        model.fit(\n",
        "            train_features.values,\n",
        "            train_y_col\n",
        "            )\n",
        "\n",
        "        pred_labels = model.predict_proba(val_features.values)\n",
        "        aggr_log_loss[col] = log_loss(y_true=val_y_col.values, y_pred=pred_labels, labels=[0,1])\n",
        "\n",
        "    # Calculate aggregated log_loss\n",
        "    avg_log_loss = np.mean(list(aggr_log_loss.values()))\n",
        "\n",
        "    return avg_log_loss\n",
        "\n",
        "\n",
        "lightgbm_study = optuna.create_study(direction=\"minimize\", study_name='LightGBM optimization')\n",
        "lightgbm_study.optimize(objective, n_trials=100, timeout=600)\n",
        "\n",
        "print(\"Number of finished trials: \", len(lightgbm_study.trials))\n",
        "print(\"Best trial:\")\n",
        "lightgbm_trial = lightgbm_study.best_trial\n",
        "\n",
        "print(\"  Value: {}\".format(lightgbm_trial.value))\n",
        "print(\"  Params: \")\n",
        "for key, value in lightgbm_trial.params.items():\n",
        "\n",
        "    print(\"    {}: {}\".format(key, value))"
      ]
    },
    {
      "cell_type": "code",
      "execution_count": 58,
      "metadata": {
        "colab": {
          "base_uri": "https://localhost:8080/",
          "height": 542
        },
        "id": "jpNdWCSVhVrs",
        "outputId": "38e4b27b-22cd-4591-d504-b5980e1e8293"
      },
      "outputs": [
        {
          "data": {
            "text/html": [
              "<html>\n",
              "<head><meta charset=\"utf-8\" /></head>\n",
              "<body>\n",
              "    <div>            <script src=\"https://cdnjs.cloudflare.com/ajax/libs/mathjax/2.7.5/MathJax.js?config=TeX-AMS-MML_SVG\"></script><script type=\"text/javascript\">if (window.MathJax) {MathJax.Hub.Config({SVG: {font: \"STIX-Web\"}});}</script>                <script type=\"text/javascript\">window.PlotlyConfig = {MathJaxConfig: 'local'};</script>\n",
              "        <script src=\"https://cdn.plot.ly/plotly-2.8.3.min.js\"></script>                <div id=\"1a5358e4-be51-48b3-8616-799dcdea7832\" class=\"plotly-graph-div\" style=\"height:525px; width:100%;\"></div>            <script type=\"text/javascript\">                                    window.PLOTLYENV=window.PLOTLYENV || {};                                    if (document.getElementById(\"1a5358e4-be51-48b3-8616-799dcdea7832\")) {                    Plotly.newPlot(                        \"1a5358e4-be51-48b3-8616-799dcdea7832\",                        [{\"mode\":\"markers\",\"name\":\"Objective Value\",\"x\":[0,1,2,3,4,5,6,7,8,9,10,11,12,13,14,15,16,17,18,19,20,21,22,23,24],\"y\":[0.32447133707751674,0.9213429188623252,0.8782220570917417,0.3113087476668822,0.3103635469365468,1.6546637518238896,0.22660635917828248,0.30587880271168394,0.31449688781481766,0.22370778606755523,0.25534910434462754,0.26191851045117226,0.27395997856563564,0.30453902727329263,0.17236905070633085,0.17498547112354712,0.2733415601174604,0.5707544506277301,0.2692996681002731,3.2646089767671342,0.22419798132341362,0.1691697655455637,0.19418531963765612,0.1911536097744522,0.16829793995794928],\"type\":\"scatter\"},{\"name\":\"Best Value\",\"x\":[0,1,2,3,4,5,6,7,8,9,10,11,12,13,14,15,16,17,18,19,20,21,22,23,24],\"y\":[0.32447133707751674,0.32447133707751674,0.32447133707751674,0.3113087476668822,0.3103635469365468,0.3103635469365468,0.22660635917828248,0.22660635917828248,0.22660635917828248,0.22370778606755523,0.22370778606755523,0.22370778606755523,0.22370778606755523,0.22370778606755523,0.17236905070633085,0.17236905070633085,0.17236905070633085,0.17236905070633085,0.17236905070633085,0.17236905070633085,0.17236905070633085,0.1691697655455637,0.1691697655455637,0.1691697655455637,0.16829793995794928],\"type\":\"scatter\"}],                        {\"title\":{\"text\":\"Optimization History Plot\"},\"xaxis\":{\"title\":{\"text\":\"#Trials\"}},\"yaxis\":{\"title\":{\"text\":\"Objective Value\"}},\"template\":{\"data\":{\"bar\":[{\"error_x\":{\"color\":\"#2a3f5f\"},\"error_y\":{\"color\":\"#2a3f5f\"},\"marker\":{\"line\":{\"color\":\"#E5ECF6\",\"width\":0.5},\"pattern\":{\"fillmode\":\"overlay\",\"size\":10,\"solidity\":0.2}},\"type\":\"bar\"}],\"barpolar\":[{\"marker\":{\"line\":{\"color\":\"#E5ECF6\",\"width\":0.5},\"pattern\":{\"fillmode\":\"overlay\",\"size\":10,\"solidity\":0.2}},\"type\":\"barpolar\"}],\"carpet\":[{\"aaxis\":{\"endlinecolor\":\"#2a3f5f\",\"gridcolor\":\"white\",\"linecolor\":\"white\",\"minorgridcolor\":\"white\",\"startlinecolor\":\"#2a3f5f\"},\"baxis\":{\"endlinecolor\":\"#2a3f5f\",\"gridcolor\":\"white\",\"linecolor\":\"white\",\"minorgridcolor\":\"white\",\"startlinecolor\":\"#2a3f5f\"},\"type\":\"carpet\"}],\"choropleth\":[{\"colorbar\":{\"outlinewidth\":0,\"ticks\":\"\"},\"type\":\"choropleth\"}],\"contour\":[{\"colorbar\":{\"outlinewidth\":0,\"ticks\":\"\"},\"colorscale\":[[0.0,\"#0d0887\"],[0.1111111111111111,\"#46039f\"],[0.2222222222222222,\"#7201a8\"],[0.3333333333333333,\"#9c179e\"],[0.4444444444444444,\"#bd3786\"],[0.5555555555555556,\"#d8576b\"],[0.6666666666666666,\"#ed7953\"],[0.7777777777777778,\"#fb9f3a\"],[0.8888888888888888,\"#fdca26\"],[1.0,\"#f0f921\"]],\"type\":\"contour\"}],\"contourcarpet\":[{\"colorbar\":{\"outlinewidth\":0,\"ticks\":\"\"},\"type\":\"contourcarpet\"}],\"heatmap\":[{\"colorbar\":{\"outlinewidth\":0,\"ticks\":\"\"},\"colorscale\":[[0.0,\"#0d0887\"],[0.1111111111111111,\"#46039f\"],[0.2222222222222222,\"#7201a8\"],[0.3333333333333333,\"#9c179e\"],[0.4444444444444444,\"#bd3786\"],[0.5555555555555556,\"#d8576b\"],[0.6666666666666666,\"#ed7953\"],[0.7777777777777778,\"#fb9f3a\"],[0.8888888888888888,\"#fdca26\"],[1.0,\"#f0f921\"]],\"type\":\"heatmap\"}],\"heatmapgl\":[{\"colorbar\":{\"outlinewidth\":0,\"ticks\":\"\"},\"colorscale\":[[0.0,\"#0d0887\"],[0.1111111111111111,\"#46039f\"],[0.2222222222222222,\"#7201a8\"],[0.3333333333333333,\"#9c179e\"],[0.4444444444444444,\"#bd3786\"],[0.5555555555555556,\"#d8576b\"],[0.6666666666666666,\"#ed7953\"],[0.7777777777777778,\"#fb9f3a\"],[0.8888888888888888,\"#fdca26\"],[1.0,\"#f0f921\"]],\"type\":\"heatmapgl\"}],\"histogram\":[{\"marker\":{\"pattern\":{\"fillmode\":\"overlay\",\"size\":10,\"solidity\":0.2}},\"type\":\"histogram\"}],\"histogram2d\":[{\"colorbar\":{\"outlinewidth\":0,\"ticks\":\"\"},\"colorscale\":[[0.0,\"#0d0887\"],[0.1111111111111111,\"#46039f\"],[0.2222222222222222,\"#7201a8\"],[0.3333333333333333,\"#9c179e\"],[0.4444444444444444,\"#bd3786\"],[0.5555555555555556,\"#d8576b\"],[0.6666666666666666,\"#ed7953\"],[0.7777777777777778,\"#fb9f3a\"],[0.8888888888888888,\"#fdca26\"],[1.0,\"#f0f921\"]],\"type\":\"histogram2d\"}],\"histogram2dcontour\":[{\"colorbar\":{\"outlinewidth\":0,\"ticks\":\"\"},\"colorscale\":[[0.0,\"#0d0887\"],[0.1111111111111111,\"#46039f\"],[0.2222222222222222,\"#7201a8\"],[0.3333333333333333,\"#9c179e\"],[0.4444444444444444,\"#bd3786\"],[0.5555555555555556,\"#d8576b\"],[0.6666666666666666,\"#ed7953\"],[0.7777777777777778,\"#fb9f3a\"],[0.8888888888888888,\"#fdca26\"],[1.0,\"#f0f921\"]],\"type\":\"histogram2dcontour\"}],\"mesh3d\":[{\"colorbar\":{\"outlinewidth\":0,\"ticks\":\"\"},\"type\":\"mesh3d\"}],\"parcoords\":[{\"line\":{\"colorbar\":{\"outlinewidth\":0,\"ticks\":\"\"}},\"type\":\"parcoords\"}],\"pie\":[{\"automargin\":true,\"type\":\"pie\"}],\"scatter\":[{\"marker\":{\"colorbar\":{\"outlinewidth\":0,\"ticks\":\"\"}},\"type\":\"scatter\"}],\"scatter3d\":[{\"line\":{\"colorbar\":{\"outlinewidth\":0,\"ticks\":\"\"}},\"marker\":{\"colorbar\":{\"outlinewidth\":0,\"ticks\":\"\"}},\"type\":\"scatter3d\"}],\"scattercarpet\":[{\"marker\":{\"colorbar\":{\"outlinewidth\":0,\"ticks\":\"\"}},\"type\":\"scattercarpet\"}],\"scattergeo\":[{\"marker\":{\"colorbar\":{\"outlinewidth\":0,\"ticks\":\"\"}},\"type\":\"scattergeo\"}],\"scattergl\":[{\"marker\":{\"colorbar\":{\"outlinewidth\":0,\"ticks\":\"\"}},\"type\":\"scattergl\"}],\"scattermapbox\":[{\"marker\":{\"colorbar\":{\"outlinewidth\":0,\"ticks\":\"\"}},\"type\":\"scattermapbox\"}],\"scatterpolar\":[{\"marker\":{\"colorbar\":{\"outlinewidth\":0,\"ticks\":\"\"}},\"type\":\"scatterpolar\"}],\"scatterpolargl\":[{\"marker\":{\"colorbar\":{\"outlinewidth\":0,\"ticks\":\"\"}},\"type\":\"scatterpolargl\"}],\"scatterternary\":[{\"marker\":{\"colorbar\":{\"outlinewidth\":0,\"ticks\":\"\"}},\"type\":\"scatterternary\"}],\"surface\":[{\"colorbar\":{\"outlinewidth\":0,\"ticks\":\"\"},\"colorscale\":[[0.0,\"#0d0887\"],[0.1111111111111111,\"#46039f\"],[0.2222222222222222,\"#7201a8\"],[0.3333333333333333,\"#9c179e\"],[0.4444444444444444,\"#bd3786\"],[0.5555555555555556,\"#d8576b\"],[0.6666666666666666,\"#ed7953\"],[0.7777777777777778,\"#fb9f3a\"],[0.8888888888888888,\"#fdca26\"],[1.0,\"#f0f921\"]],\"type\":\"surface\"}],\"table\":[{\"cells\":{\"fill\":{\"color\":\"#EBF0F8\"},\"line\":{\"color\":\"white\"}},\"header\":{\"fill\":{\"color\":\"#C8D4E3\"},\"line\":{\"color\":\"white\"}},\"type\":\"table\"}]},\"layout\":{\"annotationdefaults\":{\"arrowcolor\":\"#2a3f5f\",\"arrowhead\":0,\"arrowwidth\":1},\"autotypenumbers\":\"strict\",\"coloraxis\":{\"colorbar\":{\"outlinewidth\":0,\"ticks\":\"\"}},\"colorscale\":{\"diverging\":[[0,\"#8e0152\"],[0.1,\"#c51b7d\"],[0.2,\"#de77ae\"],[0.3,\"#f1b6da\"],[0.4,\"#fde0ef\"],[0.5,\"#f7f7f7\"],[0.6,\"#e6f5d0\"],[0.7,\"#b8e186\"],[0.8,\"#7fbc41\"],[0.9,\"#4d9221\"],[1,\"#276419\"]],\"sequential\":[[0.0,\"#0d0887\"],[0.1111111111111111,\"#46039f\"],[0.2222222222222222,\"#7201a8\"],[0.3333333333333333,\"#9c179e\"],[0.4444444444444444,\"#bd3786\"],[0.5555555555555556,\"#d8576b\"],[0.6666666666666666,\"#ed7953\"],[0.7777777777777778,\"#fb9f3a\"],[0.8888888888888888,\"#fdca26\"],[1.0,\"#f0f921\"]],\"sequentialminus\":[[0.0,\"#0d0887\"],[0.1111111111111111,\"#46039f\"],[0.2222222222222222,\"#7201a8\"],[0.3333333333333333,\"#9c179e\"],[0.4444444444444444,\"#bd3786\"],[0.5555555555555556,\"#d8576b\"],[0.6666666666666666,\"#ed7953\"],[0.7777777777777778,\"#fb9f3a\"],[0.8888888888888888,\"#fdca26\"],[1.0,\"#f0f921\"]]},\"colorway\":[\"#636efa\",\"#EF553B\",\"#00cc96\",\"#ab63fa\",\"#FFA15A\",\"#19d3f3\",\"#FF6692\",\"#B6E880\",\"#FF97FF\",\"#FECB52\"],\"font\":{\"color\":\"#2a3f5f\"},\"geo\":{\"bgcolor\":\"white\",\"lakecolor\":\"white\",\"landcolor\":\"#E5ECF6\",\"showlakes\":true,\"showland\":true,\"subunitcolor\":\"white\"},\"hoverlabel\":{\"align\":\"left\"},\"hovermode\":\"closest\",\"mapbox\":{\"style\":\"light\"},\"paper_bgcolor\":\"white\",\"plot_bgcolor\":\"#E5ECF6\",\"polar\":{\"angularaxis\":{\"gridcolor\":\"white\",\"linecolor\":\"white\",\"ticks\":\"\"},\"bgcolor\":\"#E5ECF6\",\"radialaxis\":{\"gridcolor\":\"white\",\"linecolor\":\"white\",\"ticks\":\"\"}},\"scene\":{\"xaxis\":{\"backgroundcolor\":\"#E5ECF6\",\"gridcolor\":\"white\",\"gridwidth\":2,\"linecolor\":\"white\",\"showbackground\":true,\"ticks\":\"\",\"zerolinecolor\":\"white\"},\"yaxis\":{\"backgroundcolor\":\"#E5ECF6\",\"gridcolor\":\"white\",\"gridwidth\":2,\"linecolor\":\"white\",\"showbackground\":true,\"ticks\":\"\",\"zerolinecolor\":\"white\"},\"zaxis\":{\"backgroundcolor\":\"#E5ECF6\",\"gridcolor\":\"white\",\"gridwidth\":2,\"linecolor\":\"white\",\"showbackground\":true,\"ticks\":\"\",\"zerolinecolor\":\"white\"}},\"shapedefaults\":{\"line\":{\"color\":\"#2a3f5f\"}},\"ternary\":{\"aaxis\":{\"gridcolor\":\"white\",\"linecolor\":\"white\",\"ticks\":\"\"},\"baxis\":{\"gridcolor\":\"white\",\"linecolor\":\"white\",\"ticks\":\"\"},\"bgcolor\":\"#E5ECF6\",\"caxis\":{\"gridcolor\":\"white\",\"linecolor\":\"white\",\"ticks\":\"\"}},\"title\":{\"x\":0.05},\"xaxis\":{\"automargin\":true,\"gridcolor\":\"white\",\"linecolor\":\"white\",\"ticks\":\"\",\"title\":{\"standoff\":15},\"zerolinecolor\":\"white\",\"zerolinewidth\":2},\"yaxis\":{\"automargin\":true,\"gridcolor\":\"white\",\"linecolor\":\"white\",\"ticks\":\"\",\"title\":{\"standoff\":15},\"zerolinecolor\":\"white\",\"zerolinewidth\":2}}}},                        {\"responsive\": true}                    ).then(function(){\n",
              "                            \n",
              "var gd = document.getElementById('1a5358e4-be51-48b3-8616-799dcdea7832');\n",
              "var x = new MutationObserver(function (mutations, observer) {{\n",
              "        var display = window.getComputedStyle(gd).display;\n",
              "        if (!display || display === 'none') {{\n",
              "            console.log([gd, 'removed!']);\n",
              "            Plotly.purge(gd);\n",
              "            observer.disconnect();\n",
              "        }}\n",
              "}});\n",
              "\n",
              "// Listen for the removal of the full notebook cells\n",
              "var notebookContainer = gd.closest('#notebook-container');\n",
              "if (notebookContainer) {{\n",
              "    x.observe(notebookContainer, {childList: true});\n",
              "}}\n",
              "\n",
              "// Listen for the clearing of the current output cell\n",
              "var outputEl = gd.closest('.output');\n",
              "if (outputEl) {{\n",
              "    x.observe(outputEl, {childList: true});\n",
              "}}\n",
              "\n",
              "                        })                };                            </script>        </div>\n",
              "</body>\n",
              "</html>"
            ]
          },
          "metadata": {},
          "output_type": "display_data"
        }
      ],
      "source": [
        "# Plot_optimization_histor: shows the scores from all trials as well as the best score so far at each point.\n",
        "optuna.visualization.plot_optimization_history(lightgbm_study)"
      ]
    },
    {
      "cell_type": "code",
      "execution_count": 59,
      "metadata": {
        "colab": {
          "base_uri": "https://localhost:8080/",
          "height": 542
        },
        "id": "h7PfmtLphaQd",
        "outputId": "26001bfc-a649-4d0a-a3f1-3fc33ec69631"
      },
      "outputs": [
        {
          "data": {
            "text/html": [
              "<html>\n",
              "<head><meta charset=\"utf-8\" /></head>\n",
              "<body>\n",
              "    <div>            <script src=\"https://cdnjs.cloudflare.com/ajax/libs/mathjax/2.7.5/MathJax.js?config=TeX-AMS-MML_SVG\"></script><script type=\"text/javascript\">if (window.MathJax) {MathJax.Hub.Config({SVG: {font: \"STIX-Web\"}});}</script>                <script type=\"text/javascript\">window.PlotlyConfig = {MathJaxConfig: 'local'};</script>\n",
              "        <script src=\"https://cdn.plot.ly/plotly-2.8.3.min.js\"></script>                <div id=\"0cd9e4ee-5929-491c-ac46-86d521b8cc15\" class=\"plotly-graph-div\" style=\"height:525px; width:100%;\"></div>            <script type=\"text/javascript\">                                    window.PLOTLYENV=window.PLOTLYENV || {};                                    if (document.getElementById(\"0cd9e4ee-5929-491c-ac46-86d521b8cc15\")) {                    Plotly.newPlot(                        \"0cd9e4ee-5929-491c-ac46-86d521b8cc15\",                        [{\"cliponaxis\":false,\"hovertemplate\":[\"max_depth (IntUniformDistribution): 0.0025269937329817304<extra></extra>\",\"num_leaves (IntUniformDistribution): 0.0150375080663586<extra></extra>\",\"max_bin (IntUniformDistribution): 0.023830487752902835<extra></extra>\",\"n_estimators (IntUniformDistribution): 0.08255551522031257<extra></extra>\",\"learning_rate (DiscreteUniformDistribution): 0.8760494952274442<extra></extra>\"],\"marker\":{\"color\":\"rgb(66,146,198)\"},\"orientation\":\"h\",\"text\":[\"0.0025269937329817304\",\"0.0150375080663586\",\"0.023830487752902835\",\"0.08255551522031257\",\"0.8760494952274442\"],\"textposition\":\"outside\",\"texttemplate\":\"%{text:.2f}\",\"x\":[0.0025269937329817304,0.0150375080663586,0.023830487752902835,0.08255551522031257,0.8760494952274442],\"y\":[\"max_depth\",\"num_leaves\",\"max_bin\",\"n_estimators\",\"learning_rate\"],\"type\":\"bar\"}],                        {\"showlegend\":false,\"title\":{\"text\":\"Hyperparameter Importances\"},\"xaxis\":{\"title\":{\"text\":\"Importance for Objective Value\"}},\"yaxis\":{\"title\":{\"text\":\"Hyperparameter\"}},\"template\":{\"data\":{\"bar\":[{\"error_x\":{\"color\":\"#2a3f5f\"},\"error_y\":{\"color\":\"#2a3f5f\"},\"marker\":{\"line\":{\"color\":\"#E5ECF6\",\"width\":0.5},\"pattern\":{\"fillmode\":\"overlay\",\"size\":10,\"solidity\":0.2}},\"type\":\"bar\"}],\"barpolar\":[{\"marker\":{\"line\":{\"color\":\"#E5ECF6\",\"width\":0.5},\"pattern\":{\"fillmode\":\"overlay\",\"size\":10,\"solidity\":0.2}},\"type\":\"barpolar\"}],\"carpet\":[{\"aaxis\":{\"endlinecolor\":\"#2a3f5f\",\"gridcolor\":\"white\",\"linecolor\":\"white\",\"minorgridcolor\":\"white\",\"startlinecolor\":\"#2a3f5f\"},\"baxis\":{\"endlinecolor\":\"#2a3f5f\",\"gridcolor\":\"white\",\"linecolor\":\"white\",\"minorgridcolor\":\"white\",\"startlinecolor\":\"#2a3f5f\"},\"type\":\"carpet\"}],\"choropleth\":[{\"colorbar\":{\"outlinewidth\":0,\"ticks\":\"\"},\"type\":\"choropleth\"}],\"contour\":[{\"colorbar\":{\"outlinewidth\":0,\"ticks\":\"\"},\"colorscale\":[[0.0,\"#0d0887\"],[0.1111111111111111,\"#46039f\"],[0.2222222222222222,\"#7201a8\"],[0.3333333333333333,\"#9c179e\"],[0.4444444444444444,\"#bd3786\"],[0.5555555555555556,\"#d8576b\"],[0.6666666666666666,\"#ed7953\"],[0.7777777777777778,\"#fb9f3a\"],[0.8888888888888888,\"#fdca26\"],[1.0,\"#f0f921\"]],\"type\":\"contour\"}],\"contourcarpet\":[{\"colorbar\":{\"outlinewidth\":0,\"ticks\":\"\"},\"type\":\"contourcarpet\"}],\"heatmap\":[{\"colorbar\":{\"outlinewidth\":0,\"ticks\":\"\"},\"colorscale\":[[0.0,\"#0d0887\"],[0.1111111111111111,\"#46039f\"],[0.2222222222222222,\"#7201a8\"],[0.3333333333333333,\"#9c179e\"],[0.4444444444444444,\"#bd3786\"],[0.5555555555555556,\"#d8576b\"],[0.6666666666666666,\"#ed7953\"],[0.7777777777777778,\"#fb9f3a\"],[0.8888888888888888,\"#fdca26\"],[1.0,\"#f0f921\"]],\"type\":\"heatmap\"}],\"heatmapgl\":[{\"colorbar\":{\"outlinewidth\":0,\"ticks\":\"\"},\"colorscale\":[[0.0,\"#0d0887\"],[0.1111111111111111,\"#46039f\"],[0.2222222222222222,\"#7201a8\"],[0.3333333333333333,\"#9c179e\"],[0.4444444444444444,\"#bd3786\"],[0.5555555555555556,\"#d8576b\"],[0.6666666666666666,\"#ed7953\"],[0.7777777777777778,\"#fb9f3a\"],[0.8888888888888888,\"#fdca26\"],[1.0,\"#f0f921\"]],\"type\":\"heatmapgl\"}],\"histogram\":[{\"marker\":{\"pattern\":{\"fillmode\":\"overlay\",\"size\":10,\"solidity\":0.2}},\"type\":\"histogram\"}],\"histogram2d\":[{\"colorbar\":{\"outlinewidth\":0,\"ticks\":\"\"},\"colorscale\":[[0.0,\"#0d0887\"],[0.1111111111111111,\"#46039f\"],[0.2222222222222222,\"#7201a8\"],[0.3333333333333333,\"#9c179e\"],[0.4444444444444444,\"#bd3786\"],[0.5555555555555556,\"#d8576b\"],[0.6666666666666666,\"#ed7953\"],[0.7777777777777778,\"#fb9f3a\"],[0.8888888888888888,\"#fdca26\"],[1.0,\"#f0f921\"]],\"type\":\"histogram2d\"}],\"histogram2dcontour\":[{\"colorbar\":{\"outlinewidth\":0,\"ticks\":\"\"},\"colorscale\":[[0.0,\"#0d0887\"],[0.1111111111111111,\"#46039f\"],[0.2222222222222222,\"#7201a8\"],[0.3333333333333333,\"#9c179e\"],[0.4444444444444444,\"#bd3786\"],[0.5555555555555556,\"#d8576b\"],[0.6666666666666666,\"#ed7953\"],[0.7777777777777778,\"#fb9f3a\"],[0.8888888888888888,\"#fdca26\"],[1.0,\"#f0f921\"]],\"type\":\"histogram2dcontour\"}],\"mesh3d\":[{\"colorbar\":{\"outlinewidth\":0,\"ticks\":\"\"},\"type\":\"mesh3d\"}],\"parcoords\":[{\"line\":{\"colorbar\":{\"outlinewidth\":0,\"ticks\":\"\"}},\"type\":\"parcoords\"}],\"pie\":[{\"automargin\":true,\"type\":\"pie\"}],\"scatter\":[{\"marker\":{\"colorbar\":{\"outlinewidth\":0,\"ticks\":\"\"}},\"type\":\"scatter\"}],\"scatter3d\":[{\"line\":{\"colorbar\":{\"outlinewidth\":0,\"ticks\":\"\"}},\"marker\":{\"colorbar\":{\"outlinewidth\":0,\"ticks\":\"\"}},\"type\":\"scatter3d\"}],\"scattercarpet\":[{\"marker\":{\"colorbar\":{\"outlinewidth\":0,\"ticks\":\"\"}},\"type\":\"scattercarpet\"}],\"scattergeo\":[{\"marker\":{\"colorbar\":{\"outlinewidth\":0,\"ticks\":\"\"}},\"type\":\"scattergeo\"}],\"scattergl\":[{\"marker\":{\"colorbar\":{\"outlinewidth\":0,\"ticks\":\"\"}},\"type\":\"scattergl\"}],\"scattermapbox\":[{\"marker\":{\"colorbar\":{\"outlinewidth\":0,\"ticks\":\"\"}},\"type\":\"scattermapbox\"}],\"scatterpolar\":[{\"marker\":{\"colorbar\":{\"outlinewidth\":0,\"ticks\":\"\"}},\"type\":\"scatterpolar\"}],\"scatterpolargl\":[{\"marker\":{\"colorbar\":{\"outlinewidth\":0,\"ticks\":\"\"}},\"type\":\"scatterpolargl\"}],\"scatterternary\":[{\"marker\":{\"colorbar\":{\"outlinewidth\":0,\"ticks\":\"\"}},\"type\":\"scatterternary\"}],\"surface\":[{\"colorbar\":{\"outlinewidth\":0,\"ticks\":\"\"},\"colorscale\":[[0.0,\"#0d0887\"],[0.1111111111111111,\"#46039f\"],[0.2222222222222222,\"#7201a8\"],[0.3333333333333333,\"#9c179e\"],[0.4444444444444444,\"#bd3786\"],[0.5555555555555556,\"#d8576b\"],[0.6666666666666666,\"#ed7953\"],[0.7777777777777778,\"#fb9f3a\"],[0.8888888888888888,\"#fdca26\"],[1.0,\"#f0f921\"]],\"type\":\"surface\"}],\"table\":[{\"cells\":{\"fill\":{\"color\":\"#EBF0F8\"},\"line\":{\"color\":\"white\"}},\"header\":{\"fill\":{\"color\":\"#C8D4E3\"},\"line\":{\"color\":\"white\"}},\"type\":\"table\"}]},\"layout\":{\"annotationdefaults\":{\"arrowcolor\":\"#2a3f5f\",\"arrowhead\":0,\"arrowwidth\":1},\"autotypenumbers\":\"strict\",\"coloraxis\":{\"colorbar\":{\"outlinewidth\":0,\"ticks\":\"\"}},\"colorscale\":{\"diverging\":[[0,\"#8e0152\"],[0.1,\"#c51b7d\"],[0.2,\"#de77ae\"],[0.3,\"#f1b6da\"],[0.4,\"#fde0ef\"],[0.5,\"#f7f7f7\"],[0.6,\"#e6f5d0\"],[0.7,\"#b8e186\"],[0.8,\"#7fbc41\"],[0.9,\"#4d9221\"],[1,\"#276419\"]],\"sequential\":[[0.0,\"#0d0887\"],[0.1111111111111111,\"#46039f\"],[0.2222222222222222,\"#7201a8\"],[0.3333333333333333,\"#9c179e\"],[0.4444444444444444,\"#bd3786\"],[0.5555555555555556,\"#d8576b\"],[0.6666666666666666,\"#ed7953\"],[0.7777777777777778,\"#fb9f3a\"],[0.8888888888888888,\"#fdca26\"],[1.0,\"#f0f921\"]],\"sequentialminus\":[[0.0,\"#0d0887\"],[0.1111111111111111,\"#46039f\"],[0.2222222222222222,\"#7201a8\"],[0.3333333333333333,\"#9c179e\"],[0.4444444444444444,\"#bd3786\"],[0.5555555555555556,\"#d8576b\"],[0.6666666666666666,\"#ed7953\"],[0.7777777777777778,\"#fb9f3a\"],[0.8888888888888888,\"#fdca26\"],[1.0,\"#f0f921\"]]},\"colorway\":[\"#636efa\",\"#EF553B\",\"#00cc96\",\"#ab63fa\",\"#FFA15A\",\"#19d3f3\",\"#FF6692\",\"#B6E880\",\"#FF97FF\",\"#FECB52\"],\"font\":{\"color\":\"#2a3f5f\"},\"geo\":{\"bgcolor\":\"white\",\"lakecolor\":\"white\",\"landcolor\":\"#E5ECF6\",\"showlakes\":true,\"showland\":true,\"subunitcolor\":\"white\"},\"hoverlabel\":{\"align\":\"left\"},\"hovermode\":\"closest\",\"mapbox\":{\"style\":\"light\"},\"paper_bgcolor\":\"white\",\"plot_bgcolor\":\"#E5ECF6\",\"polar\":{\"angularaxis\":{\"gridcolor\":\"white\",\"linecolor\":\"white\",\"ticks\":\"\"},\"bgcolor\":\"#E5ECF6\",\"radialaxis\":{\"gridcolor\":\"white\",\"linecolor\":\"white\",\"ticks\":\"\"}},\"scene\":{\"xaxis\":{\"backgroundcolor\":\"#E5ECF6\",\"gridcolor\":\"white\",\"gridwidth\":2,\"linecolor\":\"white\",\"showbackground\":true,\"ticks\":\"\",\"zerolinecolor\":\"white\"},\"yaxis\":{\"backgroundcolor\":\"#E5ECF6\",\"gridcolor\":\"white\",\"gridwidth\":2,\"linecolor\":\"white\",\"showbackground\":true,\"ticks\":\"\",\"zerolinecolor\":\"white\"},\"zaxis\":{\"backgroundcolor\":\"#E5ECF6\",\"gridcolor\":\"white\",\"gridwidth\":2,\"linecolor\":\"white\",\"showbackground\":true,\"ticks\":\"\",\"zerolinecolor\":\"white\"}},\"shapedefaults\":{\"line\":{\"color\":\"#2a3f5f\"}},\"ternary\":{\"aaxis\":{\"gridcolor\":\"white\",\"linecolor\":\"white\",\"ticks\":\"\"},\"baxis\":{\"gridcolor\":\"white\",\"linecolor\":\"white\",\"ticks\":\"\"},\"bgcolor\":\"#E5ECF6\",\"caxis\":{\"gridcolor\":\"white\",\"linecolor\":\"white\",\"ticks\":\"\"}},\"title\":{\"x\":0.05},\"xaxis\":{\"automargin\":true,\"gridcolor\":\"white\",\"linecolor\":\"white\",\"ticks\":\"\",\"title\":{\"standoff\":15},\"zerolinecolor\":\"white\",\"zerolinewidth\":2},\"yaxis\":{\"automargin\":true,\"gridcolor\":\"white\",\"linecolor\":\"white\",\"ticks\":\"\",\"title\":{\"standoff\":15},\"zerolinecolor\":\"white\",\"zerolinewidth\":2}}}},                        {\"responsive\": true}                    ).then(function(){\n",
              "                            \n",
              "var gd = document.getElementById('0cd9e4ee-5929-491c-ac46-86d521b8cc15');\n",
              "var x = new MutationObserver(function (mutations, observer) {{\n",
              "        var display = window.getComputedStyle(gd).display;\n",
              "        if (!display || display === 'none') {{\n",
              "            console.log([gd, 'removed!']);\n",
              "            Plotly.purge(gd);\n",
              "            observer.disconnect();\n",
              "        }}\n",
              "}});\n",
              "\n",
              "// Listen for the removal of the full notebook cells\n",
              "var notebookContainer = gd.closest('#notebook-container');\n",
              "if (notebookContainer) {{\n",
              "    x.observe(notebookContainer, {childList: true});\n",
              "}}\n",
              "\n",
              "// Listen for the clearing of the current output cell\n",
              "var outputEl = gd.closest('.output');\n",
              "if (outputEl) {{\n",
              "    x.observe(outputEl, {childList: true});\n",
              "}}\n",
              "\n",
              "                        })                };                            </script>        </div>\n",
              "</body>\n",
              "</html>"
            ]
          },
          "metadata": {},
          "output_type": "display_data"
        }
      ],
      "source": [
        "# Visualize parameter importances.\n",
        "optuna.visualization.plot_param_importances(lightgbm_study)"
      ]
    },
    {
      "cell_type": "markdown",
      "metadata": {
        "id": "hf_P9PORSizW"
      },
      "source": [
        "# 8. Compare models after optimization"
      ]
    },
    {
      "cell_type": "code",
      "execution_count": 75,
      "metadata": {
        "colab": {
          "base_uri": "https://localhost:8080/",
          "height": 362
        },
        "id": "ptaVGP6zDY8p",
        "outputId": "5c17ef2a-a706-47d0-e052-fd99395a3829"
      },
      "outputs": [
        {
          "data": {
            "image/png": "[encoded data removed]",
            "text/plain": [
              "<Figure size 432x288 with 1 Axes>"
            ]
          },
          "metadata": {
            "needs_background": "light"
          },
          "output_type": "display_data"
        }
      ],
      "source": [
        "# Group before and after optimization model performances\n",
        "model_groups = [xgboost_avg_logloss, xgboost_trial.value, # xgboost\n",
        "                catboost_avg_logloss, catboost_trial.value, #catboost\n",
        "                lightgbm_avg_logloss, lightgbm_trial.value # lightgbm\n",
        "                ]\n",
        "\n",
        "# Corresponding labels\n",
        "group_labels = ['xgboost baseline', 'xgboost optimized', 'catboost baseline', 'catboost optimized', 'lightgbm baseline', 'lightgbm optimized']\n",
        "\n",
        "# Set positions for each bar on x-axis (grouping)\n",
        "x_pos = [0,1,4,5,8,9]\n",
        "\n",
        "# Create bars with fitting colors\n",
        "plt.bar(x_pos, model_groups, color=['blue', 'blue', 'green', 'green', 'black', 'black'])\n",
        " \n",
        "# Create names on the x-axis\n",
        "plt.xticks(x_pos, group_labels)\n",
        "plt.xticks(rotation=45, ha=\"right\")\n",
        "\n",
        "# Labeling\n",
        "plt.title(\"Model performances\")\n",
        "plt.xlabel('model_name')\n",
        "plt.ylabel('log_loss')\n",
        " \n",
        "# Show graphic\n",
        "plt.show()"
      ]
    },
    {
      "cell_type": "markdown",
      "metadata": {
        "id": "gcTYIxebTtiK"
      },
      "source": [
        "# 9. Training the models on all of the data"
      ]
    },
    {
      "cell_type": "code",
      "execution_count": 76,
      "metadata": {
        "id": "eUkkIvfiEFc9"
      },
      "outputs": [],
      "source": [
        "# Merge both preprocessed feature dataframes\n",
        "all_features = pd.concat([train_features, val_features])\n",
        "\n",
        "# Merge both label dataframes\n",
        "all_labels = pd.concat([train_labels, val_labels])"
      ]
    },
    {
      "cell_type": "code",
      "execution_count": 77,
      "metadata": {
        "id": "qR8S8WmATvZl"
      },
      "outputs": [],
      "source": [
        "# Initialize dict to hold fitted models\n",
        "def create_fitted_model_dict(model_name, model_params, labels, features):\n",
        "    fitted_logreg_dict = {}\n",
        "\n",
        "    # Split into binary classifier for each class\n",
        "    for col in labels.columns:\n",
        "        y_train_col = labels[col]  # Train on one class at a time\n",
        "\n",
        "        if model_name == 'xgboost':\n",
        "            model = XGBClassifier(**model_params)\n",
        "        elif model_name == 'catboost':\n",
        "            model = CatBoostClassifier(**model_params)\n",
        "        elif model_name == 'lightgbm':\n",
        "            model = LGBMClassifier(**model_params)\n",
        "        else:\n",
        "            raise Exception('Unknown model name!')\n",
        "        \n",
        "        fitted_logreg_dict[col] = model.fit(features.values, y_train_col)  # Train\n",
        "\n",
        "    return fitted_logreg_dict"
      ]
    },
    {
      "cell_type": "code",
      "execution_count": 78,
      "metadata": {
        "id": "0VSVr7PcVFNh"
      },
      "outputs": [],
      "source": [
        "xgboost_model_params = {\n",
        "    'tree_method':'gpu_hist',\n",
        "    'objective':'binary:logistic',\n",
        "    'gpu_id':0,\n",
        "    'seed':RANDOM_SEED,\n",
        "    }\n",
        "    \n",
        "# Add params acquired by optuna optimization\n",
        "xgboost_model_params.update(xgboost_trial.params)\n",
        "\n",
        "fitted_xgboost_dict = create_fitted_model_dict('xgboost', xgboost_model_params, all_labels, all_features)"
      ]
    },
    {
      "cell_type": "code",
      "execution_count": 79,
      "metadata": {
        "colab": {
          "base_uri": "https://localhost:8080/"
        },
        "id": "PiwzBBOHVcjz",
        "outputId": "d6b0bce5-c32c-4672-d2f4-b6d5b1b6d859"
      },
      "outputs": [
        {
          "name": "stderr",
          "output_type": "stream",
          "text": [
            "Warning: less than 75% gpu memory available for training. Free: 10075.75 Total: 16280.875\n",
            "Warning: less than 75% gpu memory available for training. Free: 10075.75 Total: 16280.875\n",
            "Warning: less than 75% gpu memory available for training. Free: 10075.75 Total: 16280.875\n",
            "Warning: less than 75% gpu memory available for training. Free: 10075.75 Total: 16280.875\n",
            "Warning: less than 75% gpu memory available for training. Free: 10075.75 Total: 16280.875\n",
            "Warning: less than 75% gpu memory available for training. Free: 10075.75 Total: 16280.875\n",
            "Warning: less than 75% gpu memory available for training. Free: 10075.75 Total: 16280.875\n",
            "Warning: less than 75% gpu memory available for training. Free: 10075.75 Total: 16280.875\n",
            "Warning: less than 75% gpu memory available for training. Free: 10075.75 Total: 16280.875\n",
            "Warning: less than 75% gpu memory available for training. Free: 10075.75 Total: 16280.875\n"
          ]
        }
      ],
      "source": [
        "catboost_model_params = {\n",
        "    'task_type':'GPU',\n",
        "    'random_seed':RANDOM_SEED,\n",
        "    'silent':True,\n",
        "    }\n",
        "\n",
        "# Add params acquired by optuna optimization\n",
        "catboost_model_params.update(catboost_trial.params)\n",
        "\n",
        "fitted_catboost_dict = create_fitted_model_dict('catboost', catboost_model_params, all_labels, all_features)"
      ]
    },
    {
      "cell_type": "code",
      "execution_count": 80,
      "metadata": {
        "id": "n-h0cQR4EyWJ"
      },
      "outputs": [],
      "source": [
        "lightgbm_model_params = {\n",
        "    'objective':'binary',\n",
        "    'device_type':'gpu',\n",
        "    'random_seed':RANDOM_SEED,\n",
        "    'verbose':-1\n",
        "    }\n",
        "\n",
        "# Add params acquired by optuna optimization\n",
        "lightgbm_model_params.update(lightgbm_trial.params)\n",
        "\n",
        "fitted_lightgbm_dict = create_fitted_model_dict('lightgbm', lightgbm_model_params, all_labels, all_features)"
      ]
    },
    {
      "cell_type": "markdown",
      "metadata": {
        "id": "0Ct9mSGDEByu"
      },
      "source": [
        "# 10. Preparing a submission"
      ]
    },
    {
      "cell_type": "code",
      "execution_count": 81,
      "metadata": {
        "id": "VmptQFkZEIqS"
      },
      "outputs": [],
      "source": [
        "def predict_for_sample(sample_id, fitted_model_dict, files, compounds_order):\n",
        "\n",
        "    # Import sample\n",
        "    temp_sample = pd.read_csv(DATA_PATH / files[sample_id])\n",
        "\n",
        "    # Preprocess sample\n",
        "    temp_sample = preprocess_sample(temp_sample)\n",
        "\n",
        "    # Feature engineering on sample\n",
        "    temp_sample = abun_per_tempbin(temp_sample)\n",
        "\n",
        "    # Generate predictions for each class\n",
        "    temp_sample_preds_dict = {}\n",
        "\n",
        "    for compound in compounds_order:\n",
        "        clf = fitted_model_dict[compound]\n",
        "        temp_sample_preds_dict[compound] = clf.predict_proba(temp_sample.values)[:, 1][0]\n",
        "\n",
        "    return temp_sample_preds_dict"
      ]
    },
    {
      "cell_type": "code",
      "execution_count": 82,
      "metadata": {
        "id": "89TFVgaBEGPV"
      },
      "outputs": [],
      "source": [
        "# Import submission format\n",
        "submission_template_df = pd.read_csv(\n",
        "    DATA_PATH / \"submission_format.csv\", index_col=\"sample_id\"\n",
        ")\n",
        "compounds_order = submission_template_df.columns\n",
        "sample_order = submission_template_df.index\n",
        "\n",
        "# Create dict with both validation and test sample IDs and paths\n",
        "all_test_files = test_files.copy()\n",
        "all_test_files.update(val_files)"
      ]
    },
    {
      "cell_type": "markdown",
      "metadata": {
        "id": "hKHw-AXgF52Q"
      },
      "source": [
        "## Inference on each model"
      ]
    },
    {
      "cell_type": "code",
      "execution_count": 83,
      "metadata": {
        "colab": {
          "base_uri": "https://localhost:8080/",
          "height": 49,
          "referenced_widgets": [
            "f69ee1ff7c8a4ccf9a4b828b06cddefc",
            "52b2c31c39024479b61891f810c63953",
            "bace33a2e1e94e46b147561e51440899",
            "096a8a7e3e894fdd93a545ed60201e3e",
            "83e7a7f74a644d0a81a0e4ae61c95475",
            "4fc5af050f2245e0a0a57a4f0c6bbd7f",
            "0afae99fafcc49c8a318aeccd453570d",
            "ca15d12cde804976a76f2013468740a8",
            "0835a02905014bd0b1bf4975ef85ecae",
            "59d7e5e6471a426eaa0b7a8824127e0e",
            "4c4eeb3d09a549e7a83ff09d39925614"
          ]
        },
        "id": "ZfFg5yGMVMa7",
        "outputId": "5f3f2b62-8c95-4cc8-ad44-28f805476b07"
      },
      "outputs": [
        {
          "data": {
            "application/vnd.jupyter.widget-view+json": {
              "model_id": "f69ee1ff7c8a4ccf9a4b828b06cddefc",
              "version_major": 2,
              "version_minor": 0
            },
            "text/plain": [
              "  0%|          | 0/804 [00:00<?, ?it/s]"
            ]
          },
          "metadata": {},
          "output_type": "display_data"
        }
      ],
      "source": [
        "# XGBoost predictions\n",
        "xgboost_submission_df = pd.DataFrame(\n",
        "    [\n",
        "        predict_for_sample(sample_id, fitted_xgboost_dict, all_test_files, compounds_order)\n",
        "        for sample_id in tqdm(sample_order)\n",
        "    ],\n",
        "    index=sample_order,\n",
        ")"
      ]
    },
    {
      "cell_type": "code",
      "execution_count": 84,
      "metadata": {
        "colab": {
          "base_uri": "https://localhost:8080/",
          "height": 49,
          "referenced_widgets": [
            "e896b60e93b84045b9f968b599ea2b9c",
            "25e12f9c0d4b4fa7bc0582b157c0534f",
            "85877d0b57654cc997bf3b0de157ce2c",
            "33472ae7e48e42e1a94db93c497ffe97",
            "c8458d926eb8432fa4cdd3a1566d7518",
            "f38a7f893f6e4db68348a7a9334bd872",
            "93455f6549a4402fb440713750932fef",
            "a470af39f60843dab4e57d2953db899d",
            "ce617f64add64ade913747a77f264f6a",
            "fd7620b77b9d4227a21fa5d47d327e4d",
            "10597454bd3a4c58860fdcaa4fb618e7"
          ]
        },
        "id": "BS9TiR0WEKAx",
        "outputId": "4aac7a08-3bf1-4d32-9c28-bdbd7b5fe8db"
      },
      "outputs": [
        {
          "data": {
            "application/vnd.jupyter.widget-view+json": {
              "model_id": "e896b60e93b84045b9f968b599ea2b9c",
              "version_major": 2,
              "version_minor": 0
            },
            "text/plain": [
              "  0%|          | 0/804 [00:00<?, ?it/s]"
            ]
          },
          "metadata": {},
          "output_type": "display_data"
        }
      ],
      "source": [
        "# CatBoost predictions\n",
        "catboost_submission_df = pd.DataFrame(\n",
        "    [\n",
        "        predict_for_sample(sample_id, fitted_catboost_dict, all_test_files, compounds_order)\n",
        "        for sample_id in tqdm(sample_order)\n",
        "    ],\n",
        "    index=sample_order,\n",
        ")"
      ]
    },
    {
      "cell_type": "code",
      "execution_count": 85,
      "metadata": {
        "colab": {
          "base_uri": "https://localhost:8080/",
          "height": 49,
          "referenced_widgets": [
            "8e5a3e9fd287438da3af7ed8f47a4269",
            "6c44298cb38f44ad91e356af47225b88",
            "e005b353ed6b4845ab7644998f7f6809",
            "77bef106f21246498041b61ba72b8a14",
            "d7bbc5578d2049c5a967f40f847e0b5d",
            "e431bca0354d4c0b948d17628e09c95d",
            "cc70f9aca42f4f81b8abf9a8bc15d164",
            "1bf3e1cf6bc342c5bfc9c45ee8fe96cd",
            "abd14469c5d44750a0366a6ee64f2193",
            "670ea2fc34274f74a83e28e1015609b3",
            "a3d57991c59843dcbbfcdeabde832b62"
          ]
        },
        "id": "efr1wlYo4xqd",
        "outputId": "4e6a8b87-95a5-4fdf-822f-0542931805ce"
      },
      "outputs": [
        {
          "data": {
            "application/vnd.jupyter.widget-view+json": {
              "model_id": "8e5a3e9fd287438da3af7ed8f47a4269",
              "version_major": 2,
              "version_minor": 0
            },
            "text/plain": [
              "  0%|          | 0/804 [00:00<?, ?it/s]"
            ]
          },
          "metadata": {},
          "output_type": "display_data"
        }
      ],
      "source": [
        "# LightGBM predictions\n",
        "lightgbm_submission_df = pd.DataFrame(\n",
        "    [\n",
        "        predict_for_sample(sample_id, fitted_lightgbm_dict, all_test_files, compounds_order)\n",
        "        for sample_id in tqdm(sample_order)\n",
        "    ],\n",
        "    index=sample_order,\n",
        ")"
      ]
    },
    {
      "cell_type": "markdown",
      "metadata": {
        "id": "aktH_v7IF_12"
      },
      "source": [
        "## Stack predictions & take average"
      ]
    },
    {
      "cell_type": "code",
      "execution_count": 86,
      "metadata": {
        "colab": {
          "base_uri": "https://localhost:8080/",
          "height": 238
        },
        "id": "eTBk9Q-MVTNw",
        "outputId": "bc6019e5-a6c8-4102-fbd9-d82ac5527eec"
      },
      "outputs": [
        {
          "data": {
            "text/html": [
              "\n",
              "  <div id=\"df-ce65c2f1-ce8c-4a7a-90c8-f81db68e5b0b\">\n",
              "    <div class=\"colab-df-container\">\n",
              "      <div>\n",
              "<style scoped>\n",
              "    .dataframe tbody tr th:only-of-type {\n",
              "        vertical-align: middle;\n",
              "    }\n",
              "\n",
              "    .dataframe tbody tr th {\n",
              "        vertical-align: top;\n",
              "    }\n",
              "\n",
              "    .dataframe thead th {\n",
              "        text-align: right;\n",
              "    }\n",
              "</style>\n",
              "<table border=\"1\" class=\"dataframe\">\n",
              "  <thead>\n",
              "    <tr style=\"text-align: right;\">\n",
              "      <th></th>\n",
              "      <th>basalt</th>\n",
              "      <th>carbonate</th>\n",
              "      <th>chloride</th>\n",
              "      <th>iron_oxide</th>\n",
              "      <th>oxalate</th>\n",
              "      <th>oxychlorine</th>\n",
              "      <th>phyllosilicate</th>\n",
              "      <th>silicate</th>\n",
              "      <th>sulfate</th>\n",
              "      <th>sulfide</th>\n",
              "    </tr>\n",
              "    <tr>\n",
              "      <th>sample_id</th>\n",
              "      <th></th>\n",
              "      <th></th>\n",
              "      <th></th>\n",
              "      <th></th>\n",
              "      <th></th>\n",
              "      <th></th>\n",
              "      <th></th>\n",
              "      <th></th>\n",
              "      <th></th>\n",
              "      <th></th>\n",
              "    </tr>\n",
              "  </thead>\n",
              "  <tbody>\n",
              "    <tr>\n",
              "      <th>S0766</th>\n",
              "      <td>0.002441</td>\n",
              "      <td>0.001332</td>\n",
              "      <td>0.010178</td>\n",
              "      <td>0.010396</td>\n",
              "      <td>0.000211</td>\n",
              "      <td>0.007367</td>\n",
              "      <td>0.015185</td>\n",
              "      <td>0.103990</td>\n",
              "      <td>0.002720</td>\n",
              "      <td>0.000571</td>\n",
              "    </tr>\n",
              "    <tr>\n",
              "      <th>S0767</th>\n",
              "      <td>0.021792</td>\n",
              "      <td>0.017664</td>\n",
              "      <td>0.001783</td>\n",
              "      <td>0.022095</td>\n",
              "      <td>0.000134</td>\n",
              "      <td>0.005550</td>\n",
              "      <td>0.032132</td>\n",
              "      <td>0.075339</td>\n",
              "      <td>0.011882</td>\n",
              "      <td>0.000371</td>\n",
              "    </tr>\n",
              "    <tr>\n",
              "      <th>S0768</th>\n",
              "      <td>0.890998</td>\n",
              "      <td>0.072644</td>\n",
              "      <td>0.002076</td>\n",
              "      <td>0.047650</td>\n",
              "      <td>0.000311</td>\n",
              "      <td>0.018337</td>\n",
              "      <td>0.722315</td>\n",
              "      <td>0.895352</td>\n",
              "      <td>0.055063</td>\n",
              "      <td>0.000242</td>\n",
              "    </tr>\n",
              "    <tr>\n",
              "      <th>S0769</th>\n",
              "      <td>0.008833</td>\n",
              "      <td>0.001750</td>\n",
              "      <td>0.047314</td>\n",
              "      <td>0.037409</td>\n",
              "      <td>0.000156</td>\n",
              "      <td>0.945314</td>\n",
              "      <td>0.016984</td>\n",
              "      <td>0.003225</td>\n",
              "      <td>0.912814</td>\n",
              "      <td>0.000631</td>\n",
              "    </tr>\n",
              "    <tr>\n",
              "      <th>S0770</th>\n",
              "      <td>0.003607</td>\n",
              "      <td>0.001922</td>\n",
              "      <td>0.008824</td>\n",
              "      <td>0.745228</td>\n",
              "      <td>0.000339</td>\n",
              "      <td>0.978265</td>\n",
              "      <td>0.938980</td>\n",
              "      <td>0.001836</td>\n",
              "      <td>0.003916</td>\n",
              "      <td>0.000135</td>\n",
              "    </tr>\n",
              "  </tbody>\n",
              "</table>\n",
              "</div>\n",
              "      <button class=\"colab-df-convert\" onclick=\"convertToInteractive('df-ce65c2f1-ce8c-4a7a-90c8-f81db68e5b0b')\"\n",
              "              title=\"Convert this dataframe to an interactive table.\"\n",
              "              style=\"display:none;\">\n",
              "        \n",
              "  <svg xmlns=\"http://www.w3.org/2000/svg\" height=\"24px\"viewBox=\"0 0 24 24\"\n",
              "       width=\"24px\">\n",
              "    <path d=\"M0 0h24v24H0V0z\" fill=\"none\"/>\n",
              "    <path d=\"M18.56 5.44l.94 2.06.94-2.06 2.06-.94-2.06-.94-.94-2.06-.94 2.06-2.06.94zm-11 1L8.5 8.5l.94-2.06 2.06-.94-2.06-.94L8.5 2.5l-.94 2.06-2.06.94zm10 10l.94 2.06.94-2.06 2.06-.94-2.06-.94-.94-2.06-.94 2.06-2.06.94z\"/><path d=\"M17.41 7.96l-1.37-1.37c-.4-.4-.92-.59-1.43-.59-.52 0-1.04.2-1.43.59L10.3 9.45l-7.72 7.72c-.78.78-.78 2.05 0 2.83L4 21.41c.39.39.9.59 1.41.59.51 0 1.02-.2 1.41-.59l7.78-7.78 2.81-2.81c.8-.78.8-2.07 0-2.86zM5.41 20L4 18.59l7.72-7.72 1.47 1.35L5.41 20z\"/>\n",
              "  </svg>\n",
              "      </button>\n",
              "      \n",
              "  <style>\n",
              "    .colab-df-container {\n",
              "      display:flex;\n",
              "      flex-wrap:wrap;\n",
              "      gap: 12px;\n",
              "    }\n",
              "\n",
              "    .colab-df-convert {\n",
              "      background-color: #E8F0FE;\n",
              "      border: none;\n",
              "      border-radius: 50%;\n",
              "      cursor: pointer;\n",
              "      display: none;\n",
              "      fill: #1967D2;\n",
              "      height: 32px;\n",
              "      padding: 0 0 0 0;\n",
              "      width: 32px;\n",
              "    }\n",
              "\n",
              "    .colab-df-convert:hover {\n",
              "      background-color: #E2EBFA;\n",
              "      box-shadow: 0px 1px 2px rgba(60, 64, 67, 0.3), 0px 1px 3px 1px rgba(60, 64, 67, 0.15);\n",
              "      fill: #174EA6;\n",
              "    }\n",
              "\n",
              "    [theme=dark] .colab-df-convert {\n",
              "      background-color: #3B4455;\n",
              "      fill: #D2E3FC;\n",
              "    }\n",
              "\n",
              "    [theme=dark] .colab-df-convert:hover {\n",
              "      background-color: #434B5C;\n",
              "      box-shadow: 0px 1px 3px 1px rgba(0, 0, 0, 0.15);\n",
              "      filter: drop-shadow(0px 1px 2px rgba(0, 0, 0, 0.3));\n",
              "      fill: #FFFFFF;\n",
              "    }\n",
              "  </style>\n",
              "\n",
              "      <script>\n",
              "        const buttonEl =\n",
              "          document.querySelector('#df-ce65c2f1-ce8c-4a7a-90c8-f81db68e5b0b button.colab-df-convert');\n",
              "        buttonEl.style.display =\n",
              "          google.colab.kernel.accessAllowed ? 'block' : 'none';\n",
              "\n",
              "        async function convertToInteractive(key) {\n",
              "          const element = document.querySelector('#df-ce65c2f1-ce8c-4a7a-90c8-f81db68e5b0b');\n",
              "          const dataTable =\n",
              "            await google.colab.kernel.invokeFunction('convertToInteractive',\n",
              "                                                     [key], {});\n",
              "          if (!dataTable) return;\n",
              "\n",
              "          const docLinkHtml = 'Like what you see? Visit the ' +\n",
              "            '<a target=\"_blank\" href=https://colab.research.google.com/notebooks/data_table.ipynb>data table notebook</a>'\n",
              "            + ' to learn more about interactive tables.';\n",
              "          element.innerHTML = '';\n",
              "          dataTable['output_type'] = 'display_data';\n",
              "          await google.colab.output.renderOutput(dataTable, element);\n",
              "          const docLink = document.createElement('div');\n",
              "          docLink.innerHTML = docLinkHtml;\n",
              "          element.appendChild(docLink);\n",
              "        }\n",
              "      </script>\n",
              "    </div>\n",
              "  </div>\n",
              "  "
            ],
            "text/plain": [
              "             basalt  carbonate  chloride  iron_oxide   oxalate  oxychlorine  \\\n",
              "sample_id                                                                     \n",
              "S0766      0.002441   0.001332  0.010178    0.010396  0.000211     0.007367   \n",
              "S0767      0.021792   0.017664  0.001783    0.022095  0.000134     0.005550   \n",
              "S0768      0.890998   0.072644  0.002076    0.047650  0.000311     0.018337   \n",
              "S0769      0.008833   0.001750  0.047314    0.037409  0.000156     0.945314   \n",
              "S0770      0.003607   0.001922  0.008824    0.745228  0.000339     0.978265   \n",
              "\n",
              "           phyllosilicate  silicate   sulfate   sulfide  \n",
              "sample_id                                                \n",
              "S0766            0.015185  0.103990  0.002720  0.000571  \n",
              "S0767            0.032132  0.075339  0.011882  0.000371  \n",
              "S0768            0.722315  0.895352  0.055063  0.000242  \n",
              "S0769            0.016984  0.003225  0.912814  0.000631  \n",
              "S0770            0.938980  0.001836  0.003916  0.000135  "
            ]
          },
          "execution_count": 86,
          "metadata": {},
          "output_type": "execute_result"
        }
      ],
      "source": [
        "# Stacked prediction and take average of all 3 model preditictions\n",
        "final_submission_df = (xgboost_submission_df+catboost_submission_df+lightgbm_submission_df)/3\n",
        "final_submission_df.head()"
      ]
    },
    {
      "cell_type": "code",
      "execution_count": 87,
      "metadata": {
        "id": "acxvTJz-01Xw"
      },
      "outputs": [],
      "source": [
        "final_submission_df.to_csv('submission_.csv')"
      ]
    }
  ],
  "metadata": {
    "accelerator": "GPU",
    "colab": {
      "collapsed_sections": [
        "pxUpv5xxLM26",
        "y4NhhHisLP_L",
        "02KAwxWdSNUW",
        "3CKqjQr6SdRt",
        "cxvUeMBKSkjY",
        "4CmfDC2YSvi4",
        "XST12ElGS1iI",
        "L5D9FdwgTL5_",
        "0nOAwuXgTaz8",
        "hOWm0SLdTlQj",
        "6WZcINZYQbx2",
        "utjES9mPS0Ge"
      ],
      "name": "mars_spectrometry.ipynb",
      "provenance": [],
      "toc_visible": true
    },
    "kernelspec": {
      "display_name": "Python 3",
      "name": "python3"
    },
    "language_info": {
      "name": "python"
    },
    "widgets": {
      "application/vnd.jupyter.widget-state+json": {
        "0835a02905014bd0b1bf4975ef85ecae": {
          "model_module": "@jupyter-widgets/controls",
          "model_module_version": "1.5.0",
          "model_name": "ProgressStyleModel",
          "state": {
            "_model_module": "@jupyter-widgets/controls",
            "_model_module_version": "1.5.0",
            "_model_name": "ProgressStyleModel",
            "_view_count": null,
            "_view_module": "@jupyter-widgets/base",
            "_view_module_version": "1.2.0",
            "_view_name": "StyleView",
            "bar_color": null,
            "description_width": ""
          }
        },
        "096a8a7e3e894fdd93a545ed60201e3e": {
          "model_module": "@jupyter-widgets/controls",
          "model_module_version": "1.5.0",
          "model_name": "HTMLModel",
          "state": {
            "_dom_classes": [],
            "_model_module": "@jupyter-widgets/controls",
            "_model_module_version": "1.5.0",
            "_model_name": "HTMLModel",
            "_view_count": null,
            "_view_module": "@jupyter-widgets/controls",
            "_view_module_version": "1.5.0",
            "_view_name": "HTMLView",
            "description": "",
            "description_tooltip": null,
            "layout": "IPY_MODEL_59d7e5e6471a426eaa0b7a8824127e0e",
            "placeholder": "​",
            "style": "IPY_MODEL_4c4eeb3d09a549e7a83ff09d39925614",
            "value": " 804/804 [04:40&lt;00:00,  1.21it/s]"
          }
        },
        "0afae99fafcc49c8a318aeccd453570d": {
          "model_module": "@jupyter-widgets/controls",
          "model_module_version": "1.5.0",
          "model_name": "DescriptionStyleModel",
          "state": {
            "_model_module": "@jupyter-widgets/controls",
            "_model_module_version": "1.5.0",
            "_model_name": "DescriptionStyleModel",
            "_view_count": null,
            "_view_module": "@jupyter-widgets/base",
            "_view_module_version": "1.2.0",
            "_view_name": "StyleView",
            "description_width": ""
          }
        },
        "10597454bd3a4c58860fdcaa4fb618e7": {
          "model_module": "@jupyter-widgets/controls",
          "model_module_version": "1.5.0",
          "model_name": "DescriptionStyleModel",
          "state": {
            "_model_module": "@jupyter-widgets/controls",
            "_model_module_version": "1.5.0",
            "_model_name": "DescriptionStyleModel",
            "_view_count": null,
            "_view_module": "@jupyter-widgets/base",
            "_view_module_version": "1.2.0",
            "_view_name": "StyleView",
            "description_width": ""
          }
        },
        "1bf3e1cf6bc342c5bfc9c45ee8fe96cd": {
          "model_module": "@jupyter-widgets/base",
          "model_module_version": "1.2.0",
          "model_name": "LayoutModel",
          "state": {
            "_model_module": "@jupyter-widgets/base",
            "_model_module_version": "1.2.0",
            "_model_name": "LayoutModel",
            "_view_count": null,
            "_view_module": "@jupyter-widgets/base",
            "_view_module_version": "1.2.0",
            "_view_name": "LayoutView",
            "align_content": null,
            "align_items": null,
            "align_self": null,
            "border": null,
            "bottom": null,
            "display": null,
            "flex": null,
            "flex_flow": null,
            "grid_area": null,
            "grid_auto_columns": null,
            "grid_auto_flow": null,
            "grid_auto_rows": null,
            "grid_column": null,
            "grid_gap": null,
            "grid_row": null,
            "grid_template_areas": null,
            "grid_template_columns": null,
            "grid_template_rows": null,
            "height": null,
            "justify_content": null,
            "justify_items": null,
            "left": null,
            "margin": null,
            "max_height": null,
            "max_width": null,
            "min_height": null,
            "min_width": null,
            "object_fit": null,
            "object_position": null,
            "order": null,
            "overflow": null,
            "overflow_x": null,
            "overflow_y": null,
            "padding": null,
            "right": null,
            "top": null,
            "visibility": null,
            "width": null
          }
        },
        "22d2d0a3ee044435964c21ec184c31b8": {
          "model_module": "@jupyter-widgets/controls",
          "model_module_version": "1.5.0",
          "model_name": "DescriptionStyleModel",
          "state": {
            "_model_module": "@jupyter-widgets/controls",
            "_model_module_version": "1.5.0",
            "_model_name": "DescriptionStyleModel",
            "_view_count": null,
            "_view_module": "@jupyter-widgets/base",
            "_view_module_version": "1.2.0",
            "_view_name": "StyleView",
            "description_width": ""
          }
        },
        "25e12f9c0d4b4fa7bc0582b157c0534f": {
          "model_module": "@jupyter-widgets/controls",
          "model_module_version": "1.5.0",
          "model_name": "HTMLModel",
          "state": {
            "_dom_classes": [],
            "_model_module": "@jupyter-widgets/controls",
            "_model_module_version": "1.5.0",
            "_model_name": "HTMLModel",
            "_view_count": null,
            "_view_module": "@jupyter-widgets/controls",
            "_view_module_version": "1.5.0",
            "_view_name": "HTMLView",
            "description": "",
            "description_tooltip": null,
            "layout": "IPY_MODEL_f38a7f893f6e4db68348a7a9334bd872",
            "placeholder": "​",
            "style": "IPY_MODEL_93455f6549a4402fb440713750932fef",
            "value": "100%"
          }
        },
        "269a9b6202b5475793236b270473e29b": {
          "model_module": "@jupyter-widgets/base",
          "model_module_version": "1.2.0",
          "model_name": "LayoutModel",
          "state": {
            "_model_module": "@jupyter-widgets/base",
            "_model_module_version": "1.2.0",
            "_model_name": "LayoutModel",
            "_view_count": null,
            "_view_module": "@jupyter-widgets/base",
            "_view_module_version": "1.2.0",
            "_view_name": "LayoutView",
            "align_content": null,
            "align_items": null,
            "align_self": null,
            "border": null,
            "bottom": null,
            "display": null,
            "flex": null,
            "flex_flow": null,
            "grid_area": null,
            "grid_auto_columns": null,
            "grid_auto_flow": null,
            "grid_auto_rows": null,
            "grid_column": null,
            "grid_gap": null,
            "grid_row": null,
            "grid_template_areas": null,
            "grid_template_columns": null,
            "grid_template_rows": null,
            "height": null,
            "justify_content": null,
            "justify_items": null,
            "left": null,
            "margin": null,
            "max_height": null,
            "max_width": null,
            "min_height": null,
            "min_width": null,
            "object_fit": null,
            "object_position": null,
            "order": null,
            "overflow": null,
            "overflow_x": null,
            "overflow_y": null,
            "padding": null,
            "right": null,
            "top": null,
            "visibility": null,
            "width": null
          }
        },
        "2c59011ecc00415594670ea73666b29f": {
          "model_module": "@jupyter-widgets/base",
          "model_module_version": "1.2.0",
          "model_name": "LayoutModel",
          "state": {
            "_model_module": "@jupyter-widgets/base",
            "_model_module_version": "1.2.0",
            "_model_name": "LayoutModel",
            "_view_count": null,
            "_view_module": "@jupyter-widgets/base",
            "_view_module_version": "1.2.0",
            "_view_name": "LayoutView",
            "align_content": null,
            "align_items": null,
            "align_self": null,
            "border": null,
            "bottom": null,
            "display": null,
            "flex": null,
            "flex_flow": null,
            "grid_area": null,
            "grid_auto_columns": null,
            "grid_auto_flow": null,
            "grid_auto_rows": null,
            "grid_column": null,
            "grid_gap": null,
            "grid_row": null,
            "grid_template_areas": null,
            "grid_template_columns": null,
            "grid_template_rows": null,
            "height": null,
            "justify_content": null,
            "justify_items": null,
            "left": null,
            "margin": null,
            "max_height": null,
            "max_width": null,
            "min_height": null,
            "min_width": null,
            "object_fit": null,
            "object_position": null,
            "order": null,
            "overflow": null,
            "overflow_x": null,
            "overflow_y": null,
            "padding": null,
            "right": null,
            "top": null,
            "visibility": null,
            "width": null
          }
        },
        "33472ae7e48e42e1a94db93c497ffe97": {
          "model_module": "@jupyter-widgets/controls",
          "model_module_version": "1.5.0",
          "model_name": "HTMLModel",
          "state": {
            "_dom_classes": [],
            "_model_module": "@jupyter-widgets/controls",
            "_model_module_version": "1.5.0",
            "_model_name": "HTMLModel",
            "_view_count": null,
            "_view_module": "@jupyter-widgets/controls",
            "_view_module_version": "1.5.0",
            "_view_name": "HTMLView",
            "description": "",
            "description_tooltip": null,
            "layout": "IPY_MODEL_fd7620b77b9d4227a21fa5d47d327e4d",
            "placeholder": "​",
            "style": "IPY_MODEL_10597454bd3a4c58860fdcaa4fb618e7",
            "value": " 804/804 [04:58&lt;00:00,  1.20it/s]"
          }
        },
        "398efc4a630f47cc9c27707d177d7cc0": {
          "model_module": "@jupyter-widgets/controls",
          "model_module_version": "1.5.0",
          "model_name": "HTMLModel",
          "state": {
            "_dom_classes": [],
            "_model_module": "@jupyter-widgets/controls",
            "_model_module_version": "1.5.0",
            "_model_name": "HTMLModel",
            "_view_count": null,
            "_view_module": "@jupyter-widgets/controls",
            "_view_module_version": "1.5.0",
            "_view_name": "HTMLView",
            "description": "",
            "description_tooltip": null,
            "layout": "IPY_MODEL_269a9b6202b5475793236b270473e29b",
            "placeholder": "​",
            "style": "IPY_MODEL_3e9e7c013ef54979ac103b138f84726c",
            "value": " 766/766 [03:12&lt;00:00,  1.50it/s]"
          }
        },
        "3e9e7c013ef54979ac103b138f84726c": {
          "model_module": "@jupyter-widgets/controls",
          "model_module_version": "1.5.0",
          "model_name": "DescriptionStyleModel",
          "state": {
            "_model_module": "@jupyter-widgets/controls",
            "_model_module_version": "1.5.0",
            "_model_name": "DescriptionStyleModel",
            "_view_count": null,
            "_view_module": "@jupyter-widgets/base",
            "_view_module_version": "1.2.0",
            "_view_name": "StyleView",
            "description_width": ""
          }
        },
        "4c4eeb3d09a549e7a83ff09d39925614": {
          "model_module": "@jupyter-widgets/controls",
          "model_module_version": "1.5.0",
          "model_name": "DescriptionStyleModel",
          "state": {
            "_model_module": "@jupyter-widgets/controls",
            "_model_module_version": "1.5.0",
            "_model_name": "DescriptionStyleModel",
            "_view_count": null,
            "_view_module": "@jupyter-widgets/base",
            "_view_module_version": "1.2.0",
            "_view_name": "StyleView",
            "description_width": ""
          }
        },
        "4cc88f64551a45c2a2aa3c1efc7137b6": {
          "model_module": "@jupyter-widgets/controls",
          "model_module_version": "1.5.0",
          "model_name": "HTMLModel",
          "state": {
            "_dom_classes": [],
            "_model_module": "@jupyter-widgets/controls",
            "_model_module_version": "1.5.0",
            "_model_name": "HTMLModel",
            "_view_count": null,
            "_view_module": "@jupyter-widgets/controls",
            "_view_module_version": "1.5.0",
            "_view_name": "HTMLView",
            "description": "",
            "description_tooltip": null,
            "layout": "IPY_MODEL_2c59011ecc00415594670ea73666b29f",
            "placeholder": "​",
            "style": "IPY_MODEL_a494aa9596dc4d49964656d1e5a0b2c6",
            "value": "100%"
          }
        },
        "4fc5af050f2245e0a0a57a4f0c6bbd7f": {
          "model_module": "@jupyter-widgets/base",
          "model_module_version": "1.2.0",
          "model_name": "LayoutModel",
          "state": {
            "_model_module": "@jupyter-widgets/base",
            "_model_module_version": "1.2.0",
            "_model_name": "LayoutModel",
            "_view_count": null,
            "_view_module": "@jupyter-widgets/base",
            "_view_module_version": "1.2.0",
            "_view_name": "LayoutView",
            "align_content": null,
            "align_items": null,
            "align_self": null,
            "border": null,
            "bottom": null,
            "display": null,
            "flex": null,
            "flex_flow": null,
            "grid_area": null,
            "grid_auto_columns": null,
            "grid_auto_flow": null,
            "grid_auto_rows": null,
            "grid_column": null,
            "grid_gap": null,
            "grid_row": null,
            "grid_template_areas": null,
            "grid_template_columns": null,
            "grid_template_rows": null,
            "height": null,
            "justify_content": null,
            "justify_items": null,
            "left": null,
            "margin": null,
            "max_height": null,
            "max_width": null,
            "min_height": null,
            "min_width": null,
            "object_fit": null,
            "object_position": null,
            "order": null,
            "overflow": null,
            "overflow_x": null,
            "overflow_y": null,
            "padding": null,
            "right": null,
            "top": null,
            "visibility": null,
            "width": null
          }
        },
        "50af3fc5de1646f2b94022d9dc48c83b": {
          "model_module": "@jupyter-widgets/base",
          "model_module_version": "1.2.0",
          "model_name": "LayoutModel",
          "state": {
            "_model_module": "@jupyter-widgets/base",
            "_model_module_version": "1.2.0",
            "_model_name": "LayoutModel",
            "_view_count": null,
            "_view_module": "@jupyter-widgets/base",
            "_view_module_version": "1.2.0",
            "_view_name": "LayoutView",
            "align_content": null,
            "align_items": null,
            "align_self": null,
            "border": null,
            "bottom": null,
            "display": null,
            "flex": null,
            "flex_flow": null,
            "grid_area": null,
            "grid_auto_columns": null,
            "grid_auto_flow": null,
            "grid_auto_rows": null,
            "grid_column": null,
            "grid_gap": null,
            "grid_row": null,
            "grid_template_areas": null,
            "grid_template_columns": null,
            "grid_template_rows": null,
            "height": null,
            "justify_content": null,
            "justify_items": null,
            "left": null,
            "margin": null,
            "max_height": null,
            "max_width": null,
            "min_height": null,
            "min_width": null,
            "object_fit": null,
            "object_position": null,
            "order": null,
            "overflow": null,
            "overflow_x": null,
            "overflow_y": null,
            "padding": null,
            "right": null,
            "top": null,
            "visibility": null,
            "width": null
          }
        },
        "521d30efe29e4049be8dd0c6c12a0d2f": {
          "model_module": "@jupyter-widgets/base",
          "model_module_version": "1.2.0",
          "model_name": "LayoutModel",
          "state": {
            "_model_module": "@jupyter-widgets/base",
            "_model_module_version": "1.2.0",
            "_model_name": "LayoutModel",
            "_view_count": null,
            "_view_module": "@jupyter-widgets/base",
            "_view_module_version": "1.2.0",
            "_view_name": "LayoutView",
            "align_content": null,
            "align_items": null,
            "align_self": null,
            "border": null,
            "bottom": null,
            "display": null,
            "flex": null,
            "flex_flow": null,
            "grid_area": null,
            "grid_auto_columns": null,
            "grid_auto_flow": null,
            "grid_auto_rows": null,
            "grid_column": null,
            "grid_gap": null,
            "grid_row": null,
            "grid_template_areas": null,
            "grid_template_columns": null,
            "grid_template_rows": null,
            "height": null,
            "justify_content": null,
            "justify_items": null,
            "left": null,
            "margin": null,
            "max_height": null,
            "max_width": null,
            "min_height": null,
            "min_width": null,
            "object_fit": null,
            "object_position": null,
            "order": null,
            "overflow": null,
            "overflow_x": null,
            "overflow_y": null,
            "padding": null,
            "right": null,
            "top": null,
            "visibility": null,
            "width": null
          }
        },
        "52b2c31c39024479b61891f810c63953": {
          "model_module": "@jupyter-widgets/controls",
          "model_module_version": "1.5.0",
          "model_name": "HTMLModel",
          "state": {
            "_dom_classes": [],
            "_model_module": "@jupyter-widgets/controls",
            "_model_module_version": "1.5.0",
            "_model_name": "HTMLModel",
            "_view_count": null,
            "_view_module": "@jupyter-widgets/controls",
            "_view_module_version": "1.5.0",
            "_view_name": "HTMLView",
            "description": "",
            "description_tooltip": null,
            "layout": "IPY_MODEL_4fc5af050f2245e0a0a57a4f0c6bbd7f",
            "placeholder": "​",
            "style": "IPY_MODEL_0afae99fafcc49c8a318aeccd453570d",
            "value": "100%"
          }
        },
        "59d7e5e6471a426eaa0b7a8824127e0e": {
          "model_module": "@jupyter-widgets/base",
          "model_module_version": "1.2.0",
          "model_name": "LayoutModel",
          "state": {
            "_model_module": "@jupyter-widgets/base",
            "_model_module_version": "1.2.0",
            "_model_name": "LayoutModel",
            "_view_count": null,
            "_view_module": "@jupyter-widgets/base",
            "_view_module_version": "1.2.0",
            "_view_name": "LayoutView",
            "align_content": null,
            "align_items": null,
            "align_self": null,
            "border": null,
            "bottom": null,
            "display": null,
            "flex": null,
            "flex_flow": null,
            "grid_area": null,
            "grid_auto_columns": null,
            "grid_auto_flow": null,
            "grid_auto_rows": null,
            "grid_column": null,
            "grid_gap": null,
            "grid_row": null,
            "grid_template_areas": null,
            "grid_template_columns": null,
            "grid_template_rows": null,
            "height": null,
            "justify_content": null,
            "justify_items": null,
            "left": null,
            "margin": null,
            "max_height": null,
            "max_width": null,
            "min_height": null,
            "min_width": null,
            "object_fit": null,
            "object_position": null,
            "order": null,
            "overflow": null,
            "overflow_x": null,
            "overflow_y": null,
            "padding": null,
            "right": null,
            "top": null,
            "visibility": null,
            "width": null
          }
        },
        "670ea2fc34274f74a83e28e1015609b3": {
          "model_module": "@jupyter-widgets/base",
          "model_module_version": "1.2.0",
          "model_name": "LayoutModel",
          "state": {
            "_model_module": "@jupyter-widgets/base",
            "_model_module_version": "1.2.0",
            "_model_name": "LayoutModel",
            "_view_count": null,
            "_view_module": "@jupyter-widgets/base",
            "_view_module_version": "1.2.0",
            "_view_name": "LayoutView",
            "align_content": null,
            "align_items": null,
            "align_self": null,
            "border": null,
            "bottom": null,
            "display": null,
            "flex": null,
            "flex_flow": null,
            "grid_area": null,
            "grid_auto_columns": null,
            "grid_auto_flow": null,
            "grid_auto_rows": null,
            "grid_column": null,
            "grid_gap": null,
            "grid_row": null,
            "grid_template_areas": null,
            "grid_template_columns": null,
            "grid_template_rows": null,
            "height": null,
            "justify_content": null,
            "justify_items": null,
            "left": null,
            "margin": null,
            "max_height": null,
            "max_width": null,
            "min_height": null,
            "min_width": null,
            "object_fit": null,
            "object_position": null,
            "order": null,
            "overflow": null,
            "overflow_x": null,
            "overflow_y": null,
            "padding": null,
            "right": null,
            "top": null,
            "visibility": null,
            "width": null
          }
        },
        "6c44298cb38f44ad91e356af47225b88": {
          "model_module": "@jupyter-widgets/controls",
          "model_module_version": "1.5.0",
          "model_name": "HTMLModel",
          "state": {
            "_dom_classes": [],
            "_model_module": "@jupyter-widgets/controls",
            "_model_module_version": "1.5.0",
            "_model_name": "HTMLModel",
            "_view_count": null,
            "_view_module": "@jupyter-widgets/controls",
            "_view_module_version": "1.5.0",
            "_view_name": "HTMLView",
            "description": "",
            "description_tooltip": null,
            "layout": "IPY_MODEL_e431bca0354d4c0b948d17628e09c95d",
            "placeholder": "​",
            "style": "IPY_MODEL_cc70f9aca42f4f81b8abf9a8bc15d164",
            "value": "100%"
          }
        },
        "6cb51ddcdfb44e1f8e562d97020ec548": {
          "model_module": "@jupyter-widgets/controls",
          "model_module_version": "1.5.0",
          "model_name": "ProgressStyleModel",
          "state": {
            "_model_module": "@jupyter-widgets/controls",
            "_model_module_version": "1.5.0",
            "_model_name": "ProgressStyleModel",
            "_view_count": null,
            "_view_module": "@jupyter-widgets/base",
            "_view_module_version": "1.2.0",
            "_view_name": "StyleView",
            "bar_color": null,
            "description_width": ""
          }
        },
        "6cec1c4d6b8948d98c9c9bd9a52fa5e4": {
          "model_module": "@jupyter-widgets/controls",
          "model_module_version": "1.5.0",
          "model_name": "FloatProgressModel",
          "state": {
            "_dom_classes": [],
            "_model_module": "@jupyter-widgets/controls",
            "_model_module_version": "1.5.0",
            "_model_name": "FloatProgressModel",
            "_view_count": null,
            "_view_module": "@jupyter-widgets/controls",
            "_view_module_version": "1.5.0",
            "_view_name": "ProgressView",
            "bar_style": "success",
            "description": "",
            "description_tooltip": null,
            "layout": "IPY_MODEL_50af3fc5de1646f2b94022d9dc48c83b",
            "max": 293,
            "min": 0,
            "orientation": "horizontal",
            "style": "IPY_MODEL_92481ce80e7d43d7923e9bb238ee12cf",
            "value": 293
          }
        },
        "74c08b5283674dc7a251cd2236e8cf79": {
          "model_module": "@jupyter-widgets/controls",
          "model_module_version": "1.5.0",
          "model_name": "DescriptionStyleModel",
          "state": {
            "_model_module": "@jupyter-widgets/controls",
            "_model_module_version": "1.5.0",
            "_model_name": "DescriptionStyleModel",
            "_view_count": null,
            "_view_module": "@jupyter-widgets/base",
            "_view_module_version": "1.2.0",
            "_view_name": "StyleView",
            "description_width": ""
          }
        },
        "77bef106f21246498041b61ba72b8a14": {
          "model_module": "@jupyter-widgets/controls",
          "model_module_version": "1.5.0",
          "model_name": "HTMLModel",
          "state": {
            "_dom_classes": [],
            "_model_module": "@jupyter-widgets/controls",
            "_model_module_version": "1.5.0",
            "_model_name": "HTMLModel",
            "_view_count": null,
            "_view_module": "@jupyter-widgets/controls",
            "_view_module_version": "1.5.0",
            "_view_name": "HTMLView",
            "description": "",
            "description_tooltip": null,
            "layout": "IPY_MODEL_670ea2fc34274f74a83e28e1015609b3",
            "placeholder": "​",
            "style": "IPY_MODEL_a3d57991c59843dcbbfcdeabde832b62",
            "value": " 804/804 [03:44&lt;00:00,  1.29it/s]"
          }
        },
        "793435bbd40a41b4a7ae799ef72ca996": {
          "model_module": "@jupyter-widgets/base",
          "model_module_version": "1.2.0",
          "model_name": "LayoutModel",
          "state": {
            "_model_module": "@jupyter-widgets/base",
            "_model_module_version": "1.2.0",
            "_model_name": "LayoutModel",
            "_view_count": null,
            "_view_module": "@jupyter-widgets/base",
            "_view_module_version": "1.2.0",
            "_view_name": "LayoutView",
            "align_content": null,
            "align_items": null,
            "align_self": null,
            "border": null,
            "bottom": null,
            "display": null,
            "flex": null,
            "flex_flow": null,
            "grid_area": null,
            "grid_auto_columns": null,
            "grid_auto_flow": null,
            "grid_auto_rows": null,
            "grid_column": null,
            "grid_gap": null,
            "grid_row": null,
            "grid_template_areas": null,
            "grid_template_columns": null,
            "grid_template_rows": null,
            "height": null,
            "justify_content": null,
            "justify_items": null,
            "left": null,
            "margin": null,
            "max_height": null,
            "max_width": null,
            "min_height": null,
            "min_width": null,
            "object_fit": null,
            "object_position": null,
            "order": null,
            "overflow": null,
            "overflow_x": null,
            "overflow_y": null,
            "padding": null,
            "right": null,
            "top": null,
            "visibility": null,
            "width": null
          }
        },
        "83e7a7f74a644d0a81a0e4ae61c95475": {
          "model_module": "@jupyter-widgets/base",
          "model_module_version": "1.2.0",
          "model_name": "LayoutModel",
          "state": {
            "_model_module": "@jupyter-widgets/base",
            "_model_module_version": "1.2.0",
            "_model_name": "LayoutModel",
            "_view_count": null,
            "_view_module": "@jupyter-widgets/base",
            "_view_module_version": "1.2.0",
            "_view_name": "LayoutView",
            "align_content": null,
            "align_items": null,
            "align_self": null,
            "border": null,
            "bottom": null,
            "display": null,
            "flex": null,
            "flex_flow": null,
            "grid_area": null,
            "grid_auto_columns": null,
            "grid_auto_flow": null,
            "grid_auto_rows": null,
            "grid_column": null,
            "grid_gap": null,
            "grid_row": null,
            "grid_template_areas": null,
            "grid_template_columns": null,
            "grid_template_rows": null,
            "height": null,
            "justify_content": null,
            "justify_items": null,
            "left": null,
            "margin": null,
            "max_height": null,
            "max_width": null,
            "min_height": null,
            "min_width": null,
            "object_fit": null,
            "object_position": null,
            "order": null,
            "overflow": null,
            "overflow_x": null,
            "overflow_y": null,
            "padding": null,
            "right": null,
            "top": null,
            "visibility": null,
            "width": null
          }
        },
        "85877d0b57654cc997bf3b0de157ce2c": {
          "model_module": "@jupyter-widgets/controls",
          "model_module_version": "1.5.0",
          "model_name": "FloatProgressModel",
          "state": {
            "_dom_classes": [],
            "_model_module": "@jupyter-widgets/controls",
            "_model_module_version": "1.5.0",
            "_model_name": "FloatProgressModel",
            "_view_count": null,
            "_view_module": "@jupyter-widgets/controls",
            "_view_module_version": "1.5.0",
            "_view_name": "ProgressView",
            "bar_style": "success",
            "description": "",
            "description_tooltip": null,
            "layout": "IPY_MODEL_a470af39f60843dab4e57d2953db899d",
            "max": 804,
            "min": 0,
            "orientation": "horizontal",
            "style": "IPY_MODEL_ce617f64add64ade913747a77f264f6a",
            "value": 804
          }
        },
        "87c0eb619b614d6aa14a10bdbef59e34": {
          "model_module": "@jupyter-widgets/base",
          "model_module_version": "1.2.0",
          "model_name": "LayoutModel",
          "state": {
            "_model_module": "@jupyter-widgets/base",
            "_model_module_version": "1.2.0",
            "_model_name": "LayoutModel",
            "_view_count": null,
            "_view_module": "@jupyter-widgets/base",
            "_view_module_version": "1.2.0",
            "_view_name": "LayoutView",
            "align_content": null,
            "align_items": null,
            "align_self": null,
            "border": null,
            "bottom": null,
            "display": null,
            "flex": null,
            "flex_flow": null,
            "grid_area": null,
            "grid_auto_columns": null,
            "grid_auto_flow": null,
            "grid_auto_rows": null,
            "grid_column": null,
            "grid_gap": null,
            "grid_row": null,
            "grid_template_areas": null,
            "grid_template_columns": null,
            "grid_template_rows": null,
            "height": null,
            "justify_content": null,
            "justify_items": null,
            "left": null,
            "margin": null,
            "max_height": null,
            "max_width": null,
            "min_height": null,
            "min_width": null,
            "object_fit": null,
            "object_position": null,
            "order": null,
            "overflow": null,
            "overflow_x": null,
            "overflow_y": null,
            "padding": null,
            "right": null,
            "top": null,
            "visibility": null,
            "width": null
          }
        },
        "8e5a3e9fd287438da3af7ed8f47a4269": {
          "model_module": "@jupyter-widgets/controls",
          "model_module_version": "1.5.0",
          "model_name": "HBoxModel",
          "state": {
            "_dom_classes": [],
            "_model_module": "@jupyter-widgets/controls",
            "_model_module_version": "1.5.0",
            "_model_name": "HBoxModel",
            "_view_count": null,
            "_view_module": "@jupyter-widgets/controls",
            "_view_module_version": "1.5.0",
            "_view_name": "HBoxView",
            "box_style": "",
            "children": [
              "IPY_MODEL_6c44298cb38f44ad91e356af47225b88",
              "IPY_MODEL_e005b353ed6b4845ab7644998f7f6809",
              "IPY_MODEL_77bef106f21246498041b61ba72b8a14"
            ],
            "layout": "IPY_MODEL_d7bbc5578d2049c5a967f40f847e0b5d"
          }
        },
        "92481ce80e7d43d7923e9bb238ee12cf": {
          "model_module": "@jupyter-widgets/controls",
          "model_module_version": "1.5.0",
          "model_name": "ProgressStyleModel",
          "state": {
            "_model_module": "@jupyter-widgets/controls",
            "_model_module_version": "1.5.0",
            "_model_name": "ProgressStyleModel",
            "_view_count": null,
            "_view_module": "@jupyter-widgets/base",
            "_view_module_version": "1.2.0",
            "_view_name": "StyleView",
            "bar_color": null,
            "description_width": ""
          }
        },
        "93455f6549a4402fb440713750932fef": {
          "model_module": "@jupyter-widgets/controls",
          "model_module_version": "1.5.0",
          "model_name": "DescriptionStyleModel",
          "state": {
            "_model_module": "@jupyter-widgets/controls",
            "_model_module_version": "1.5.0",
            "_model_name": "DescriptionStyleModel",
            "_view_count": null,
            "_view_module": "@jupyter-widgets/base",
            "_view_module_version": "1.2.0",
            "_view_name": "StyleView",
            "description_width": ""
          }
        },
        "a3d57991c59843dcbbfcdeabde832b62": {
          "model_module": "@jupyter-widgets/controls",
          "model_module_version": "1.5.0",
          "model_name": "DescriptionStyleModel",
          "state": {
            "_model_module": "@jupyter-widgets/controls",
            "_model_module_version": "1.5.0",
            "_model_name": "DescriptionStyleModel",
            "_view_count": null,
            "_view_module": "@jupyter-widgets/base",
            "_view_module_version": "1.2.0",
            "_view_name": "StyleView",
            "description_width": ""
          }
        },
        "a41dc73f5caf4f59a8c491368b6ebf9f": {
          "model_module": "@jupyter-widgets/controls",
          "model_module_version": "1.5.0",
          "model_name": "HTMLModel",
          "state": {
            "_dom_classes": [],
            "_model_module": "@jupyter-widgets/controls",
            "_model_module_version": "1.5.0",
            "_model_name": "HTMLModel",
            "_view_count": null,
            "_view_module": "@jupyter-widgets/controls",
            "_view_module_version": "1.5.0",
            "_view_name": "HTMLView",
            "description": "",
            "description_tooltip": null,
            "layout": "IPY_MODEL_af90bbbbd0004d0f904f8a9daec10a48",
            "placeholder": "​",
            "style": "IPY_MODEL_74c08b5283674dc7a251cd2236e8cf79",
            "value": " 293/293 [01:10&lt;00:00,  3.93it/s]"
          }
        },
        "a470af39f60843dab4e57d2953db899d": {
          "model_module": "@jupyter-widgets/base",
          "model_module_version": "1.2.0",
          "model_name": "LayoutModel",
          "state": {
            "_model_module": "@jupyter-widgets/base",
            "_model_module_version": "1.2.0",
            "_model_name": "LayoutModel",
            "_view_count": null,
            "_view_module": "@jupyter-widgets/base",
            "_view_module_version": "1.2.0",
            "_view_name": "LayoutView",
            "align_content": null,
            "align_items": null,
            "align_self": null,
            "border": null,
            "bottom": null,
            "display": null,
            "flex": null,
            "flex_flow": null,
            "grid_area": null,
            "grid_auto_columns": null,
            "grid_auto_flow": null,
            "grid_auto_rows": null,
            "grid_column": null,
            "grid_gap": null,
            "grid_row": null,
            "grid_template_areas": null,
            "grid_template_columns": null,
            "grid_template_rows": null,
            "height": null,
            "justify_content": null,
            "justify_items": null,
            "left": null,
            "margin": null,
            "max_height": null,
            "max_width": null,
            "min_height": null,
            "min_width": null,
            "object_fit": null,
            "object_position": null,
            "order": null,
            "overflow": null,
            "overflow_x": null,
            "overflow_y": null,
            "padding": null,
            "right": null,
            "top": null,
            "visibility": null,
            "width": null
          }
        },
        "a494aa9596dc4d49964656d1e5a0b2c6": {
          "model_module": "@jupyter-widgets/controls",
          "model_module_version": "1.5.0",
          "model_name": "DescriptionStyleModel",
          "state": {
            "_model_module": "@jupyter-widgets/controls",
            "_model_module_version": "1.5.0",
            "_model_name": "DescriptionStyleModel",
            "_view_count": null,
            "_view_module": "@jupyter-widgets/base",
            "_view_module_version": "1.2.0",
            "_view_name": "StyleView",
            "description_width": ""
          }
        },
        "abd14469c5d44750a0366a6ee64f2193": {
          "model_module": "@jupyter-widgets/controls",
          "model_module_version": "1.5.0",
          "model_name": "ProgressStyleModel",
          "state": {
            "_model_module": "@jupyter-widgets/controls",
            "_model_module_version": "1.5.0",
            "_model_name": "ProgressStyleModel",
            "_view_count": null,
            "_view_module": "@jupyter-widgets/base",
            "_view_module_version": "1.2.0",
            "_view_name": "StyleView",
            "bar_color": null,
            "description_width": ""
          }
        },
        "af90bbbbd0004d0f904f8a9daec10a48": {
          "model_module": "@jupyter-widgets/base",
          "model_module_version": "1.2.0",
          "model_name": "LayoutModel",
          "state": {
            "_model_module": "@jupyter-widgets/base",
            "_model_module_version": "1.2.0",
            "_model_name": "LayoutModel",
            "_view_count": null,
            "_view_module": "@jupyter-widgets/base",
            "_view_module_version": "1.2.0",
            "_view_name": "LayoutView",
            "align_content": null,
            "align_items": null,
            "align_self": null,
            "border": null,
            "bottom": null,
            "display": null,
            "flex": null,
            "flex_flow": null,
            "grid_area": null,
            "grid_auto_columns": null,
            "grid_auto_flow": null,
            "grid_auto_rows": null,
            "grid_column": null,
            "grid_gap": null,
            "grid_row": null,
            "grid_template_areas": null,
            "grid_template_columns": null,
            "grid_template_rows": null,
            "height": null,
            "justify_content": null,
            "justify_items": null,
            "left": null,
            "margin": null,
            "max_height": null,
            "max_width": null,
            "min_height": null,
            "min_width": null,
            "object_fit": null,
            "object_position": null,
            "order": null,
            "overflow": null,
            "overflow_x": null,
            "overflow_y": null,
            "padding": null,
            "right": null,
            "top": null,
            "visibility": null,
            "width": null
          }
        },
        "b4613e7f5da44afab9ddddef6dcacf51": {
          "model_module": "@jupyter-widgets/controls",
          "model_module_version": "1.5.0",
          "model_name": "FloatProgressModel",
          "state": {
            "_dom_classes": [],
            "_model_module": "@jupyter-widgets/controls",
            "_model_module_version": "1.5.0",
            "_model_name": "FloatProgressModel",
            "_view_count": null,
            "_view_module": "@jupyter-widgets/controls",
            "_view_module_version": "1.5.0",
            "_view_name": "ProgressView",
            "bar_style": "success",
            "description": "",
            "description_tooltip": null,
            "layout": "IPY_MODEL_521d30efe29e4049be8dd0c6c12a0d2f",
            "max": 766,
            "min": 0,
            "orientation": "horizontal",
            "style": "IPY_MODEL_6cb51ddcdfb44e1f8e562d97020ec548",
            "value": 766
          }
        },
        "b48c0f8e99274ee391f10f7b6f82ef65": {
          "model_module": "@jupyter-widgets/base",
          "model_module_version": "1.2.0",
          "model_name": "LayoutModel",
          "state": {
            "_model_module": "@jupyter-widgets/base",
            "_model_module_version": "1.2.0",
            "_model_name": "LayoutModel",
            "_view_count": null,
            "_view_module": "@jupyter-widgets/base",
            "_view_module_version": "1.2.0",
            "_view_name": "LayoutView",
            "align_content": null,
            "align_items": null,
            "align_self": null,
            "border": null,
            "bottom": null,
            "display": null,
            "flex": null,
            "flex_flow": null,
            "grid_area": null,
            "grid_auto_columns": null,
            "grid_auto_flow": null,
            "grid_auto_rows": null,
            "grid_column": null,
            "grid_gap": null,
            "grid_row": null,
            "grid_template_areas": null,
            "grid_template_columns": null,
            "grid_template_rows": null,
            "height": null,
            "justify_content": null,
            "justify_items": null,
            "left": null,
            "margin": null,
            "max_height": null,
            "max_width": null,
            "min_height": null,
            "min_width": null,
            "object_fit": null,
            "object_position": null,
            "order": null,
            "overflow": null,
            "overflow_x": null,
            "overflow_y": null,
            "padding": null,
            "right": null,
            "top": null,
            "visibility": null,
            "width": null
          }
        },
        "bace33a2e1e94e46b147561e51440899": {
          "model_module": "@jupyter-widgets/controls",
          "model_module_version": "1.5.0",
          "model_name": "FloatProgressModel",
          "state": {
            "_dom_classes": [],
            "_model_module": "@jupyter-widgets/controls",
            "_model_module_version": "1.5.0",
            "_model_name": "FloatProgressModel",
            "_view_count": null,
            "_view_module": "@jupyter-widgets/controls",
            "_view_module_version": "1.5.0",
            "_view_name": "ProgressView",
            "bar_style": "success",
            "description": "",
            "description_tooltip": null,
            "layout": "IPY_MODEL_ca15d12cde804976a76f2013468740a8",
            "max": 804,
            "min": 0,
            "orientation": "horizontal",
            "style": "IPY_MODEL_0835a02905014bd0b1bf4975ef85ecae",
            "value": 804
          }
        },
        "c8458d926eb8432fa4cdd3a1566d7518": {
          "model_module": "@jupyter-widgets/base",
          "model_module_version": "1.2.0",
          "model_name": "LayoutModel",
          "state": {
            "_model_module": "@jupyter-widgets/base",
            "_model_module_version": "1.2.0",
            "_model_name": "LayoutModel",
            "_view_count": null,
            "_view_module": "@jupyter-widgets/base",
            "_view_module_version": "1.2.0",
            "_view_name": "LayoutView",
            "align_content": null,
            "align_items": null,
            "align_self": null,
            "border": null,
            "bottom": null,
            "display": null,
            "flex": null,
            "flex_flow": null,
            "grid_area": null,
            "grid_auto_columns": null,
            "grid_auto_flow": null,
            "grid_auto_rows": null,
            "grid_column": null,
            "grid_gap": null,
            "grid_row": null,
            "grid_template_areas": null,
            "grid_template_columns": null,
            "grid_template_rows": null,
            "height": null,
            "justify_content": null,
            "justify_items": null,
            "left": null,
            "margin": null,
            "max_height": null,
            "max_width": null,
            "min_height": null,
            "min_width": null,
            "object_fit": null,
            "object_position": null,
            "order": null,
            "overflow": null,
            "overflow_x": null,
            "overflow_y": null,
            "padding": null,
            "right": null,
            "top": null,
            "visibility": null,
            "width": null
          }
        },
        "ca15d12cde804976a76f2013468740a8": {
          "model_module": "@jupyter-widgets/base",
          "model_module_version": "1.2.0",
          "model_name": "LayoutModel",
          "state": {
            "_model_module": "@jupyter-widgets/base",
            "_model_module_version": "1.2.0",
            "_model_name": "LayoutModel",
            "_view_count": null,
            "_view_module": "@jupyter-widgets/base",
            "_view_module_version": "1.2.0",
            "_view_name": "LayoutView",
            "align_content": null,
            "align_items": null,
            "align_self": null,
            "border": null,
            "bottom": null,
            "display": null,
            "flex": null,
            "flex_flow": null,
            "grid_area": null,
            "grid_auto_columns": null,
            "grid_auto_flow": null,
            "grid_auto_rows": null,
            "grid_column": null,
            "grid_gap": null,
            "grid_row": null,
            "grid_template_areas": null,
            "grid_template_columns": null,
            "grid_template_rows": null,
            "height": null,
            "justify_content": null,
            "justify_items": null,
            "left": null,
            "margin": null,
            "max_height": null,
            "max_width": null,
            "min_height": null,
            "min_width": null,
            "object_fit": null,
            "object_position": null,
            "order": null,
            "overflow": null,
            "overflow_x": null,
            "overflow_y": null,
            "padding": null,
            "right": null,
            "top": null,
            "visibility": null,
            "width": null
          }
        },
        "cc70f9aca42f4f81b8abf9a8bc15d164": {
          "model_module": "@jupyter-widgets/controls",
          "model_module_version": "1.5.0",
          "model_name": "DescriptionStyleModel",
          "state": {
            "_model_module": "@jupyter-widgets/controls",
            "_model_module_version": "1.5.0",
            "_model_name": "DescriptionStyleModel",
            "_view_count": null,
            "_view_module": "@jupyter-widgets/base",
            "_view_module_version": "1.2.0",
            "_view_name": "StyleView",
            "description_width": ""
          }
        },
        "ce617f64add64ade913747a77f264f6a": {
          "model_module": "@jupyter-widgets/controls",
          "model_module_version": "1.5.0",
          "model_name": "ProgressStyleModel",
          "state": {
            "_model_module": "@jupyter-widgets/controls",
            "_model_module_version": "1.5.0",
            "_model_name": "ProgressStyleModel",
            "_view_count": null,
            "_view_module": "@jupyter-widgets/base",
            "_view_module_version": "1.2.0",
            "_view_name": "StyleView",
            "bar_color": null,
            "description_width": ""
          }
        },
        "d7bbc5578d2049c5a967f40f847e0b5d": {
          "model_module": "@jupyter-widgets/base",
          "model_module_version": "1.2.0",
          "model_name": "LayoutModel",
          "state": {
            "_model_module": "@jupyter-widgets/base",
            "_model_module_version": "1.2.0",
            "_model_name": "LayoutModel",
            "_view_count": null,
            "_view_module": "@jupyter-widgets/base",
            "_view_module_version": "1.2.0",
            "_view_name": "LayoutView",
            "align_content": null,
            "align_items": null,
            "align_self": null,
            "border": null,
            "bottom": null,
            "display": null,
            "flex": null,
            "flex_flow": null,
            "grid_area": null,
            "grid_auto_columns": null,
            "grid_auto_flow": null,
            "grid_auto_rows": null,
            "grid_column": null,
            "grid_gap": null,
            "grid_row": null,
            "grid_template_areas": null,
            "grid_template_columns": null,
            "grid_template_rows": null,
            "height": null,
            "justify_content": null,
            "justify_items": null,
            "left": null,
            "margin": null,
            "max_height": null,
            "max_width": null,
            "min_height": null,
            "min_width": null,
            "object_fit": null,
            "object_position": null,
            "order": null,
            "overflow": null,
            "overflow_x": null,
            "overflow_y": null,
            "padding": null,
            "right": null,
            "top": null,
            "visibility": null,
            "width": null
          }
        },
        "d895b8b2fd694dd5988f31c7f9430fec": {
          "model_module": "@jupyter-widgets/controls",
          "model_module_version": "1.5.0",
          "model_name": "HBoxModel",
          "state": {
            "_dom_classes": [],
            "_model_module": "@jupyter-widgets/controls",
            "_model_module_version": "1.5.0",
            "_model_name": "HBoxModel",
            "_view_count": null,
            "_view_module": "@jupyter-widgets/controls",
            "_view_module_version": "1.5.0",
            "_view_name": "HBoxView",
            "box_style": "",
            "children": [
              "IPY_MODEL_4cc88f64551a45c2a2aa3c1efc7137b6",
              "IPY_MODEL_6cec1c4d6b8948d98c9c9bd9a52fa5e4",
              "IPY_MODEL_a41dc73f5caf4f59a8c491368b6ebf9f"
            ],
            "layout": "IPY_MODEL_793435bbd40a41b4a7ae799ef72ca996"
          }
        },
        "dc7505a241264fa2be96c28436207db0": {
          "model_module": "@jupyter-widgets/controls",
          "model_module_version": "1.5.0",
          "model_name": "HBoxModel",
          "state": {
            "_dom_classes": [],
            "_model_module": "@jupyter-widgets/controls",
            "_model_module_version": "1.5.0",
            "_model_name": "HBoxModel",
            "_view_count": null,
            "_view_module": "@jupyter-widgets/controls",
            "_view_module_version": "1.5.0",
            "_view_name": "HBoxView",
            "box_style": "",
            "children": [
              "IPY_MODEL_f11b0cb6112b4dbe95d708986bf97a68",
              "IPY_MODEL_b4613e7f5da44afab9ddddef6dcacf51",
              "IPY_MODEL_398efc4a630f47cc9c27707d177d7cc0"
            ],
            "layout": "IPY_MODEL_87c0eb619b614d6aa14a10bdbef59e34"
          }
        },
        "e005b353ed6b4845ab7644998f7f6809": {
          "model_module": "@jupyter-widgets/controls",
          "model_module_version": "1.5.0",
          "model_name": "FloatProgressModel",
          "state": {
            "_dom_classes": [],
            "_model_module": "@jupyter-widgets/controls",
            "_model_module_version": "1.5.0",
            "_model_name": "FloatProgressModel",
            "_view_count": null,
            "_view_module": "@jupyter-widgets/controls",
            "_view_module_version": "1.5.0",
            "_view_name": "ProgressView",
            "bar_style": "success",
            "description": "",
            "description_tooltip": null,
            "layout": "IPY_MODEL_1bf3e1cf6bc342c5bfc9c45ee8fe96cd",
            "max": 804,
            "min": 0,
            "orientation": "horizontal",
            "style": "IPY_MODEL_abd14469c5d44750a0366a6ee64f2193",
            "value": 804
          }
        },
        "e431bca0354d4c0b948d17628e09c95d": {
          "model_module": "@jupyter-widgets/base",
          "model_module_version": "1.2.0",
          "model_name": "LayoutModel",
          "state": {
            "_model_module": "@jupyter-widgets/base",
            "_model_module_version": "1.2.0",
            "_model_name": "LayoutModel",
            "_view_count": null,
            "_view_module": "@jupyter-widgets/base",
            "_view_module_version": "1.2.0",
            "_view_name": "LayoutView",
            "align_content": null,
            "align_items": null,
            "align_self": null,
            "border": null,
            "bottom": null,
            "display": null,
            "flex": null,
            "flex_flow": null,
            "grid_area": null,
            "grid_auto_columns": null,
            "grid_auto_flow": null,
            "grid_auto_rows": null,
            "grid_column": null,
            "grid_gap": null,
            "grid_row": null,
            "grid_template_areas": null,
            "grid_template_columns": null,
            "grid_template_rows": null,
            "height": null,
            "justify_content": null,
            "justify_items": null,
            "left": null,
            "margin": null,
            "max_height": null,
            "max_width": null,
            "min_height": null,
            "min_width": null,
            "object_fit": null,
            "object_position": null,
            "order": null,
            "overflow": null,
            "overflow_x": null,
            "overflow_y": null,
            "padding": null,
            "right": null,
            "top": null,
            "visibility": null,
            "width": null
          }
        },
        "e896b60e93b84045b9f968b599ea2b9c": {
          "model_module": "@jupyter-widgets/controls",
          "model_module_version": "1.5.0",
          "model_name": "HBoxModel",
          "state": {
            "_dom_classes": [],
            "_model_module": "@jupyter-widgets/controls",
            "_model_module_version": "1.5.0",
            "_model_name": "HBoxModel",
            "_view_count": null,
            "_view_module": "@jupyter-widgets/controls",
            "_view_module_version": "1.5.0",
            "_view_name": "HBoxView",
            "box_style": "",
            "children": [
              "IPY_MODEL_25e12f9c0d4b4fa7bc0582b157c0534f",
              "IPY_MODEL_85877d0b57654cc997bf3b0de157ce2c",
              "IPY_MODEL_33472ae7e48e42e1a94db93c497ffe97"
            ],
            "layout": "IPY_MODEL_c8458d926eb8432fa4cdd3a1566d7518"
          }
        },
        "f11b0cb6112b4dbe95d708986bf97a68": {
          "model_module": "@jupyter-widgets/controls",
          "model_module_version": "1.5.0",
          "model_name": "HTMLModel",
          "state": {
            "_dom_classes": [],
            "_model_module": "@jupyter-widgets/controls",
            "_model_module_version": "1.5.0",
            "_model_name": "HTMLModel",
            "_view_count": null,
            "_view_module": "@jupyter-widgets/controls",
            "_view_module_version": "1.5.0",
            "_view_name": "HTMLView",
            "description": "",
            "description_tooltip": null,
            "layout": "IPY_MODEL_b48c0f8e99274ee391f10f7b6f82ef65",
            "placeholder": "​",
            "style": "IPY_MODEL_22d2d0a3ee044435964c21ec184c31b8",
            "value": "100%"
          }
        },
        "f38a7f893f6e4db68348a7a9334bd872": {
          "model_module": "@jupyter-widgets/base",
          "model_module_version": "1.2.0",
          "model_name": "LayoutModel",
          "state": {
            "_model_module": "@jupyter-widgets/base",
            "_model_module_version": "1.2.0",
            "_model_name": "LayoutModel",
            "_view_count": null,
            "_view_module": "@jupyter-widgets/base",
            "_view_module_version": "1.2.0",
            "_view_name": "LayoutView",
            "align_content": null,
            "align_items": null,
            "align_self": null,
            "border": null,
            "bottom": null,
            "display": null,
            "flex": null,
            "flex_flow": null,
            "grid_area": null,
            "grid_auto_columns": null,
            "grid_auto_flow": null,
            "grid_auto_rows": null,
            "grid_column": null,
            "grid_gap": null,
            "grid_row": null,
            "grid_template_areas": null,
            "grid_template_columns": null,
            "grid_template_rows": null,
            "height": null,
            "justify_content": null,
            "justify_items": null,
            "left": null,
            "margin": null,
            "max_height": null,
            "max_width": null,
            "min_height": null,
            "min_width": null,
            "object_fit": null,
            "object_position": null,
            "order": null,
            "overflow": null,
            "overflow_x": null,
            "overflow_y": null,
            "padding": null,
            "right": null,
            "top": null,
            "visibility": null,
            "width": null
          }
        },
        "f69ee1ff7c8a4ccf9a4b828b06cddefc": {
          "model_module": "@jupyter-widgets/controls",
          "model_module_version": "1.5.0",
          "model_name": "HBoxModel",
          "state": {
            "_dom_classes": [],
            "_model_module": "@jupyter-widgets/controls",
            "_model_module_version": "1.5.0",
            "_model_name": "HBoxModel",
            "_view_count": null,
            "_view_module": "@jupyter-widgets/controls",
            "_view_module_version": "1.5.0",
            "_view_name": "HBoxView",
            "box_style": "",
            "children": [
              "IPY_MODEL_52b2c31c39024479b61891f810c63953",
              "IPY_MODEL_bace33a2e1e94e46b147561e51440899",
              "IPY_MODEL_096a8a7e3e894fdd93a545ed60201e3e"
            ],
            "layout": "IPY_MODEL_83e7a7f74a644d0a81a0e4ae61c95475"
          }
        },
        "fd7620b77b9d4227a21fa5d47d327e4d": {
          "model_module": "@jupyter-widgets/base",
          "model_module_version": "1.2.0",
          "model_name": "LayoutModel",
          "state": {
            "_model_module": "@jupyter-widgets/base",
            "_model_module_version": "1.2.0",
            "_model_name": "LayoutModel",
            "_view_count": null,
            "_view_module": "@jupyter-widgets/base",
            "_view_module_version": "1.2.0",
            "_view_name": "LayoutView",
            "align_content": null,
            "align_items": null,
            "align_self": null,
            "border": null,
            "bottom": null,
            "display": null,
            "flex": null,
            "flex_flow": null,
            "grid_area": null,
            "grid_auto_columns": null,
            "grid_auto_flow": null,
            "grid_auto_rows": null,
            "grid_column": null,
            "grid_gap": null,
            "grid_row": null,
            "grid_template_areas": null,
            "grid_template_columns": null,
            "grid_template_rows": null,
            "height": null,
            "justify_content": null,
            "justify_items": null,
            "left": null,
            "margin": null,
            "max_height": null,
            "max_width": null,
            "min_height": null,
            "min_width": null,
            "object_fit": null,
            "object_position": null,
            "order": null,
            "overflow": null,
            "overflow_x": null,
            "overflow_y": null,
            "padding": null,
            "right": null,
            "top": null,
            "visibility": null,
            "width": null
          }
        }
      }
    }
  },
  "nbformat": 4,
  "nbformat_minor": 0
}
